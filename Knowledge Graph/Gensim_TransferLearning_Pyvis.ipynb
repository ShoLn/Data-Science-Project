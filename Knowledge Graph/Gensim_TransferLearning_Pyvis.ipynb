{
  "nbformat": 4,
  "nbformat_minor": 0,
  "metadata": {
    "colab": {
      "name": "Gensim_TransferLearning_Pyvis.ipynb",
      "provenance": [],
      "collapsed_sections": [],
      "authorship_tag": "ABX9TyP/RRumC9pVibJIkeFQaOi8",
      "include_colab_link": true
    },
    "kernelspec": {
      "name": "python3",
      "display_name": "Python 3"
    },
    "language_info": {
      "name": "python"
    }
  },
  "cells": [
    {
      "cell_type": "markdown",
      "metadata": {
        "id": "view-in-github",
        "colab_type": "text"
      },
      "source": [
        "<a href=\"https://colab.research.google.com/github/CubatLin/Data-Science-Project/blob/main/Knowledge%20Graph/Gensim_TransferLearning_Pyvis.ipynb\" target=\"_parent\"><img src=\"https://colab.research.google.com/assets/colab-badge.svg\" alt=\"Open In Colab\"/></a>"
      ]
    },
    {
      "cell_type": "markdown",
      "source": [
        "Author : Ethan Wu\n",
        "## Data Structue\n",
        "* pd_data：產品代號｜品牌｜產品名稱｜品項特性\n",
        "* cus_data：客戶ID｜Attribute\n",
        "* order_data: 產品代號｜客戶ID"
      ],
      "metadata": {
        "id": "j8mTOEQDWYif"
      }
    },
    {
      "cell_type": "code",
      "source": [
        "import pandas as pd\n",
        "pd_data =[['001','Brand_A','earphone','waterproof'],\n",
        "                      ['002','Brand_A','earphone','3C'],\n",
        "                      ['003','Brand_A','earphone','fashion-designed'],\n",
        "                      ['004','Brand_A','mouse','3C'],\n",
        "                      ['005','Brand_A','mouse','FPS'],\n",
        "\n",
        "                      ['006','Brand_B','bikini','one-piece'],\n",
        "                      ['007','Brand_B','bikini','fashion-designed'],\n",
        "                      ['008','Brand_B','swimsuit','one-piece']\n",
        "            ]\n",
        "\n",
        "pd_data = pd.DataFrame(pd_data)\n",
        "pd_data.columns = ['Pd_code','Brand','Product_Name','Attribute']\n",
        "pd_data.head(3)"
      ],
      "metadata": {
        "colab": {
          "base_uri": "https://localhost:8080/",
          "height": 143
        },
        "id": "quMKc8AIWYCH",
        "outputId": "3d7db28f-7f44-45e0-a5c8-2cb5c3f76c19"
      },
      "execution_count": 1,
      "outputs": [
        {
          "output_type": "execute_result",
          "data": {
            "text/html": [
              "<div>\n",
              "<style scoped>\n",
              "    .dataframe tbody tr th:only-of-type {\n",
              "        vertical-align: middle;\n",
              "    }\n",
              "\n",
              "    .dataframe tbody tr th {\n",
              "        vertical-align: top;\n",
              "    }\n",
              "\n",
              "    .dataframe thead th {\n",
              "        text-align: right;\n",
              "    }\n",
              "</style>\n",
              "<table border=\"1\" class=\"dataframe\">\n",
              "  <thead>\n",
              "    <tr style=\"text-align: right;\">\n",
              "      <th></th>\n",
              "      <th>Pd_code</th>\n",
              "      <th>Brand</th>\n",
              "      <th>Product_Name</th>\n",
              "      <th>Attribute</th>\n",
              "    </tr>\n",
              "  </thead>\n",
              "  <tbody>\n",
              "    <tr>\n",
              "      <th>0</th>\n",
              "      <td>001</td>\n",
              "      <td>Brand_A</td>\n",
              "      <td>earphone</td>\n",
              "      <td>waterproof</td>\n",
              "    </tr>\n",
              "    <tr>\n",
              "      <th>1</th>\n",
              "      <td>002</td>\n",
              "      <td>Brand_A</td>\n",
              "      <td>earphone</td>\n",
              "      <td>3C</td>\n",
              "    </tr>\n",
              "    <tr>\n",
              "      <th>2</th>\n",
              "      <td>003</td>\n",
              "      <td>Brand_A</td>\n",
              "      <td>earphone</td>\n",
              "      <td>fashion-designed</td>\n",
              "    </tr>\n",
              "  </tbody>\n",
              "</table>\n",
              "</div>"
            ],
            "text/plain": [
              "  Pd_code    Brand Product_Name         Attribute\n",
              "0     001  Brand_A     earphone        waterproof\n",
              "1     002  Brand_A     earphone                3C\n",
              "2     003  Brand_A     earphone  fashion-designed"
            ]
          },
          "metadata": {},
          "execution_count": 1
        }
      ]
    },
    {
      "cell_type": "code",
      "execution_count": 2,
      "metadata": {
        "colab": {
          "base_uri": "https://localhost:8080/",
          "height": 143
        },
        "id": "6yuXy__nWCte",
        "outputId": "c61f53a5-5d67-477e-ad27-581a02213306"
      },
      "outputs": [
        {
          "output_type": "execute_result",
          "data": {
            "text/html": [
              "<div>\n",
              "<style scoped>\n",
              "    .dataframe tbody tr th:only-of-type {\n",
              "        vertical-align: middle;\n",
              "    }\n",
              "\n",
              "    .dataframe tbody tr th {\n",
              "        vertical-align: top;\n",
              "    }\n",
              "\n",
              "    .dataframe thead th {\n",
              "        text-align: right;\n",
              "    }\n",
              "</style>\n",
              "<table border=\"1\" class=\"dataframe\">\n",
              "  <thead>\n",
              "    <tr style=\"text-align: right;\">\n",
              "      <th></th>\n",
              "      <th>Pd_code</th>\n",
              "      <th>Cust_ID</th>\n",
              "    </tr>\n",
              "  </thead>\n",
              "  <tbody>\n",
              "    <tr>\n",
              "      <th>0</th>\n",
              "      <td>001</td>\n",
              "      <td>ID_A</td>\n",
              "    </tr>\n",
              "    <tr>\n",
              "      <th>1</th>\n",
              "      <td>002</td>\n",
              "      <td>ID_B</td>\n",
              "    </tr>\n",
              "    <tr>\n",
              "      <th>2</th>\n",
              "      <td>003</td>\n",
              "      <td>ID_A</td>\n",
              "    </tr>\n",
              "  </tbody>\n",
              "</table>\n",
              "</div>"
            ],
            "text/plain": [
              "  Pd_code Cust_ID\n",
              "0     001    ID_A\n",
              "1     002    ID_B\n",
              "2     003    ID_A"
            ]
          },
          "metadata": {},
          "execution_count": 2
        }
      ],
      "source": [
        "order_data =[['001','ID_A'],\n",
        "              ['002','ID_B'],\n",
        "              ['003','ID_A'],\n",
        "              ['004','ID_A'],\n",
        "              ['005','ID_B'],\n",
        "              ['006','ID_C'],\n",
        "              ['007','ID_B'],\n",
        "              ['008','ID_A']]\n",
        "\n",
        "order_data = pd.DataFrame(order_data)\n",
        "order_data.columns = ['Pd_code','Cust_ID']\n",
        "order_data.head(3)"
      ]
    },
    {
      "cell_type": "code",
      "source": [
        "cust_array =[['ID_A','starbucks_flg','internet_flg','drink_flg','house_flg'],\n",
        "             ['ID_B','starbucks_flg','drink_flg','scooter_flg'],\n",
        "             ['ID_C','bar_flg','shopping_flg'],\n",
        "            ]"
      ],
      "metadata": {
        "id": "vehYTqvFau9U"
      },
      "execution_count": 3,
      "outputs": []
    },
    {
      "cell_type": "code",
      "source": [
        "#轉換資料格式\n",
        "pd_data_dic = {}\n",
        "for x in pd_data.values:\n",
        "  pd_data_dic[x[0]] = list(x[1:])\n",
        "\n",
        "pd_data_dic['001']"
      ],
      "metadata": {
        "colab": {
          "base_uri": "https://localhost:8080/"
        },
        "id": "Ya8w1mBJa9xz",
        "outputId": "d025dd1e-d337-4ba9-af27-6f609433e0ab"
      },
      "execution_count": 4,
      "outputs": [
        {
          "output_type": "execute_result",
          "data": {
            "text/plain": [
              "['Brand_A', 'earphone', 'waterproof']"
            ]
          },
          "metadata": {},
          "execution_count": 4
        }
      ]
    },
    {
      "cell_type": "code",
      "source": [
        "cust_data_dic = {}\n",
        "for x in cust_array:\n",
        "  cust_data_dic[x[0]] = x[1:]\n",
        "\n",
        "cust_data_dic['ID_A']\n"
      ],
      "metadata": {
        "colab": {
          "base_uri": "https://localhost:8080/"
        },
        "id": "UEIoKjvKcy4u",
        "outputId": "23886809-fecf-4643-e107-4257a9089c1a"
      },
      "execution_count": 5,
      "outputs": [
        {
          "output_type": "execute_result",
          "data": {
            "text/plain": [
              "['starbucks_flg', 'internet_flg', 'drink_flg', 'house_flg']"
            ]
          },
          "metadata": {},
          "execution_count": 5
        }
      ]
    },
    {
      "cell_type": "code",
      "source": [
        "#Join\n",
        "data_model = []\n",
        "\n",
        "for x in order_data.values:\n",
        "  data_model.append( pd_data_dic[x[0]] +cust_data_dic[x[1]])"
      ],
      "metadata": {
        "id": "pN9bbWN_c1O2"
      },
      "execution_count": 6,
      "outputs": []
    },
    {
      "cell_type": "code",
      "source": [
        "data_model"
      ],
      "metadata": {
        "colab": {
          "base_uri": "https://localhost:8080/"
        },
        "id": "0bfP7oWDdqHc",
        "outputId": "3ff59149-cf31-4a81-97f4-9b01b02ac38b"
      },
      "execution_count": 7,
      "outputs": [
        {
          "output_type": "execute_result",
          "data": {
            "text/plain": [
              "[['Brand_A',\n",
              "  'earphone',\n",
              "  'waterproof',\n",
              "  'starbucks_flg',\n",
              "  'internet_flg',\n",
              "  'drink_flg',\n",
              "  'house_flg'],\n",
              " ['Brand_A', 'earphone', '3C', 'starbucks_flg', 'drink_flg', 'scooter_flg'],\n",
              " ['Brand_A',\n",
              "  'earphone',\n",
              "  'fashion-designed',\n",
              "  'starbucks_flg',\n",
              "  'internet_flg',\n",
              "  'drink_flg',\n",
              "  'house_flg'],\n",
              " ['Brand_A',\n",
              "  'mouse',\n",
              "  '3C',\n",
              "  'starbucks_flg',\n",
              "  'internet_flg',\n",
              "  'drink_flg',\n",
              "  'house_flg'],\n",
              " ['Brand_A', 'mouse', 'FPS', 'starbucks_flg', 'drink_flg', 'scooter_flg'],\n",
              " ['Brand_B', 'bikini', 'one-piece', 'bar_flg', 'shopping_flg'],\n",
              " ['Brand_B',\n",
              "  'bikini',\n",
              "  'fashion-designed',\n",
              "  'starbucks_flg',\n",
              "  'drink_flg',\n",
              "  'scooter_flg'],\n",
              " ['Brand_B',\n",
              "  'swimsuit',\n",
              "  'one-piece',\n",
              "  'starbucks_flg',\n",
              "  'internet_flg',\n",
              "  'drink_flg',\n",
              "  'house_flg']]"
            ]
          },
          "metadata": {},
          "execution_count": 7
        }
      ]
    },
    {
      "cell_type": "markdown",
      "source": [
        "## Transfer Learning"
      ],
      "metadata": {
        "id": "ekUS08MxaTcz"
      }
    },
    {
      "cell_type": "code",
      "source": [
        "def import_data_from_drive(id):\n",
        "  !wget --save-cookies cookies.txt 'https://docs.google.com/uc?export=download&id='{id} -O- \\\n",
        "  | sed -rn 's/.*confirm=([0-9A-Za-z_]+).*/\\1/p' > confirm.txt && wget --content-disposition --load-cookies cookies.txt 'https://docs.google.com/uc?export=download&id='{id}'&confirm='$(<confirm.txt)"
      ],
      "metadata": {
        "id": "47DAjBn_apQw"
      },
      "execution_count": 8,
      "outputs": []
    },
    {
      "cell_type": "code",
      "source": [
        "%%time\n",
        "import_data_from_drive('1zcTm-OG-oRZSw0ef-V_nY8RsSBgWn1Pb')"
      ],
      "metadata": {
        "colab": {
          "base_uri": "https://localhost:8080/"
        },
        "id": "3nSatY8Iaqcz",
        "outputId": "05729e5e-82e0-4911-ba3c-dd1cbb4c7ddc"
      },
      "execution_count": 9,
      "outputs": [
        {
          "output_type": "stream",
          "name": "stdout",
          "text": [
            "--2021-12-10 01:10:46--  https://docs.google.com/uc?export=download&id=1zcTm-OG-oRZSw0ef-V_nY8RsSBgWn1Pb\n",
            "Resolving docs.google.com (docs.google.com)... 74.125.142.138, 74.125.142.113, 74.125.142.102, ...\n",
            "Connecting to docs.google.com (docs.google.com)|74.125.142.138|:443... connected.\n",
            "HTTP request sent, awaiting response... 200 OK\n",
            "Length: unspecified [text/html]\n",
            "Saving to: ‘STDOUT’\n",
            "\n",
            "\r-                       [<=>                 ]       0  --.-KB/s               \r-                       [ <=>                ]   3.19K  --.-KB/s    in 0s      \n",
            "\n",
            "2021-12-10 01:10:46 (51.0 MB/s) - written to stdout [3268]\n",
            "\n",
            "--2021-12-10 01:10:46--  https://docs.google.com/uc?export=download&id=1zcTm-OG-oRZSw0ef-V_nY8RsSBgWn1Pb&confirm=JUka\n",
            "Resolving docs.google.com (docs.google.com)... 74.125.195.139, 74.125.195.100, 74.125.195.101, ...\n",
            "Connecting to docs.google.com (docs.google.com)|74.125.195.139|:443... connected.\n",
            "HTTP request sent, awaiting response... 302 Moved Temporarily\n",
            "Location: https://doc-0s-4k-docs.googleusercontent.com/docs/securesc/47hot7e5i85u7s2f2b77cbhsb1cbr5o2/bdmk2c0tmpo4o4t0sb4e191itvhcn2q7/1639098600000/12626892632851982799/11741869358186548917Z/1zcTm-OG-oRZSw0ef-V_nY8RsSBgWn1Pb?e=download [following]\n",
            "--2021-12-10 01:10:46--  https://doc-0s-4k-docs.googleusercontent.com/docs/securesc/47hot7e5i85u7s2f2b77cbhsb1cbr5o2/bdmk2c0tmpo4o4t0sb4e191itvhcn2q7/1639098600000/12626892632851982799/11741869358186548917Z/1zcTm-OG-oRZSw0ef-V_nY8RsSBgWn1Pb?e=download\n",
            "Resolving doc-0s-4k-docs.googleusercontent.com (doc-0s-4k-docs.googleusercontent.com)... 74.125.142.132, 2607:f8b0:400e:c08::84\n",
            "Connecting to doc-0s-4k-docs.googleusercontent.com (doc-0s-4k-docs.googleusercontent.com)|74.125.142.132|:443... connected.\n",
            "HTTP request sent, awaiting response... 302 Found\n",
            "Location: https://docs.google.com/nonceSigner?nonce=7uenk27k755pm&continue=https://doc-0s-4k-docs.googleusercontent.com/docs/securesc/47hot7e5i85u7s2f2b77cbhsb1cbr5o2/bdmk2c0tmpo4o4t0sb4e191itvhcn2q7/1639098600000/12626892632851982799/11741869358186548917Z/1zcTm-OG-oRZSw0ef-V_nY8RsSBgWn1Pb?e%3Ddownload&hash=mjl1tf76d1egoufnbeml5kuf5bfl0idb [following]\n",
            "--2021-12-10 01:10:46--  https://docs.google.com/nonceSigner?nonce=7uenk27k755pm&continue=https://doc-0s-4k-docs.googleusercontent.com/docs/securesc/47hot7e5i85u7s2f2b77cbhsb1cbr5o2/bdmk2c0tmpo4o4t0sb4e191itvhcn2q7/1639098600000/12626892632851982799/11741869358186548917Z/1zcTm-OG-oRZSw0ef-V_nY8RsSBgWn1Pb?e%3Ddownload&hash=mjl1tf76d1egoufnbeml5kuf5bfl0idb\n",
            "Connecting to docs.google.com (docs.google.com)|74.125.195.139|:443... connected.\n",
            "HTTP request sent, awaiting response... 302 Found\n",
            "The name is too long, 325 chars total.\n",
            "Trying to shorten...\n",
            "New name is nonceSigner?nonce=7uenk27k755pm&continue=https:%2F%2Fdoc-0s-4k-docs.googleusercontent.com%2Fdocs%2Fsecuresc%2F47hot7e5i85u7s2f2b77cbhsb1cbr5o2%2Fbdmk2c0tmpo4o4t0sb4e191itvhcn2q7%2F1639098600000%2F12626892632851982799%2F11741869358186548.\n",
            "Location: https://doc-0s-4k-docs.googleusercontent.com/docs/securesc/47hot7e5i85u7s2f2b77cbhsb1cbr5o2/bdmk2c0tmpo4o4t0sb4e191itvhcn2q7/1639098600000/12626892632851982799/11741869358186548917Z/1zcTm-OG-oRZSw0ef-V_nY8RsSBgWn1Pb?e=download&nonce=7uenk27k755pm&user=11741869358186548917Z&hash=h59tef6jpg05frdpepkhdoiva4h6f1np [following]\n",
            "--2021-12-10 01:10:46--  https://doc-0s-4k-docs.googleusercontent.com/docs/securesc/47hot7e5i85u7s2f2b77cbhsb1cbr5o2/bdmk2c0tmpo4o4t0sb4e191itvhcn2q7/1639098600000/12626892632851982799/11741869358186548917Z/1zcTm-OG-oRZSw0ef-V_nY8RsSBgWn1Pb?e=download&nonce=7uenk27k755pm&user=11741869358186548917Z&hash=h59tef6jpg05frdpepkhdoiva4h6f1np\n",
            "Connecting to doc-0s-4k-docs.googleusercontent.com (doc-0s-4k-docs.googleusercontent.com)|74.125.142.132|:443... connected.\n",
            "HTTP request sent, awaiting response... 200 OK\n",
            "Length: 587001145 (560M) [application/zip]\n",
            "Saving to: ‘CWE01.zip’\n",
            "\n",
            "CWE01.zip           100%[===================>] 559.81M   166MB/s    in 3.4s    \n",
            "\n",
            "2021-12-10 01:10:50 (166 MB/s) - ‘CWE01.zip’ saved [587001145/587001145]\n",
            "\n",
            "CPU times: user 67.3 ms, sys: 26.8 ms, total: 94.1 ms\n",
            "Wall time: 4.37 s\n"
          ]
        }
      ]
    },
    {
      "cell_type": "code",
      "source": [
        "!unzip CWE01.zip"
      ],
      "metadata": {
        "colab": {
          "base_uri": "https://localhost:8080/"
        },
        "id": "ZGQTMtAmgS1z",
        "outputId": "1040cf54-a08a-405e-f990-a21fcd4b901b"
      },
      "execution_count": 10,
      "outputs": [
        {
          "output_type": "stream",
          "name": "stdout",
          "text": [
            "Archive:  CWE01.zip\n",
            "  inflating: w2v_CNA_ASBC_300d.vec   \n"
          ]
        }
      ]
    },
    {
      "cell_type": "code",
      "source": [
        "import gensim\n",
        "import os; os.getcwd()"
      ],
      "metadata": {
        "colab": {
          "base_uri": "https://localhost:8080/",
          "height": 35
        },
        "id": "IK2rFIl4axDL",
        "outputId": "d8e16a8c-0612-4410-fec5-b0cd5b8b49f3"
      },
      "execution_count": 11,
      "outputs": [
        {
          "output_type": "execute_result",
          "data": {
            "application/vnd.google.colaboratory.intrinsic+json": {
              "type": "string"
            },
            "text/plain": [
              "'/content'"
            ]
          },
          "metadata": {},
          "execution_count": 11
        }
      ]
    },
    {
      "cell_type": "code",
      "source": [
        "#準備customer字典\n",
        "import itertools\n",
        "\n",
        "cus_l = []\n",
        "for x in itertools.chain(*list(cust_data_dic.values())) :\n",
        "  if [x] not in cus_l:\n",
        "    cus_l.append([x])"
      ],
      "metadata": {
        "id": "-CL2s6dZa6NX"
      },
      "execution_count": 12,
      "outputs": []
    },
    {
      "cell_type": "code",
      "source": [
        "cus_l"
      ],
      "metadata": {
        "colab": {
          "base_uri": "https://localhost:8080/"
        },
        "id": "tLVbQbWMba07",
        "outputId": "39facae4-357c-4bc8-b6c6-3c6bc83bfd1e"
      },
      "execution_count": 13,
      "outputs": [
        {
          "output_type": "execute_result",
          "data": {
            "text/plain": [
              "[['starbucks_flg'],\n",
              " ['internet_flg'],\n",
              " ['drink_flg'],\n",
              " ['house_flg'],\n",
              " ['scooter_flg'],\n",
              " ['bar_flg'],\n",
              " ['shopping_flg']]"
            ]
          },
          "metadata": {},
          "execution_count": 13
        }
      ]
    },
    {
      "cell_type": "code",
      "source": [
        "#準備prduct字典\n",
        "prod_l = [[x] for x in set(pd_data.values[:,1:].flat)]\n",
        "prod_l"
      ],
      "metadata": {
        "colab": {
          "base_uri": "https://localhost:8080/"
        },
        "id": "EQPsuOvwdl60",
        "outputId": "0d6cee99-c30f-481c-c0bf-6a672d5c328e"
      },
      "execution_count": 14,
      "outputs": [
        {
          "output_type": "execute_result",
          "data": {
            "text/plain": [
              "[['swimsuit'],\n",
              " ['one-piece'],\n",
              " ['waterproof'],\n",
              " ['earphone'],\n",
              " ['fashion-designed'],\n",
              " ['Brand_B'],\n",
              " ['Brand_A'],\n",
              " ['FPS'],\n",
              " ['mouse'],\n",
              " ['3C'],\n",
              " ['bikini']]"
            ]
          },
          "metadata": {},
          "execution_count": 14
        }
      ]
    },
    {
      "cell_type": "markdown",
      "source": [
        "Training"
      ],
      "metadata": {
        "id": "iFAeDgTZ51O8"
      }
    },
    {
      "cell_type": "code",
      "source": [
        "#定義詞向量維度\n",
        "gensim_model = gensim.models.Word2Vec(min_count=1,size = 300)"
      ],
      "metadata": {
        "id": "leuP2wibd9OZ"
      },
      "execution_count": 15,
      "outputs": []
    },
    {
      "cell_type": "code",
      "source": [
        "#建立詞向量字典\n",
        "gensim_model.build_vocab(cus_l+prod_l)"
      ],
      "metadata": {
        "id": "KGD_qFpWhdF3"
      },
      "execution_count": 16,
      "outputs": []
    },
    {
      "cell_type": "code",
      "source": [
        "%%time\n",
        "\n",
        "#lockf=0.0(不更新預訓練權重)/lockf=1.0(更新預訓練權重)\n",
        "gensim_model.intersect_word2vec_format('/content/w2v_CNA_ASBC_300d.vec',lockf=0.6,binary=False,unicode_errors='ignore')"
      ],
      "metadata": {
        "colab": {
          "base_uri": "https://localhost:8080/"
        },
        "id": "idbPBOMIjJvP",
        "outputId": "1f0f9403-f089-4984-c82c-1aae2f0a648e"
      },
      "execution_count": 17,
      "outputs": [
        {
          "output_type": "stream",
          "name": "stdout",
          "text": [
            "CPU times: user 2min 45s, sys: 3.87 s, total: 2min 49s\n",
            "Wall time: 2min 44s\n"
          ]
        }
      ]
    },
    {
      "cell_type": "code",
      "source": [
        "%%time\n",
        "gensim_model.train(data_model,total_examples=len(data_model+cus_l+prod_l),epochs=30)"
      ],
      "metadata": {
        "colab": {
          "base_uri": "https://localhost:8080/"
        },
        "id": "Fisxvk1YrleX",
        "outputId": "c5e44026-7c5a-4e7f-e027-c853b8e3a3e3"
      },
      "execution_count": 19,
      "outputs": [
        {
          "output_type": "stream",
          "name": "stdout",
          "text": [
            "CPU times: user 31.1 ms, sys: 15.2 ms, total: 46.3 ms\n",
            "Wall time: 52.8 ms\n"
          ]
        },
        {
          "output_type": "execute_result",
          "data": {
            "text/plain": [
              "(249, 1530)"
            ]
          },
          "metadata": {},
          "execution_count": 19
        }
      ]
    },
    {
      "cell_type": "markdown",
      "source": [
        "Test model & save model"
      ],
      "metadata": {
        "id": "kMGG-Ozu55rZ"
      }
    },
    {
      "cell_type": "code",
      "source": [
        "#wordVec\n",
        "gensim_model['Brand_A'][:5]"
      ],
      "metadata": {
        "colab": {
          "base_uri": "https://localhost:8080/"
        },
        "id": "HeDFboYf5xZr",
        "outputId": "583c1300-81ff-4dc4-b31a-398280e0b9bd"
      },
      "execution_count": 21,
      "outputs": [
        {
          "output_type": "stream",
          "name": "stderr",
          "text": [
            "/usr/local/lib/python3.7/dist-packages/ipykernel_launcher.py:2: DeprecationWarning: Call to deprecated `__getitem__` (Method will be removed in 4.0.0, use self.wv.__getitem__() instead).\n",
            "  \n"
          ]
        },
        {
          "output_type": "execute_result",
          "data": {
            "text/plain": [
              "array([ 2.6010952e-04, -1.1133814e-03,  1.1541219e-06, -9.2152576e-04,\n",
              "       -8.6678891e-04], dtype=float32)"
            ]
          },
          "metadata": {},
          "execution_count": 21
        }
      ]
    },
    {
      "cell_type": "code",
      "source": [
        "#Save Model\n",
        "gensim_model.save('gensi_translearn.model')"
      ],
      "metadata": {
        "id": "Yq8oX1tH6A2L"
      },
      "execution_count": 22,
      "outputs": []
    },
    {
      "cell_type": "code",
      "source": [
        "#import and test\n",
        "print(\"gensim version: \", gensim.__version__)\n",
        "model_import = gensim.models.Word2Vec.load('/content/gensi_translearn.model')"
      ],
      "metadata": {
        "colab": {
          "base_uri": "https://localhost:8080/"
        },
        "id": "hWA0YBA16TgL",
        "outputId": "41dd6c49-aec0-4ece-a0b9-86d4e9a7fdb5"
      },
      "execution_count": 23,
      "outputs": [
        {
          "output_type": "stream",
          "name": "stdout",
          "text": [
            "gensim version:  3.6.0\n"
          ]
        }
      ]
    },
    {
      "cell_type": "code",
      "source": [
        "model_import['Brand_A'][:5]"
      ],
      "metadata": {
        "colab": {
          "base_uri": "https://localhost:8080/"
        },
        "id": "iyKBP1gN66yV",
        "outputId": "97687b53-ee48-4118-da1e-2c3d8a9cb7ff"
      },
      "execution_count": 24,
      "outputs": [
        {
          "output_type": "stream",
          "name": "stderr",
          "text": [
            "/usr/local/lib/python3.7/dist-packages/ipykernel_launcher.py:1: DeprecationWarning: Call to deprecated `__getitem__` (Method will be removed in 4.0.0, use self.wv.__getitem__() instead).\n",
            "  \"\"\"Entry point for launching an IPython kernel.\n"
          ]
        },
        {
          "output_type": "execute_result",
          "data": {
            "text/plain": [
              "array([ 2.6010952e-04, -1.1133814e-03,  1.1541219e-06, -9.2152576e-04,\n",
              "       -8.6678891e-04], dtype=float32)"
            ]
          },
          "metadata": {},
          "execution_count": 24
        }
      ]
    },
    {
      "cell_type": "markdown",
      "source": [
        "## Simularity Search"
      ],
      "metadata": {
        "id": "durJo-yM7GT0"
      }
    },
    {
      "cell_type": "code",
      "source": [
        "import numpy as np\n",
        "\n",
        "#Word2Vec function\n",
        "def Word2Vec_func(input_list,N,model):\n",
        "  vec_attr_w2v = np.zeros(N)\n",
        "  for w in input_list :\n",
        "    if w in model:\n",
        "      vec_attr_w2v+=model[w]\n",
        "  return vec_attr_w2v\n",
        "\n",
        "#cosine_similarity \n",
        "def w2v_similarity_func(Prod_vec,Cus_vec):\n",
        "  return round( np.dot(Prod_vec,Cus_vec) / (np.linalg.norm(Prod_vec) * np.linalg.norm(Cus_vec)) ,4)"
      ],
      "metadata": {
        "id": "UOXav7mh6_AR"
      },
      "execution_count": 26,
      "outputs": []
    },
    {
      "cell_type": "code",
      "source": [
        "#將cus_l每個字轉換成詞向量\n",
        "cus_attr_vec = [Word2Vec_func(x,300,gensim_model) for x in cus_l]"
      ],
      "metadata": {
        "colab": {
          "base_uri": "https://localhost:8080/"
        },
        "id": "KWWpKpKu8TSd",
        "outputId": "0a8e6031-ad15-48ca-f60d-4fd26910bd8b"
      },
      "execution_count": 27,
      "outputs": [
        {
          "output_type": "stream",
          "name": "stderr",
          "text": [
            "/usr/local/lib/python3.7/dist-packages/ipykernel_launcher.py:7: DeprecationWarning: Call to deprecated `__contains__` (Method will be removed in 4.0.0, use self.wv.__contains__() instead).\n",
            "  import sys\n",
            "/usr/local/lib/python3.7/dist-packages/ipykernel_launcher.py:8: DeprecationWarning: Call to deprecated `__getitem__` (Method will be removed in 4.0.0, use self.wv.__getitem__() instead).\n",
            "  \n"
          ]
        }
      ]
    },
    {
      "cell_type": "code",
      "source": [
        "pd_attr_vec = [x[1:] for x in pd_data.values]"
      ],
      "metadata": {
        "id": "uYHi2E_AAj6x"
      },
      "execution_count": 40,
      "outputs": []
    },
    {
      "cell_type": "code",
      "source": [
        "#將prod每屬性轉換成詞向量\n",
        "pd_attr_vec = [x[1:] for x in pd_data.values]\n",
        "pd_attr_vec = [Word2Vec_func(x,300,gensim_model) for x in pd_attr_vec]"
      ],
      "metadata": {
        "colab": {
          "base_uri": "https://localhost:8080/"
        },
        "id": "RdKVu7gO9Dqh",
        "outputId": "9665d484-612d-447f-9422-0ae6af5bc4d9"
      },
      "execution_count": 41,
      "outputs": [
        {
          "output_type": "stream",
          "name": "stderr",
          "text": [
            "/usr/local/lib/python3.7/dist-packages/ipykernel_launcher.py:7: DeprecationWarning: Call to deprecated `__contains__` (Method will be removed in 4.0.0, use self.wv.__contains__() instead).\n",
            "  import sys\n",
            "/usr/local/lib/python3.7/dist-packages/ipykernel_launcher.py:8: DeprecationWarning: Call to deprecated `__getitem__` (Method will be removed in 4.0.0, use self.wv.__getitem__() instead).\n",
            "  \n"
          ]
        }
      ]
    },
    {
      "cell_type": "markdown",
      "source": [
        "#### 映射完詞向量，開始找各商品下最關聯的cus是誰\n",
        "* 訓練邏輯: 找每個商品attribut對應到的客戶attribute最大\n",
        "* 當前做法: 遍歷pd_attr_vec, 計算跟cus_attr_vec關聯，找前兩大"
      ],
      "metadata": {
        "id": "WBz2Ixp1907E"
      }
    },
    {
      "cell_type": "code",
      "source": [
        "from tqdm import tqdm\n",
        "\n",
        "prod_res_lis_1 = [];prod_res_lis_2 = []\n",
        "\n",
        "for pd_vec in tqdm(pd_attr_vec):\n",
        "  #initial\n",
        "  res_1 = 0; res_label_1 = ''\n",
        "  res_2 = 0; res_label_2 = ''\n",
        "\n",
        "  for i in range(len(cus_attr_vec)):\n",
        "    tmp = w2v_similarity_func(pd_vec,cus_attr_vec[i])\n",
        "    if tmp>res_1:\n",
        "      res_2 = res_1 ; res_1 = tmp\n",
        "      res_label_2 = res_label_1 ; res_label_1 = cus_l[i][0]\n",
        "    # res_2的upperbond是res_1\n",
        "    if res_2<tmp<res_1:\n",
        "      res_2 = tmp\n",
        "      res_label_2 = cus_l[i][0]\n",
        "  prod_res_lis_1.append((res_label_1,res_1))\n",
        "  prod_res_lis_2.append((res_label_2,res_2))"
      ],
      "metadata": {
        "colab": {
          "base_uri": "https://localhost:8080/"
        },
        "id": "DJq5ZLEM9Nod",
        "outputId": "97d470c4-643b-46d0-f0e6-4bf43daee969"
      },
      "execution_count": 43,
      "outputs": [
        {
          "output_type": "stream",
          "name": "stderr",
          "text": [
            "100%|██████████| 8/8 [00:00<00:00, 1940.12it/s]\n"
          ]
        }
      ]
    },
    {
      "cell_type": "code",
      "source": [
        "pd_data['sim_cus_1'] = prod_res_lis_1\n",
        "pd_data['sim_cus_2'] = prod_res_lis_2\n",
        "pd_data.head(5)"
      ],
      "metadata": {
        "colab": {
          "base_uri": "https://localhost:8080/",
          "height": 206
        },
        "id": "Kq7WKudK_9wb",
        "outputId": "a13087a8-373c-4641-c849-1079c8734f63"
      },
      "execution_count": 45,
      "outputs": [
        {
          "output_type": "execute_result",
          "data": {
            "text/html": [
              "<div>\n",
              "<style scoped>\n",
              "    .dataframe tbody tr th:only-of-type {\n",
              "        vertical-align: middle;\n",
              "    }\n",
              "\n",
              "    .dataframe tbody tr th {\n",
              "        vertical-align: top;\n",
              "    }\n",
              "\n",
              "    .dataframe thead th {\n",
              "        text-align: right;\n",
              "    }\n",
              "</style>\n",
              "<table border=\"1\" class=\"dataframe\">\n",
              "  <thead>\n",
              "    <tr style=\"text-align: right;\">\n",
              "      <th></th>\n",
              "      <th>Pd_code</th>\n",
              "      <th>Brand</th>\n",
              "      <th>Product_Name</th>\n",
              "      <th>Attribute</th>\n",
              "      <th>sim_cus_1</th>\n",
              "      <th>sim_cus_2</th>\n",
              "    </tr>\n",
              "  </thead>\n",
              "  <tbody>\n",
              "    <tr>\n",
              "      <th>0</th>\n",
              "      <td>001</td>\n",
              "      <td>Brand_A</td>\n",
              "      <td>earphone</td>\n",
              "      <td>waterproof</td>\n",
              "      <td>(drink_flg, 0.2134)</td>\n",
              "      <td>(starbucks_flg, 0.1513)</td>\n",
              "    </tr>\n",
              "    <tr>\n",
              "      <th>1</th>\n",
              "      <td>002</td>\n",
              "      <td>Brand_A</td>\n",
              "      <td>earphone</td>\n",
              "      <td>3C</td>\n",
              "      <td>(starbucks_flg, 0.5334)</td>\n",
              "      <td>(drink_flg, 0.4659)</td>\n",
              "    </tr>\n",
              "    <tr>\n",
              "      <th>2</th>\n",
              "      <td>003</td>\n",
              "      <td>Brand_A</td>\n",
              "      <td>earphone</td>\n",
              "      <td>fashion-designed</td>\n",
              "      <td>(drink_flg, 0.202)</td>\n",
              "      <td>(house_flg, 0.1968)</td>\n",
              "    </tr>\n",
              "    <tr>\n",
              "      <th>3</th>\n",
              "      <td>004</td>\n",
              "      <td>Brand_A</td>\n",
              "      <td>mouse</td>\n",
              "      <td>3C</td>\n",
              "      <td>(starbucks_flg, 0.5332)</td>\n",
              "      <td>(drink_flg, 0.4661)</td>\n",
              "    </tr>\n",
              "    <tr>\n",
              "      <th>4</th>\n",
              "      <td>005</td>\n",
              "      <td>Brand_A</td>\n",
              "      <td>mouse</td>\n",
              "      <td>FPS</td>\n",
              "      <td>(drink_flg, 0.1311)</td>\n",
              "      <td>(internet_flg, 0.0665)</td>\n",
              "    </tr>\n",
              "  </tbody>\n",
              "</table>\n",
              "</div>"
            ],
            "text/plain": [
              "  Pd_code    Brand  ...                sim_cus_1                sim_cus_2\n",
              "0     001  Brand_A  ...      (drink_flg, 0.2134)  (starbucks_flg, 0.1513)\n",
              "1     002  Brand_A  ...  (starbucks_flg, 0.5334)      (drink_flg, 0.4659)\n",
              "2     003  Brand_A  ...       (drink_flg, 0.202)      (house_flg, 0.1968)\n",
              "3     004  Brand_A  ...  (starbucks_flg, 0.5332)      (drink_flg, 0.4661)\n",
              "4     005  Brand_A  ...      (drink_flg, 0.1311)   (internet_flg, 0.0665)\n",
              "\n",
              "[5 rows x 6 columns]"
            ]
          },
          "metadata": {},
          "execution_count": 45
        }
      ]
    },
    {
      "cell_type": "markdown",
      "source": [
        "### Concate & PyVis"
      ],
      "metadata": {
        "id": "bBYyImBOA1wW"
      }
    },
    {
      "cell_type": "code",
      "source": [
        "pd_data_1 = pd_data[pd_data.columns[:-1]]\n",
        "pd_data_1.columns = ['Pd_code','Brand',\t'Product_Name',\t'Attribute'\t,'sim_cus']\n",
        "\n",
        "pd_data_2 = pd_data[list(pd_data.columns[:-2].values)+['sim_cus_2'] ] \n",
        "pd_data_2.columns = ['Pd_code','Brand',\t'Product_Name',\t'Attribute'\t,'sim_cus']"
      ],
      "metadata": {
        "id": "1owhE4aEBzVZ"
      },
      "execution_count": 67,
      "outputs": []
    },
    {
      "cell_type": "code",
      "source": [
        "pd_concat = pd.concat([pd_data_1 ,pd_data_2] ,axis=0 )\n",
        "del pd_data_1, pd_data_2"
      ],
      "metadata": {
        "id": "qVvtdBf_AMy9"
      },
      "execution_count": 68,
      "outputs": []
    },
    {
      "cell_type": "code",
      "source": [
        "pd_concat = pd_concat.reset_index(drop=True)\n",
        "pd_concat['cus_seg'] = [x[0] for x in pd_concat['sim_cus']]\n",
        "pd_concat['cus_seg_simscore'] = [x[1] for x in pd_concat['sim_cus']]"
      ],
      "metadata": {
        "id": "P0UOZLyOBHT-"
      },
      "execution_count": 75,
      "outputs": []
    },
    {
      "cell_type": "code",
      "source": [
        "#pyvis邊上的名字一定要叫'title'\n",
        "\n",
        "pd_concat['title'] = pd_concat['Attribute']\n",
        "pd_concat.head(3)"
      ],
      "metadata": {
        "colab": {
          "base_uri": "https://localhost:8080/",
          "height": 143
        },
        "id": "Zeqd2LApE0BJ",
        "outputId": "8567204a-4c99-4e5a-ea6e-27ce82b7974e"
      },
      "execution_count": 77,
      "outputs": [
        {
          "output_type": "execute_result",
          "data": {
            "text/html": [
              "<div>\n",
              "<style scoped>\n",
              "    .dataframe tbody tr th:only-of-type {\n",
              "        vertical-align: middle;\n",
              "    }\n",
              "\n",
              "    .dataframe tbody tr th {\n",
              "        vertical-align: top;\n",
              "    }\n",
              "\n",
              "    .dataframe thead th {\n",
              "        text-align: right;\n",
              "    }\n",
              "</style>\n",
              "<table border=\"1\" class=\"dataframe\">\n",
              "  <thead>\n",
              "    <tr style=\"text-align: right;\">\n",
              "      <th></th>\n",
              "      <th>Pd_code</th>\n",
              "      <th>Brand</th>\n",
              "      <th>Product_Name</th>\n",
              "      <th>Attribute</th>\n",
              "      <th>sim_cus</th>\n",
              "      <th>cus_seg</th>\n",
              "      <th>cus_seg_simscore</th>\n",
              "      <th>title</th>\n",
              "    </tr>\n",
              "  </thead>\n",
              "  <tbody>\n",
              "    <tr>\n",
              "      <th>0</th>\n",
              "      <td>001</td>\n",
              "      <td>Brand_A</td>\n",
              "      <td>earphone</td>\n",
              "      <td>waterproof</td>\n",
              "      <td>(drink_flg, 0.2134)</td>\n",
              "      <td>drink_flg</td>\n",
              "      <td>0.2134</td>\n",
              "      <td>waterproof</td>\n",
              "    </tr>\n",
              "    <tr>\n",
              "      <th>1</th>\n",
              "      <td>002</td>\n",
              "      <td>Brand_A</td>\n",
              "      <td>earphone</td>\n",
              "      <td>3C</td>\n",
              "      <td>(starbucks_flg, 0.5334)</td>\n",
              "      <td>starbucks_flg</td>\n",
              "      <td>0.5334</td>\n",
              "      <td>3C</td>\n",
              "    </tr>\n",
              "    <tr>\n",
              "      <th>2</th>\n",
              "      <td>003</td>\n",
              "      <td>Brand_A</td>\n",
              "      <td>earphone</td>\n",
              "      <td>fashion-designed</td>\n",
              "      <td>(drink_flg, 0.202)</td>\n",
              "      <td>drink_flg</td>\n",
              "      <td>0.2020</td>\n",
              "      <td>fashion-designed</td>\n",
              "    </tr>\n",
              "  </tbody>\n",
              "</table>\n",
              "</div>"
            ],
            "text/plain": [
              "  Pd_code    Brand  ... cus_seg_simscore             title\n",
              "0     001  Brand_A  ...           0.2134        waterproof\n",
              "1     002  Brand_A  ...           0.5334                3C\n",
              "2     003  Brand_A  ...           0.2020  fashion-designed\n",
              "\n",
              "[3 rows x 8 columns]"
            ]
          },
          "metadata": {},
          "execution_count": 77
        }
      ]
    },
    {
      "cell_type": "code",
      "source": [
        "import networkx as nx\n",
        "import matplotlib.pyplot as plt\n",
        "from pyvis.network import Network\n",
        "\n",
        "G = nx.from_pandas_edgelist(pd_concat,'Product_Name','cus_seg',edge_attr = 'title',\n",
        "                            create_using = nx.DiGraph())\n",
        "\n",
        "nt = Network('600px','50%',directed=True,heading = 'KG based - Grpah Vizulizaiton')\n",
        "nt.from_nx(G)\n",
        "nt.show_buttons(filter_ = ['physics'])\n",
        "\n",
        "nt.show('KG based - Grpah Vizulizaiton.html')"
      ],
      "metadata": {
        "id": "pZoQvaBXBPlN"
      },
      "execution_count": 83,
      "outputs": []
    },
    {
      "cell_type": "code",
      "source": [
        "import IPython\n",
        "IPython.display.HTML(filename='/content/KG based - Grpah Vizulizaiton.html')"
      ],
      "metadata": {
        "colab": {
          "base_uri": "https://localhost:8080/",
          "height": 696
        },
        "id": "ALWagGUCGruA",
        "outputId": "9abe7df0-aebf-4c2f-c381-7771b9d9b11a"
      },
      "execution_count": 84,
      "outputs": [
        {
          "output_type": "execute_result",
          "data": {
            "text/html": [
              "<html>\n",
              "<head>\n",
              "<link rel=\"stylesheet\" href=\"https://cdnjs.cloudflare.com/ajax/libs/vis/4.16.1/vis.css\" type=\"text/css\" />\n",
              "<script type=\"text/javascript\" src=\"https://cdnjs.cloudflare.com/ajax/libs/vis/4.16.1/vis-network.min.js\"> </script>\n",
              "<center>\n",
              "<h1>KG based - Grpah Vizulizaiton</h1>\n",
              "</center>\n",
              "\n",
              "<!-- <link rel=\"stylesheet\" href=\"../node_modules/vis/dist/vis.min.css\" type=\"text/css\" />\n",
              "<script type=\"text/javascript\" src=\"../node_modules/vis/dist/vis.js\"> </script>-->\n",
              "\n",
              "<style type=\"text/css\">\n",
              "\n",
              "        #mynetwork {\n",
              "            width: 50%;\n",
              "            height: 600px;\n",
              "            background-color: #ffffff;\n",
              "            border: 1px solid lightgray;\n",
              "            position: relative;\n",
              "            float: left;\n",
              "        }\n",
              "\n",
              "        \n",
              "\n",
              "        \n",
              "        #config {\n",
              "            float: left;\n",
              "            width: 400px;\n",
              "            height: 600px;\n",
              "        }\n",
              "        \n",
              "\n",
              "        \n",
              "</style>\n",
              "\n",
              "</head>\n",
              "\n",
              "<body>\n",
              "<div id = \"mynetwork\"></div>\n",
              "\n",
              "\n",
              "<div id = \"config\"></div>\n",
              "\n",
              "<script type=\"text/javascript\">\n",
              "\n",
              "    // initialize global variables.\n",
              "    var edges;\n",
              "    var nodes;\n",
              "    var network; \n",
              "    var container;\n",
              "    var options, data;\n",
              "\n",
              "    \n",
              "    // This method is responsible for drawing the graph, returns the drawn network\n",
              "    function drawGraph() {\n",
              "        var container = document.getElementById('mynetwork');\n",
              "        \n",
              "        \n",
              "\n",
              "        // parsing and collecting nodes and edges from the python\n",
              "        nodes = new vis.DataSet([{\"id\": \"earphone\", \"label\": \"earphone\", \"shape\": \"dot\", \"size\": 10}, {\"id\": \"drink_flg\", \"label\": \"drink_flg\", \"shape\": \"dot\", \"size\": 10}, {\"id\": \"starbucks_flg\", \"label\": \"starbucks_flg\", \"shape\": \"dot\", \"size\": 10}, {\"id\": \"house_flg\", \"label\": \"house_flg\", \"shape\": \"dot\", \"size\": 10}, {\"id\": \"mouse\", \"label\": \"mouse\", \"shape\": \"dot\", \"size\": 10}, {\"id\": \"internet_flg\", \"label\": \"internet_flg\", \"shape\": \"dot\", \"size\": 10}, {\"id\": \"bikini\", \"label\": \"bikini\", \"shape\": \"dot\", \"size\": 10}, {\"id\": \"swimsuit\", \"label\": \"swimsuit\", \"shape\": \"dot\", \"size\": 10}, {\"id\": \"bar_flg\", \"label\": \"bar_flg\", \"shape\": \"dot\", \"size\": 10}]);\n",
              "        edges = new vis.DataSet([{\"arrows\": \"to\", \"from\": \"earphone\", \"title\": \"3C\", \"to\": \"drink_flg\", \"weight\": 1}, {\"arrows\": \"to\", \"from\": \"earphone\", \"title\": \"waterproof\", \"to\": \"starbucks_flg\", \"weight\": 1}, {\"arrows\": \"to\", \"from\": \"earphone\", \"title\": \"fashion-designed\", \"to\": \"house_flg\", \"weight\": 1}, {\"arrows\": \"to\", \"from\": \"mouse\", \"title\": \"3C\", \"to\": \"starbucks_flg\", \"weight\": 1}, {\"arrows\": \"to\", \"from\": \"mouse\", \"title\": \"3C\", \"to\": \"drink_flg\", \"weight\": 1}, {\"arrows\": \"to\", \"from\": \"mouse\", \"title\": \"FPS\", \"to\": \"internet_flg\", \"weight\": 1}, {\"arrows\": \"to\", \"from\": \"bikini\", \"title\": \"one-piece\", \"to\": \"drink_flg\", \"weight\": 1}, {\"arrows\": \"to\", \"from\": \"bikini\", \"title\": \"one-piece\", \"to\": \"house_flg\", \"weight\": 1}, {\"arrows\": \"to\", \"from\": \"bikini\", \"title\": \"fashion-designed\", \"to\": \"internet_flg\", \"weight\": 1}, {\"arrows\": \"to\", \"from\": \"swimsuit\", \"title\": \"one-piece\", \"to\": \"drink_flg\", \"weight\": 1}, {\"arrows\": \"to\", \"from\": \"swimsuit\", \"title\": \"one-piece\", \"to\": \"bar_flg\", \"weight\": 1}]);\n",
              "\n",
              "        // adding nodes and edges to the graph\n",
              "        data = {nodes: nodes, edges: edges};\n",
              "\n",
              "        var options = {\n",
              "    \"configure\": {\n",
              "        \"enabled\": true,\n",
              "        \"filter\": [\n",
              "            \"physics\"\n",
              "        ]\n",
              "    },\n",
              "    \"edges\": {\n",
              "        \"color\": {\n",
              "            \"inherit\": true\n",
              "        },\n",
              "        \"smooth\": {\n",
              "            \"enabled\": false,\n",
              "            \"type\": \"continuous\"\n",
              "        }\n",
              "    },\n",
              "    \"interaction\": {\n",
              "        \"dragNodes\": true,\n",
              "        \"hideEdgesOnDrag\": false,\n",
              "        \"hideNodesOnDrag\": false\n",
              "    },\n",
              "    \"physics\": {\n",
              "        \"enabled\": true,\n",
              "        \"stabilization\": {\n",
              "            \"enabled\": true,\n",
              "            \"fit\": true,\n",
              "            \"iterations\": 1000,\n",
              "            \"onlyDynamicEdges\": false,\n",
              "            \"updateInterval\": 50\n",
              "        }\n",
              "    }\n",
              "};\n",
              "        \n",
              "        \n",
              "\n",
              "        \n",
              "        // if this network requires displaying the configure window,\n",
              "        // put it in its div\n",
              "        options.configure[\"container\"] = document.getElementById(\"config\");\n",
              "        \n",
              "\n",
              "        network = new vis.Network(container, data, options);\n",
              "\t \n",
              "        \n",
              "\n",
              "\n",
              "        \n",
              "\n",
              "        return network;\n",
              "\n",
              "    }\n",
              "\n",
              "    drawGraph();\n",
              "\n",
              "</script>\n",
              "</body>\n",
              "</html>"
            ],
            "text/plain": [
              "<IPython.core.display.HTML object>"
            ]
          },
          "metadata": {},
          "execution_count": 84
        }
      ]
    }
  ]
}