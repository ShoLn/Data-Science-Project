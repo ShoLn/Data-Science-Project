{
  "nbformat": 4,
  "nbformat_minor": 0,
  "metadata": {
    "accelerator": "GPU",
    "colab": {
      "name": "Gensim_w2v_tips.ipynb",
      "provenance": [],
      "collapsed_sections": [],
      "machine_shape": "hm",
      "include_colab_link": true
    },
    "kernelspec": {
      "name": "python3",
      "display_name": "Python 3"
    },
    "language_info": {
      "codemirror_mode": {
        "name": "ipython",
        "version": 3
      },
      "file_extension": ".py",
      "mimetype": "text/x-python",
      "name": "python",
      "nbconvert_exporter": "python",
      "pygments_lexer": "ipython3",
      "version": "3.7.1"
    }
  },
  "cells": [
    {
      "cell_type": "markdown",
      "metadata": {
        "id": "view-in-github",
        "colab_type": "text"
      },
      "source": [
        "<a href=\"https://colab.research.google.com/github/CubatLin/Data-Science-Project/blob/main/Knowledge%20Graph/Gensim_w2v_tips.ipynb\" target=\"_parent\"><img src=\"https://colab.research.google.com/assets/colab-badge.svg\" alt=\"Open In Colab\"/></a>"
      ]
    },
    {
      "cell_type": "markdown",
      "source": [
        "Load pretrained vector"
      ],
      "metadata": {
        "id": "6NbGgWcVchKm"
      }
    },
    {
      "cell_type": "code",
      "source": [
        "def import_data_from_drive(id):\n",
        "  !wget --save-cookies cookies.txt 'https://docs.google.com/uc?export=download&id='{id} -O- \\\n",
        "  | sed -rn 's/.*confirm=([0-9A-Za-z_]+).*/\\1/p' > confirm.txt && wget --content-disposition --load-cookies cookies.txt 'https://docs.google.com/uc?export=download&id='{id}'&confirm='$(<confirm.txt)"
      ],
      "metadata": {
        "id": "CQZT3_W1cZ18"
      },
      "execution_count": 1,
      "outputs": []
    },
    {
      "cell_type": "code",
      "source": [
        "%%time\n",
        "import_data_from_drive('1zcTm-OG-oRZSw0ef-V_nY8RsSBgWn1Pb')"
      ],
      "metadata": {
        "colab": {
          "base_uri": "https://localhost:8080/"
        },
        "id": "Rjld5OovcfxO",
        "outputId": "e090c0fc-0e81-4647-e382-9f87b76e1343"
      },
      "execution_count": 2,
      "outputs": [
        {
          "output_type": "stream",
          "name": "stdout",
          "text": [
            "--2022-01-23 10:19:07--  https://docs.google.com/uc?export=download&id=1zcTm-OG-oRZSw0ef-V_nY8RsSBgWn1Pb\n",
            "Resolving docs.google.com (docs.google.com)... 142.250.136.102, 142.250.136.100, 142.250.136.138, ...\n",
            "Connecting to docs.google.com (docs.google.com)|142.250.136.102|:443... connected.\n",
            "HTTP request sent, awaiting response... 200 OK\n",
            "Length: unspecified [text/html]\n",
            "Saving to: ‘STDOUT’\n",
            "\n",
            "-                       [ <=>                ]   3.19K  --.-KB/s    in 0s      \n",
            "\n",
            "2022-01-23 10:19:07 (48.1 MB/s) - written to stdout [3269]\n",
            "\n",
            "--2022-01-23 10:19:07--  https://docs.google.com/uc?export=download&id=1zcTm-OG-oRZSw0ef-V_nY8RsSBgWn1Pb&confirm=83S7\n",
            "Resolving docs.google.com (docs.google.com)... 142.250.136.102, 142.250.136.100, 142.250.136.138, ...\n",
            "Connecting to docs.google.com (docs.google.com)|142.250.136.102|:443... connected.\n",
            "HTTP request sent, awaiting response... 302 Moved Temporarily\n",
            "Location: https://doc-10-58-docs.googleusercontent.com/docs/securesc/g88nm6mt5v9780b5ghgmvj76n9e4nt1j/sg0svanmo4blbm95i1vggsajid125ei9/1642933125000/12626892632851982799/06123324602011491034Z/1zcTm-OG-oRZSw0ef-V_nY8RsSBgWn1Pb?e=download [following]\n",
            "--2022-01-23 10:19:07--  https://doc-10-58-docs.googleusercontent.com/docs/securesc/g88nm6mt5v9780b5ghgmvj76n9e4nt1j/sg0svanmo4blbm95i1vggsajid125ei9/1642933125000/12626892632851982799/06123324602011491034Z/1zcTm-OG-oRZSw0ef-V_nY8RsSBgWn1Pb?e=download\n",
            "Resolving doc-10-58-docs.googleusercontent.com (doc-10-58-docs.googleusercontent.com)... 74.125.124.132, 2607:f8b0:4001:c14::84\n",
            "Connecting to doc-10-58-docs.googleusercontent.com (doc-10-58-docs.googleusercontent.com)|74.125.124.132|:443... connected.\n",
            "HTTP request sent, awaiting response... 302 Found\n",
            "Location: https://docs.google.com/nonceSigner?nonce=a4lo2l5d0oj64&continue=https://doc-10-58-docs.googleusercontent.com/docs/securesc/g88nm6mt5v9780b5ghgmvj76n9e4nt1j/sg0svanmo4blbm95i1vggsajid125ei9/1642933125000/12626892632851982799/06123324602011491034Z/1zcTm-OG-oRZSw0ef-V_nY8RsSBgWn1Pb?e%3Ddownload&hash=hmt1tu34slf2vq9166s4um49fdrgudqo [following]\n",
            "--2022-01-23 10:19:07--  https://docs.google.com/nonceSigner?nonce=a4lo2l5d0oj64&continue=https://doc-10-58-docs.googleusercontent.com/docs/securesc/g88nm6mt5v9780b5ghgmvj76n9e4nt1j/sg0svanmo4blbm95i1vggsajid125ei9/1642933125000/12626892632851982799/06123324602011491034Z/1zcTm-OG-oRZSw0ef-V_nY8RsSBgWn1Pb?e%3Ddownload&hash=hmt1tu34slf2vq9166s4um49fdrgudqo\n",
            "Connecting to docs.google.com (docs.google.com)|142.250.136.102|:443... connected.\n",
            "HTTP request sent, awaiting response... 302 Found\n",
            "The name is too long, 325 chars total.\n",
            "Trying to shorten...\n",
            "New name is nonceSigner?nonce=a4lo2l5d0oj64&continue=https:%2F%2Fdoc-10-58-docs.googleusercontent.com%2Fdocs%2Fsecuresc%2Fg88nm6mt5v9780b5ghgmvj76n9e4nt1j%2Fsg0svanmo4blbm95i1vggsajid125ei9%2F1642933125000%2F12626892632851982799%2F06123324602011491.\n",
            "Location: https://doc-10-58-docs.googleusercontent.com/docs/securesc/g88nm6mt5v9780b5ghgmvj76n9e4nt1j/sg0svanmo4blbm95i1vggsajid125ei9/1642933125000/12626892632851982799/06123324602011491034Z/1zcTm-OG-oRZSw0ef-V_nY8RsSBgWn1Pb?e=download&nonce=a4lo2l5d0oj64&user=06123324602011491034Z&hash=mlfcfa8uvili1ot14464dk1plac4728o [following]\n",
            "--2022-01-23 10:19:07--  https://doc-10-58-docs.googleusercontent.com/docs/securesc/g88nm6mt5v9780b5ghgmvj76n9e4nt1j/sg0svanmo4blbm95i1vggsajid125ei9/1642933125000/12626892632851982799/06123324602011491034Z/1zcTm-OG-oRZSw0ef-V_nY8RsSBgWn1Pb?e=download&nonce=a4lo2l5d0oj64&user=06123324602011491034Z&hash=mlfcfa8uvili1ot14464dk1plac4728o\n",
            "Connecting to doc-10-58-docs.googleusercontent.com (doc-10-58-docs.googleusercontent.com)|74.125.124.132|:443... connected.\n",
            "HTTP request sent, awaiting response... 200 OK\n",
            "Length: 587001145 (560M) [application/zip]\n",
            "Saving to: ‘CWE01.zip’\n",
            "\n",
            "CWE01.zip           100%[===================>] 559.81M   120MB/s    in 4.2s    \n",
            "\n",
            "2022-01-23 10:19:11 (132 MB/s) - ‘CWE01.zip’ saved [587001145/587001145]\n",
            "\n",
            "CPU times: user 87.2 ms, sys: 28.9 ms, total: 116 ms\n",
            "Wall time: 4.98 s\n"
          ]
        }
      ]
    },
    {
      "cell_type": "code",
      "source": [
        "!unzip CWE01.zip"
      ],
      "metadata": {
        "colab": {
          "base_uri": "https://localhost:8080/"
        },
        "id": "o26qbzz_clRN",
        "outputId": "ce7fefb2-1971-486a-9129-44b72b8cf20e"
      },
      "execution_count": 3,
      "outputs": [
        {
          "output_type": "stream",
          "name": "stdout",
          "text": [
            "Archive:  CWE01.zip\n",
            "  inflating: w2v_CNA_ASBC_300d.vec   \n"
          ]
        }
      ]
    },
    {
      "cell_type": "markdown",
      "source": [
        "Correct version"
      ],
      "metadata": {
        "id": "jMJcTeAbcqnT"
      }
    },
    {
      "cell_type": "code",
      "source": [
        "import gensim\n",
        "import os; os.getcwd()"
      ],
      "metadata": {
        "colab": {
          "base_uri": "https://localhost:8080/",
          "height": 35
        },
        "id": "KybIvXK8cn14",
        "outputId": "7ff7cb7d-523b-4a32-b836-8caaa5b97308"
      },
      "execution_count": 4,
      "outputs": [
        {
          "output_type": "execute_result",
          "data": {
            "application/vnd.google.colaboratory.intrinsic+json": {
              "type": "string"
            },
            "text/plain": [
              "'/content'"
            ]
          },
          "metadata": {},
          "execution_count": 4
        }
      ]
    },
    {
      "cell_type": "code",
      "source": [
        "#定義詞向量維度\n",
        "gensim_model = gensim.models.Word2Vec(min_count=1,size = 300)"
      ],
      "metadata": {
        "id": "5zMX7Atucxt0"
      },
      "execution_count": 5,
      "outputs": []
    },
    {
      "cell_type": "code",
      "source": [
        "#建立詞向量字典\n",
        "gensim_model.build_vocab([['植物','綠色','創辦人','環保']])"
      ],
      "metadata": {
        "id": "F6oIzBkMc0gi"
      },
      "execution_count": 6,
      "outputs": []
    },
    {
      "cell_type": "code",
      "source": [
        "%%time\n",
        "#lockf=0.0(不更新預訓練權重)/lockf=1.0(更新預訓練權重)\n",
        "gensim_model.intersect_word2vec_format('/content/w2v_CNA_ASBC_300d.vec',lockf=0.0,binary=False,unicode_errors='ignore')"
      ],
      "metadata": {
        "colab": {
          "base_uri": "https://localhost:8080/"
        },
        "id": "LEJcxaP9c3Pn",
        "outputId": "edb8846b-587b-4b3a-dbf5-2410249aef4b"
      },
      "execution_count": 7,
      "outputs": [
        {
          "output_type": "stream",
          "name": "stdout",
          "text": [
            "CPU times: user 2min 38s, sys: 10.6 s, total: 2min 49s\n",
            "Wall time: 2min 39s\n"
          ]
        }
      ]
    },
    {
      "cell_type": "code",
      "source": [
        "%%time\n",
        "gensim_model.train([['植物','綠色','創辦人','環保']],total_examples=len([['植物','綠色','創辦人','環保']]),epochs=1)"
      ],
      "metadata": {
        "colab": {
          "base_uri": "https://localhost:8080/"
        },
        "id": "1PjNQIwSc4wL",
        "outputId": "41ce1afa-8f06-4c98-d262-f24e039684ab"
      },
      "execution_count": 8,
      "outputs": [
        {
          "output_type": "stream",
          "name": "stdout",
          "text": [
            "CPU times: user 2.66 ms, sys: 0 ns, total: 2.66 ms\n",
            "Wall time: 4.77 ms\n"
          ]
        },
        {
          "output_type": "execute_result",
          "data": {
            "text/plain": [
              "(0, 4)"
            ]
          },
          "metadata": {},
          "execution_count": 8
        }
      ]
    },
    {
      "cell_type": "code",
      "source": [
        "gensim_model['植物'][:5]\n",
        "#array([-0.237456,  0.660045,  0.126065, -0.179021,  0.182283],"
      ],
      "metadata": {
        "colab": {
          "base_uri": "https://localhost:8080/"
        },
        "id": "8OmSJ4l6c7Pg",
        "outputId": "6b28d2e0-45ae-423f-bc2a-2f4971aedde6"
      },
      "execution_count": 9,
      "outputs": [
        {
          "output_type": "stream",
          "name": "stderr",
          "text": [
            "/usr/local/lib/python3.7/dist-packages/ipykernel_launcher.py:1: DeprecationWarning: Call to deprecated `__getitem__` (Method will be removed in 4.0.0, use self.wv.__getitem__() instead).\n",
            "  \"\"\"Entry point for launching an IPython kernel.\n"
          ]
        },
        {
          "output_type": "execute_result",
          "data": {
            "text/plain": [
              "array([-0.237456,  0.660045,  0.126065, -0.179021,  0.182283],\n",
              "      dtype=float32)"
            ]
          },
          "metadata": {},
          "execution_count": 9
        }
      ]
    },
    {
      "cell_type": "code",
      "source": [
        "gensim_model.wv.most_similar('植物', topn=10)\n",
        "# [('綠色', 0.38104403018951416),\n",
        "#  ('環保', 0.3363628387451172),\n",
        "#  ('創辦人', 0.12018638849258423)]"
      ],
      "metadata": {
        "colab": {
          "base_uri": "https://localhost:8080/"
        },
        "id": "VxuwmjIcc83i",
        "outputId": "e39efa6f-576f-4ccd-a9ff-082fc5b73850"
      },
      "execution_count": 10,
      "outputs": [
        {
          "output_type": "execute_result",
          "data": {
            "text/plain": [
              "[('綠色', 0.38104403018951416),\n",
              " ('環保', 0.3363628387451172),\n",
              " ('創辦人', 0.12018638849258423)]"
            ]
          },
          "metadata": {},
          "execution_count": 10
        }
      ]
    },
    {
      "cell_type": "markdown",
      "source": [
        "Wrong version without training"
      ],
      "metadata": {
        "id": "oIWgZWlfc_m9"
      }
    },
    {
      "cell_type": "code",
      "source": [
        "#定義詞向量維度\n",
        "gensim_model_fail = gensim.models.Word2Vec(min_count=1,size = 300)"
      ],
      "metadata": {
        "id": "AaorXOfKc-YI"
      },
      "execution_count": 11,
      "outputs": []
    },
    {
      "cell_type": "code",
      "source": [
        "%%time\n",
        "#lockf=0.0(不更新預訓練權重)/lockf=1.0(更新預訓練權重)\n",
        "gensim_model_fail.intersect_word2vec_format('/content/w2v_CNA_ASBC_300d.vec',lockf=0.0,binary=False,unicode_errors='ignore')"
      ],
      "metadata": {
        "colab": {
          "base_uri": "https://localhost:8080/"
        },
        "id": "xsu3ULsrdG0i",
        "outputId": "a7c5223f-4a8a-4559-d32e-5c487139db17"
      },
      "execution_count": 12,
      "outputs": [
        {
          "output_type": "stream",
          "name": "stdout",
          "text": [
            "CPU times: user 2min 31s, sys: 10.7 s, total: 2min 42s\n",
            "Wall time: 2min 32s\n"
          ]
        }
      ]
    },
    {
      "cell_type": "code",
      "source": [
        "#建立詞向量字典\n",
        "gensim_model_fail.build_vocab([['植物','綠色','創辦人','環保']])"
      ],
      "metadata": {
        "id": "3oPytSnddJNi"
      },
      "execution_count": 13,
      "outputs": []
    },
    {
      "cell_type": "code",
      "source": [
        "gensim_model_fail['植物'][:5]"
      ],
      "metadata": {
        "colab": {
          "base_uri": "https://localhost:8080/"
        },
        "id": "76MCFRIxdJ0V",
        "outputId": "e86e2377-f203-4012-d68e-121f41768d76"
      },
      "execution_count": 15,
      "outputs": [
        {
          "output_type": "stream",
          "name": "stderr",
          "text": [
            "/usr/local/lib/python3.7/dist-packages/ipykernel_launcher.py:1: DeprecationWarning: Call to deprecated `__getitem__` (Method will be removed in 4.0.0, use self.wv.__getitem__() instead).\n",
            "  \"\"\"Entry point for launching an IPython kernel.\n"
          ]
        },
        {
          "output_type": "execute_result",
          "data": {
            "text/plain": [
              "array([-5.0932937e-04, -8.0321374e-04,  1.2186744e-03,  1.5299431e-03,\n",
              "       -4.3020638e-05], dtype=float32)"
            ]
          },
          "metadata": {},
          "execution_count": 15
        }
      ]
    },
    {
      "cell_type": "code",
      "source": [
        "gensim_model['植物'][:5]\n",
        "#array([-0.237456,  0.660045,  0.126065, -0.179021,  0.182283],"
      ],
      "metadata": {
        "colab": {
          "base_uri": "https://localhost:8080/"
        },
        "id": "XdUctlERdiMw",
        "outputId": "c99dd270-880d-4410-e2f7-0ed3588a973a"
      },
      "execution_count": 16,
      "outputs": [
        {
          "output_type": "stream",
          "name": "stderr",
          "text": [
            "/usr/local/lib/python3.7/dist-packages/ipykernel_launcher.py:1: DeprecationWarning: Call to deprecated `__getitem__` (Method will be removed in 4.0.0, use self.wv.__getitem__() instead).\n",
            "  \"\"\"Entry point for launching an IPython kernel.\n"
          ]
        },
        {
          "output_type": "execute_result",
          "data": {
            "text/plain": [
              "array([-0.237456,  0.660045,  0.126065, -0.179021,  0.182283],\n",
              "      dtype=float32)"
            ]
          },
          "metadata": {},
          "execution_count": 16
        }
      ]
    },
    {
      "cell_type": "code",
      "source": [
        "gensim_model_fail.wv.most_similar('植物', topn=10)"
      ],
      "metadata": {
        "colab": {
          "base_uri": "https://localhost:8080/"
        },
        "id": "JBksWRBweuGK",
        "outputId": "9febcd26-4f87-4096-e9bd-845fbbcbf52b"
      },
      "execution_count": 17,
      "outputs": [
        {
          "output_type": "execute_result",
          "data": {
            "text/plain": [
              "[('創辦人', 0.05096713453531265),\n",
              " ('綠色', -0.02763325721025467),\n",
              " ('環保', -0.05259396880865097)]"
            ]
          },
          "metadata": {},
          "execution_count": 17
        }
      ]
    },
    {
      "cell_type": "markdown",
      "source": [
        "Wrong version with training"
      ],
      "metadata": {
        "id": "2bsV-2jPe8fV"
      }
    },
    {
      "cell_type": "code",
      "source": [
        "#定義詞向量維度\n",
        "gensim_model_fail_train = gensim.models.Word2Vec(min_count=1,size = 300)"
      ],
      "metadata": {
        "id": "y-Rg6Kr8ezSb"
      },
      "execution_count": 18,
      "outputs": []
    },
    {
      "cell_type": "code",
      "source": [
        "%%time\n",
        "#lockf=0.0(不更新預訓練權重)/lockf=1.0(更新預訓練權重)\n",
        "gensim_model_fail_train.intersect_word2vec_format('/content/w2v_CNA_ASBC_300d.vec',lockf=0.0,binary=False,unicode_errors='ignore')"
      ],
      "metadata": {
        "colab": {
          "base_uri": "https://localhost:8080/"
        },
        "id": "jrFN78VFe_82",
        "outputId": "6ac9b4bd-74c6-40b9-f0f6-ef3be08f0415"
      },
      "execution_count": 19,
      "outputs": [
        {
          "output_type": "stream",
          "name": "stdout",
          "text": [
            "CPU times: user 2min 35s, sys: 11.3 s, total: 2min 46s\n",
            "Wall time: 2min 37s\n"
          ]
        }
      ]
    },
    {
      "cell_type": "code",
      "source": [
        "#建立詞向量字典\n",
        "gensim_model_fail_train.build_vocab([['植物','綠色','創辦人','環保']])"
      ],
      "metadata": {
        "id": "Uzk1xelHfCE9"
      },
      "execution_count": 20,
      "outputs": []
    },
    {
      "cell_type": "code",
      "source": [
        "%%time\n",
        "gensim_model_fail_train.train([['植物','綠色','創辦人','環保']],total_examples=len([['植物','綠色','創辦人','環保']]),epochs=1)"
      ],
      "metadata": {
        "colab": {
          "base_uri": "https://localhost:8080/"
        },
        "id": "ZAcURas2fFuQ",
        "outputId": "27267636-a616-43ad-e351-7b0999fdb0de"
      },
      "execution_count": 21,
      "outputs": [
        {
          "output_type": "stream",
          "name": "stdout",
          "text": [
            "CPU times: user 1.75 ms, sys: 2 ms, total: 3.75 ms\n",
            "Wall time: 10.4 ms\n"
          ]
        },
        {
          "output_type": "execute_result",
          "data": {
            "text/plain": [
              "(0, 4)"
            ]
          },
          "metadata": {},
          "execution_count": 21
        }
      ]
    },
    {
      "cell_type": "code",
      "source": [
        "gensim_model_fail_train['植物'][:5]"
      ],
      "metadata": {
        "colab": {
          "base_uri": "https://localhost:8080/"
        },
        "id": "unL5ws4ifI7k",
        "outputId": "1157d766-6026-489e-d75c-e4f8a491d139"
      },
      "execution_count": 22,
      "outputs": [
        {
          "output_type": "stream",
          "name": "stderr",
          "text": [
            "/usr/local/lib/python3.7/dist-packages/ipykernel_launcher.py:1: DeprecationWarning: Call to deprecated `__getitem__` (Method will be removed in 4.0.0, use self.wv.__getitem__() instead).\n",
            "  \"\"\"Entry point for launching an IPython kernel.\n"
          ]
        },
        {
          "output_type": "execute_result",
          "data": {
            "text/plain": [
              "array([-5.0932937e-04, -8.0321374e-04,  1.2186744e-03,  1.5299431e-03,\n",
              "       -4.3020638e-05], dtype=float32)"
            ]
          },
          "metadata": {},
          "execution_count": 22
        }
      ]
    },
    {
      "cell_type": "code",
      "source": [
        "gensim_model_fail_train.wv.most_similar('植物', topn=10)"
      ],
      "metadata": {
        "colab": {
          "base_uri": "https://localhost:8080/"
        },
        "id": "ae0j5S5mfN5L",
        "outputId": "770621cf-a4b4-4e18-db04-6c871e56bf43"
      },
      "execution_count": 23,
      "outputs": [
        {
          "output_type": "execute_result",
          "data": {
            "text/plain": [
              "[('創辦人', 0.05096713453531265),\n",
              " ('綠色', -0.02763325721025467),\n",
              " ('環保', -0.05259396880865097)]"
            ]
          },
          "metadata": {},
          "execution_count": 23
        }
      ]
    }
  ]
}