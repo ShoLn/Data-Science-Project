{
  "cells": [
    {
      "cell_type": "markdown",
      "metadata": {
        "id": "view-in-github",
        "colab_type": "text"
      },
      "source": [
        "<a href=\"https://colab.research.google.com/github/CubatLin/Data-Science-Project/blob/main/NER%20Tagging/NER_CKIPtagger.ipynb\" target=\"_parent\"><img src=\"https://colab.research.google.com/assets/colab-badge.svg\" alt=\"Open In Colab\"/></a>"
      ]
    },
    {
      "cell_type": "markdown",
      "metadata": {
        "id": "L5VgJA-OVlfE"
      },
      "source": [
        "## To Do:\n",
        "* 換IP位置爬\n",
        "* 換成CKIP tagger(可以自訂義辭典的方式)"
      ]
    },
    {
      "cell_type": "code",
      "execution_count": 1,
      "metadata": {
        "colab": {
          "base_uri": "https://localhost:8080/"
        },
        "id": "0sIEH4jAHjxx",
        "outputId": "fb16196b-ed1b-4e41-cf4a-4e304f3de8cf"
      },
      "outputs": [
        {
          "output_type": "stream",
          "name": "stdout",
          "text": [
            "Collecting ckiptagger[gdown,tf]\n",
            "  Downloading ckiptagger-0.2.1-py3-none-any.whl (34 kB)\n",
            "Requirement already satisfied: gdown in /usr/local/lib/python3.7/dist-packages (from ckiptagger[gdown,tf]) (3.6.4)\n",
            "Requirement already satisfied: tensorflow>=1.13.1 in /usr/local/lib/python3.7/dist-packages (from ckiptagger[gdown,tf]) (2.7.0)\n",
            "Requirement already satisfied: astunparse>=1.6.0 in /usr/local/lib/python3.7/dist-packages (from tensorflow>=1.13.1->ckiptagger[gdown,tf]) (1.6.3)\n",
            "Requirement already satisfied: tensorboard~=2.6 in /usr/local/lib/python3.7/dist-packages (from tensorflow>=1.13.1->ckiptagger[gdown,tf]) (2.7.0)\n",
            "Requirement already satisfied: six>=1.12.0 in /usr/local/lib/python3.7/dist-packages (from tensorflow>=1.13.1->ckiptagger[gdown,tf]) (1.15.0)\n",
            "Requirement already satisfied: tensorflow-io-gcs-filesystem>=0.21.0 in /usr/local/lib/python3.7/dist-packages (from tensorflow>=1.13.1->ckiptagger[gdown,tf]) (0.22.0)\n",
            "Requirement already satisfied: libclang>=9.0.1 in /usr/local/lib/python3.7/dist-packages (from tensorflow>=1.13.1->ckiptagger[gdown,tf]) (12.0.0)\n",
            "Requirement already satisfied: numpy>=1.14.5 in /usr/local/lib/python3.7/dist-packages (from tensorflow>=1.13.1->ckiptagger[gdown,tf]) (1.19.5)\n",
            "Requirement already satisfied: opt-einsum>=2.3.2 in /usr/local/lib/python3.7/dist-packages (from tensorflow>=1.13.1->ckiptagger[gdown,tf]) (3.3.0)\n",
            "Requirement already satisfied: gast<0.5.0,>=0.2.1 in /usr/local/lib/python3.7/dist-packages (from tensorflow>=1.13.1->ckiptagger[gdown,tf]) (0.4.0)\n",
            "Requirement already satisfied: absl-py>=0.4.0 in /usr/local/lib/python3.7/dist-packages (from tensorflow>=1.13.1->ckiptagger[gdown,tf]) (0.12.0)\n",
            "Requirement already satisfied: h5py>=2.9.0 in /usr/local/lib/python3.7/dist-packages (from tensorflow>=1.13.1->ckiptagger[gdown,tf]) (3.1.0)\n",
            "Requirement already satisfied: termcolor>=1.1.0 in /usr/local/lib/python3.7/dist-packages (from tensorflow>=1.13.1->ckiptagger[gdown,tf]) (1.1.0)\n",
            "Requirement already satisfied: keras-preprocessing>=1.1.1 in /usr/local/lib/python3.7/dist-packages (from tensorflow>=1.13.1->ckiptagger[gdown,tf]) (1.1.2)\n",
            "Requirement already satisfied: wrapt>=1.11.0 in /usr/local/lib/python3.7/dist-packages (from tensorflow>=1.13.1->ckiptagger[gdown,tf]) (1.13.3)\n",
            "Requirement already satisfied: wheel<1.0,>=0.32.0 in /usr/local/lib/python3.7/dist-packages (from tensorflow>=1.13.1->ckiptagger[gdown,tf]) (0.37.0)\n",
            "Requirement already satisfied: protobuf>=3.9.2 in /usr/local/lib/python3.7/dist-packages (from tensorflow>=1.13.1->ckiptagger[gdown,tf]) (3.17.3)\n",
            "Requirement already satisfied: flatbuffers<3.0,>=1.12 in /usr/local/lib/python3.7/dist-packages (from tensorflow>=1.13.1->ckiptagger[gdown,tf]) (2.0)\n",
            "Requirement already satisfied: tensorflow-estimator<2.8,~=2.7.0rc0 in /usr/local/lib/python3.7/dist-packages (from tensorflow>=1.13.1->ckiptagger[gdown,tf]) (2.7.0)\n",
            "Requirement already satisfied: grpcio<2.0,>=1.24.3 in /usr/local/lib/python3.7/dist-packages (from tensorflow>=1.13.1->ckiptagger[gdown,tf]) (1.42.0)\n",
            "Requirement already satisfied: keras<2.8,>=2.7.0rc0 in /usr/local/lib/python3.7/dist-packages (from tensorflow>=1.13.1->ckiptagger[gdown,tf]) (2.7.0)\n",
            "Requirement already satisfied: typing-extensions>=3.6.6 in /usr/local/lib/python3.7/dist-packages (from tensorflow>=1.13.1->ckiptagger[gdown,tf]) (3.10.0.2)\n",
            "Requirement already satisfied: google-pasta>=0.1.1 in /usr/local/lib/python3.7/dist-packages (from tensorflow>=1.13.1->ckiptagger[gdown,tf]) (0.2.0)\n",
            "Requirement already satisfied: cached-property in /usr/local/lib/python3.7/dist-packages (from h5py>=2.9.0->tensorflow>=1.13.1->ckiptagger[gdown,tf]) (1.5.2)\n",
            "Requirement already satisfied: google-auth-oauthlib<0.5,>=0.4.1 in /usr/local/lib/python3.7/dist-packages (from tensorboard~=2.6->tensorflow>=1.13.1->ckiptagger[gdown,tf]) (0.4.6)\n",
            "Requirement already satisfied: google-auth<3,>=1.6.3 in /usr/local/lib/python3.7/dist-packages (from tensorboard~=2.6->tensorflow>=1.13.1->ckiptagger[gdown,tf]) (1.35.0)\n",
            "Requirement already satisfied: tensorboard-data-server<0.7.0,>=0.6.0 in /usr/local/lib/python3.7/dist-packages (from tensorboard~=2.6->tensorflow>=1.13.1->ckiptagger[gdown,tf]) (0.6.1)\n",
            "Requirement already satisfied: setuptools>=41.0.0 in /usr/local/lib/python3.7/dist-packages (from tensorboard~=2.6->tensorflow>=1.13.1->ckiptagger[gdown,tf]) (57.4.0)\n",
            "Requirement already satisfied: tensorboard-plugin-wit>=1.6.0 in /usr/local/lib/python3.7/dist-packages (from tensorboard~=2.6->tensorflow>=1.13.1->ckiptagger[gdown,tf]) (1.8.0)\n",
            "Requirement already satisfied: requests<3,>=2.21.0 in /usr/local/lib/python3.7/dist-packages (from tensorboard~=2.6->tensorflow>=1.13.1->ckiptagger[gdown,tf]) (2.23.0)\n",
            "Requirement already satisfied: markdown>=2.6.8 in /usr/local/lib/python3.7/dist-packages (from tensorboard~=2.6->tensorflow>=1.13.1->ckiptagger[gdown,tf]) (3.3.6)\n",
            "Requirement already satisfied: werkzeug>=0.11.15 in /usr/local/lib/python3.7/dist-packages (from tensorboard~=2.6->tensorflow>=1.13.1->ckiptagger[gdown,tf]) (1.0.1)\n",
            "Requirement already satisfied: cachetools<5.0,>=2.0.0 in /usr/local/lib/python3.7/dist-packages (from google-auth<3,>=1.6.3->tensorboard~=2.6->tensorflow>=1.13.1->ckiptagger[gdown,tf]) (4.2.4)\n",
            "Requirement already satisfied: pyasn1-modules>=0.2.1 in /usr/local/lib/python3.7/dist-packages (from google-auth<3,>=1.6.3->tensorboard~=2.6->tensorflow>=1.13.1->ckiptagger[gdown,tf]) (0.2.8)\n",
            "Requirement already satisfied: rsa<5,>=3.1.4 in /usr/local/lib/python3.7/dist-packages (from google-auth<3,>=1.6.3->tensorboard~=2.6->tensorflow>=1.13.1->ckiptagger[gdown,tf]) (4.8)\n",
            "Requirement already satisfied: requests-oauthlib>=0.7.0 in /usr/local/lib/python3.7/dist-packages (from google-auth-oauthlib<0.5,>=0.4.1->tensorboard~=2.6->tensorflow>=1.13.1->ckiptagger[gdown,tf]) (1.3.0)\n",
            "Requirement already satisfied: importlib-metadata>=4.4 in /usr/local/lib/python3.7/dist-packages (from markdown>=2.6.8->tensorboard~=2.6->tensorflow>=1.13.1->ckiptagger[gdown,tf]) (4.8.2)\n",
            "Requirement already satisfied: zipp>=0.5 in /usr/local/lib/python3.7/dist-packages (from importlib-metadata>=4.4->markdown>=2.6.8->tensorboard~=2.6->tensorflow>=1.13.1->ckiptagger[gdown,tf]) (3.6.0)\n",
            "Requirement already satisfied: pyasn1<0.5.0,>=0.4.6 in /usr/local/lib/python3.7/dist-packages (from pyasn1-modules>=0.2.1->google-auth<3,>=1.6.3->tensorboard~=2.6->tensorflow>=1.13.1->ckiptagger[gdown,tf]) (0.4.8)\n",
            "Requirement already satisfied: idna<3,>=2.5 in /usr/local/lib/python3.7/dist-packages (from requests<3,>=2.21.0->tensorboard~=2.6->tensorflow>=1.13.1->ckiptagger[gdown,tf]) (2.10)\n",
            "Requirement already satisfied: chardet<4,>=3.0.2 in /usr/local/lib/python3.7/dist-packages (from requests<3,>=2.21.0->tensorboard~=2.6->tensorflow>=1.13.1->ckiptagger[gdown,tf]) (3.0.4)\n",
            "Requirement already satisfied: certifi>=2017.4.17 in /usr/local/lib/python3.7/dist-packages (from requests<3,>=2.21.0->tensorboard~=2.6->tensorflow>=1.13.1->ckiptagger[gdown,tf]) (2021.10.8)\n",
            "Requirement already satisfied: urllib3!=1.25.0,!=1.25.1,<1.26,>=1.21.1 in /usr/local/lib/python3.7/dist-packages (from requests<3,>=2.21.0->tensorboard~=2.6->tensorflow>=1.13.1->ckiptagger[gdown,tf]) (1.24.3)\n",
            "Requirement already satisfied: oauthlib>=3.0.0 in /usr/local/lib/python3.7/dist-packages (from requests-oauthlib>=0.7.0->google-auth-oauthlib<0.5,>=0.4.1->tensorboard~=2.6->tensorflow>=1.13.1->ckiptagger[gdown,tf]) (3.1.1)\n",
            "Requirement already satisfied: tqdm in /usr/local/lib/python3.7/dist-packages (from gdown->ckiptagger[gdown,tf]) (4.62.3)\n",
            "Installing collected packages: ckiptagger\n",
            "Successfully installed ckiptagger-0.2.1\n"
          ]
        }
      ],
      "source": [
        "pip install -U ckiptagger[tf,gdown]"
      ]
    },
    {
      "cell_type": "code",
      "execution_count": 2,
      "metadata": {
        "id": "YQvXIXMVHmBB"
      },
      "outputs": [],
      "source": [
        "from ckiptagger import data_utils, construct_dictionary, WS, POS, NER"
      ]
    },
    {
      "cell_type": "code",
      "source": [
        "data_utils.download_data_gdown(\"./\") # gdrive-ckip"
      ],
      "metadata": {
        "colab": {
          "base_uri": "https://localhost:8080/"
        },
        "id": "nmIiC9vnN9YL",
        "outputId": "d07e3ba6-c12a-492e-afb3-2be4a754cd51"
      },
      "execution_count": 3,
      "outputs": [
        {
          "output_type": "stream",
          "name": "stderr",
          "text": [
            "Downloading...\n",
            "From: https://drive.google.com/uc?id=1efHsY16pxK0lBD2gYCgCTnv1Swstq771\n",
            "To: /content/data.zip\n",
            "100%|██████████| 1.88G/1.88G [00:16<00:00, 117MB/s] \n"
          ]
        }
      ]
    },
    {
      "cell_type": "code",
      "source": [
        "# To use GPU:\n",
        "#    1. Install tensorflow-gpu (see Installation)\n",
        "#    2. Set CUDA_VISIBLE_DEVICES environment variable, e.g. os.environ[\"CUDA_VISIBLE_DEVICES\"] = \"0\"\n",
        "#    3. Set disable_cuda=False, e.g. ws = WS(\"./data\", disable_cuda=False)\n",
        "# To use CPU:\n",
        "ws = WS(\"./data\")\n",
        "pos = POS(\"./data\")\n",
        "ner = NER(\"./data\")"
      ],
      "metadata": {
        "colab": {
          "base_uri": "https://localhost:8080/"
        },
        "id": "iqT0jprTOCCZ",
        "outputId": "e343dbdb-e47a-463e-e728-6bad731554f8"
      },
      "execution_count": 4,
      "outputs": [
        {
          "output_type": "stream",
          "name": "stderr",
          "text": [
            "/usr/local/lib/python3.7/dist-packages/ckiptagger/model_ws.py:106: UserWarning: `tf.nn.rnn_cell.LSTMCell` is deprecated and will be removed in a future version. This class is equivalent as `tf.keras.layers.LSTMCell`, and will be replaced by that in Tensorflow 2.0.\n",
            "  cell = tf.compat.v1.nn.rnn_cell.LSTMCell(hidden_d, name=name)\n",
            "/usr/local/lib/python3.7/dist-packages/keras/layers/legacy_rnn/rnn_cell_impl.py:988: UserWarning: `layer.add_variable` is deprecated and will be removed in a future version. Please use `layer.add_weight` method instead.\n",
            "  partitioner=maybe_partitioner)\n",
            "/usr/local/lib/python3.7/dist-packages/keras/layers/legacy_rnn/rnn_cell_impl.py:996: UserWarning: `layer.add_variable` is deprecated and will be removed in a future version. Please use `layer.add_weight` method instead.\n",
            "  initializer=initializer)\n",
            "/usr/local/lib/python3.7/dist-packages/ckiptagger/model_pos.py:56: UserWarning: `tf.nn.rnn_cell.LSTMCell` is deprecated and will be removed in a future version. This class is equivalent as `tf.keras.layers.LSTMCell`, and will be replaced by that in Tensorflow 2.0.\n",
            "  cell = tf.compat.v1.nn.rnn_cell.LSTMCell(hidden_d, name=name)\n",
            "/usr/local/lib/python3.7/dist-packages/ckiptagger/model_ner.py:57: UserWarning: `tf.nn.rnn_cell.LSTMCell` is deprecated and will be removed in a future version. This class is equivalent as `tf.keras.layers.LSTMCell`, and will be replaced by that in Tensorflow 2.0.\n",
            "  cell = tf.compat.v1.nn.rnn_cell.LSTMCell(hidden_d, name=name)\n"
          ]
        }
      ]
    },
    {
      "cell_type": "code",
      "source": [
        "article = ['Mar 7, 2019 — 全臺最「網美」的書店，港都特色處處都是打卡熱點 · 國境之南的據點'\n",
        "       ,'誠品以「人文、藝術、創意、生活」為核心價值，由推廣閱讀出發，並透過線上網路，傳遞博雅的溫度，打造全新的文化場域。']"
      ],
      "metadata": {
        "id": "ks-fy37ZRsUv"
      },
      "execution_count": 5,
      "outputs": []
    },
    {
      "cell_type": "code",
      "source": [
        "# 定義字典\n",
        "word_to_weight = {\n",
        "    \"網美\": 1000,\"國境之南\": 10000,\"公有\": 2}\n",
        "dictionary = construct_dictionary(word_to_weight)\n",
        "print(dictionary)"
      ],
      "metadata": {
        "colab": {
          "base_uri": "https://localhost:8080/"
        },
        "id": "09OUbQcDSke-",
        "outputId": "775018fb-ba2c-421e-f217-9438f0fc917f"
      },
      "execution_count": 8,
      "outputs": [
        {
          "output_type": "stream",
          "name": "stdout",
          "text": [
            "[(2, {'網美': 1000.0, '公有': 2.0}), (4, {'國境之南': 10000.0})]\n"
          ]
        }
      ]
    },
    {
      "cell_type": "code",
      "source": [
        "%%time\n",
        "# CPU times: user 1min 25s, sys: 2.3 s, total: 1min 27s\n",
        "# Wall time: 46.2 s\n",
        "\n",
        "word_sentence_list = ws(\n",
        "    article,\n",
        "    # sentence_segmentation = True, # To consider delimiters\n",
        "    # segment_delimiter_set = {\",\", \"。\", \":\", \"?\", \"!\", \";\"}), # This is the defualt set of delimiters\n",
        "    # recommend_dictionary = dictionary1, # words in this dictionary are encouraged\n",
        "    coerce_dictionary = dictionary # words in this dictionary are forced\n",
        ")\n",
        "\n",
        "pos_sentence_list = pos(word_sentence_list)\n",
        "entity_sentence_list = ner(word_sentence_list, pos_sentence_list)"
      ],
      "metadata": {
        "colab": {
          "base_uri": "https://localhost:8080/"
        },
        "id": "64mo8_lIPG52",
        "outputId": "c84ed509-3cf1-493e-facc-7e66c36561fc"
      },
      "execution_count": 9,
      "outputs": [
        {
          "output_type": "stream",
          "name": "stdout",
          "text": [
            "CPU times: user 2.27 s, sys: 271 ms, total: 2.55 s\n",
            "Wall time: 1.45 s\n"
          ]
        }
      ]
    },
    {
      "cell_type": "code",
      "source": [
        "def print_word_pos_sentence(word_sentence, pos_sentence):\n",
        "    assert len(word_sentence) == len(pos_sentence)\n",
        "    for word, pos in zip(word_sentence, pos_sentence):\n",
        "        print(f\"{word}({pos})\", end=\"\\u3000\")\n",
        "    print()\n",
        "    return\n",
        "    \n",
        "for i, sentence in enumerate(article):\n",
        "    print()\n",
        "    print(f\"'{sentence}'\")\n",
        "    print_word_pos_sentence(word_sentence_list[i],  pos_sentence_list[i])\n",
        "    for entity in sorted(entity_sentence_list[i]):\n",
        "        print(entity)"
      ],
      "metadata": {
        "colab": {
          "base_uri": "https://localhost:8080/"
        },
        "id": "RGBtj6e2PR2H",
        "outputId": "bab1869d-80e8-423d-e80b-a791c8e6a588"
      },
      "execution_count": 10,
      "outputs": [
        {
          "output_type": "stream",
          "name": "stdout",
          "text": [
            "\n",
            "'Mar 7, 2019 — 全臺最「網美」的書店，港都特色處處都是打卡熱點 · 國境之南的據點'\n",
            "Mar (FW)　7,(Neu)　 (WHITESPACE)　2019(Neu)　 — (FW)　全(Neqa)　臺(Nc)　最(Dfa)　「(PARENTHESISCATEGORY)　網美(VH)　」(PARENTHESISCATEGORY)　的(DE)　書店(Nc)　，(COMMACATEGORY)　港都(Nc)　特色(Na)　處處(D)　都(D)　是(SHI)　打卡(VA)　熱點(Na)　 (WHITESPACE)　·(PERIODCATEGORY)　 (WHITESPACE)　國境之南(Nc)　的(DE)　據點(Na)　\n",
            "(0, 4, 'ORG', 'Mar ')\n",
            "(15, 16, 'GPE', '臺')\n",
            "(25, 27, 'GPE', '港都')\n",
            "(37, 44, 'LOC', ' · 國境之南')\n",
            "\n",
            "'誠品以「人文、藝術、創意、生活」為核心價值，由推廣閱讀出發，並透過線上網路，傳遞博雅的溫度，打造全新的文化場域。'\n",
            "誠品(Nb)　以(P)　「(PARENTHESISCATEGORY)　人文(Na)　、(PAUSECATEGORY)　藝術(Na)　、(PAUSECATEGORY)　創意(Na)　、(PAUSECATEGORY)　生活(Na)　」(PARENTHESISCATEGORY)　為(VG)　核心(Na)　價值(Na)　，(COMMACATEGORY)　由(P)　推廣(VC)　閱讀(VC)　出發(VA)　，(COMMACATEGORY)　並(Cbb)　透過(P)　線上(Nc)　網路(Na)　，(COMMACATEGORY)　傳遞(VD)　博雅(Na)　的(DE)　溫度(Na)　，(COMMACATEGORY)　打造(VC)　全新(VH)　的(DE)　文化(Na)　場域(Nc)　。(PERIODCATEGORY)　\n"
          ]
        }
      ]
    },
    {
      "cell_type": "code",
      "source": [
        "# 'Mar 7, 2019 — 全臺最「網美」的書店，港都特色處處都是打卡熱點 · 國境之南的據點'\n",
        "# Mar (FW)　7,(Neu)　 (WHITESPACE)　2019(Neu)　 — (FW)　全(Neqa)　臺(Nc)　最(Dfa)　「(PARENTHESISCATEGORY)　網美(VH)　」(PARENTHESISCATEGORY)　的(DE)　書店(Nc)　，(COMMACATEGORY)　港都(Nc)　特色(Na)　處處(D)　都(D)　是(SHI)　打卡(VA)　熱點(Na)　 (WHITESPACE)　·(PERIODCATEGORY)　 (WHITESPACE)　國境(Nc)　之(DE)　南(Ncd)　的(DE)　據點(Na)　\n",
        "# (0, 4, 'ORG', 'Mar ')\n",
        "# (15, 16, 'GPE', '臺')\n",
        "# (25, 27, 'GPE', '港都')\n",
        "\n",
        "# '誠品以「人文、藝術、創意、生活」為核心價值，由推廣閱讀出發，並透過線上網路，傳遞博雅的溫度，打造全新的文化場域。'\n",
        "# 誠品(Nb)　以(P)　「(PARENTHESISCATEGORY)　人文(Na)　、(PAUSECATEGORY)　藝術(Na)　、(PAUSECATEGORY)　創意(Na)　、(PAUSECATEGORY)　生活(Na)　」(PARENTHESISCATEGORY)　為(VG)　核心(Na)　價值(Na)　，(COMMACATEGORY)　由(P)　推廣(VC)　閱讀(VC)　出發(VA)　，(COMMACATEGORY)　並(Cbb)　透過(P)　線上(Nc)　網路(Na)　，(COMMACATEGORY)　傳遞(VD)　博雅(Na)　的(DE)　溫度(Na)　，(COMMACATEGORY)　打造(VC)　全新(VH)　的(DE)　文化(Na)　場域(Nc)　。(PERIODCATEGORY)　"
      ],
      "metadata": {
        "id": "hbNPK5BuSyf8"
      },
      "execution_count": null,
      "outputs": []
    }
  ],
  "metadata": {
    "colab": {
      "collapsed_sections": [],
      "name": "NER - CKIPtagger.ipynb",
      "provenance": [],
      "mount_file_id": "1I8I5mjl75vRU5YhBa2vOQU4hlDkZTAlD",
      "authorship_tag": "ABX9TyMNVZWvQWhcv/HGpSaL2p9z",
      "include_colab_link": true
    },
    "kernelspec": {
      "display_name": "Python 3",
      "name": "python3"
    },
    "language_info": {
      "name": "python"
    }
  },
  "nbformat": 4,
  "nbformat_minor": 0
}