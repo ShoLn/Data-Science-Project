{
 "cells": [
  {
   "cell_type": "markdown",
   "metadata": {
    "id": "g2PHpZaCyOix"
   },
   "source": [
    "# Competition Link:\n",
    "* https://www.kaggle.com/c/outbrain-click-prediction/overview\n"
   ]
  },
  {
   "cell_type": "markdown",
   "metadata": {
    "id": "jtlB_Dp8fqGz"
   },
   "source": [
    "## Data Description:\n",
    "* unique id (uuid):Each user\n",
    "* (document_id):A person can view a document \n",
    "* (ad_id):a set of ads are displayed. \n",
    "* (campaign_id)/(advertiser_id):Each ad belongs to a campaign run by an advertiser. \n",
    "\n"
   ]
  },
  {
   "cell_type": "code",
   "execution_count": 2,
   "metadata": {
    "id": "yOjT2IlLAivd"
   },
   "outputs": [],
   "source": [
    "import pandas as pd\n",
    "import numpy as np\n",
    "\n",
    "path = '...'"
   ]
  },
  {
   "cell_type": "markdown",
   "metadata": {
    "id": "UUamxKSNPXJU"
   },
   "source": [
    "# Join Table\n",
    "* documents_categories:先取最大的confidence"
   ]
  },
  {
   "cell_type": "code",
   "execution_count": null,
   "metadata": {
    "colab": {
     "base_uri": "https://localhost:8080/",
     "height": 110
    },
    "id": "EhHDM2dlIbu8",
    "outputId": "8a983028-9961-49a0-9e56-bf059facb0dc"
   },
   "outputs": [
    {
     "data": {
      "text/html": [
       "<div>\n",
       "<style scoped>\n",
       "    .dataframe tbody tr th:only-of-type {\n",
       "        vertical-align: middle;\n",
       "    }\n",
       "\n",
       "    .dataframe tbody tr th {\n",
       "        vertical-align: top;\n",
       "    }\n",
       "\n",
       "    .dataframe thead th {\n",
       "        text-align: right;\n",
       "    }\n",
       "</style>\n",
       "<table border=\"1\" class=\"dataframe\">\n",
       "  <thead>\n",
       "    <tr style=\"text-align: right;\">\n",
       "      <th></th>\n",
       "      <th>document_id</th>\n",
       "      <th>category_id</th>\n",
       "      <th>confidence_level</th>\n",
       "    </tr>\n",
       "  </thead>\n",
       "  <tbody>\n",
       "    <tr>\n",
       "      <th>2352305</th>\n",
       "      <td>1</td>\n",
       "      <td>1706</td>\n",
       "      <td>0.471220</td>\n",
       "    </tr>\n",
       "    <tr>\n",
       "      <th>2352306</th>\n",
       "      <td>1</td>\n",
       "      <td>1603</td>\n",
       "      <td>0.035854</td>\n",
       "    </tr>\n",
       "  </tbody>\n",
       "</table>\n",
       "</div>"
      ],
      "text/plain": [
       "         document_id  category_id  confidence_level\n",
       "2352305            1         1706          0.471220\n",
       "2352306            1         1603          0.035854"
      ]
     },
     "execution_count": 4,
     "metadata": {
      "tags": []
     },
     "output_type": "execute_result"
    }
   ],
   "source": [
    "documents_categories= pd.read_csv(path+'documents_categories.csv')\n",
    "documents_categories[documents_categories['document_id']==1]"
   ]
  },
  {
   "cell_type": "markdown",
   "metadata": {
    "id": "wvthiUwSJZyj"
   },
   "source": [
    "#### Step 1: groupby document_id，取confidence_level最大的當文件類別"
   ]
  },
  {
   "cell_type": "code",
   "execution_count": null,
   "metadata": {
    "id": "pF9L8Nc7IzTF"
   },
   "outputs": [],
   "source": [
    "#先取最大\n",
    "documents_categories = documents_categories.sort_values('confidence_level', ascending=False).groupby('document_id').first()"
   ]
  },
  {
   "cell_type": "code",
   "execution_count": null,
   "metadata": {
    "id": "Kq8QrYIxIzM4"
   },
   "outputs": [],
   "source": [
    "documents_categories['document_id'] = documents_categories.index"
   ]
  },
  {
   "cell_type": "code",
   "execution_count": null,
   "metadata": {
    "id": "DgHK6w_CJR0e"
   },
   "outputs": [],
   "source": [
    "documents_categories = documents_categories.reset_index(drop=True)"
   ]
  },
  {
   "cell_type": "code",
   "execution_count": null,
   "metadata": {
    "colab": {
     "base_uri": "https://localhost:8080/",
     "height": 141
    },
    "id": "IbPV8UBcMAzn",
    "outputId": "e1658e82-9ccd-47cb-cd17-318241db8267"
   },
   "outputs": [
    {
     "data": {
      "text/html": [
       "<div>\n",
       "<style scoped>\n",
       "    .dataframe tbody tr th:only-of-type {\n",
       "        vertical-align: middle;\n",
       "    }\n",
       "\n",
       "    .dataframe tbody tr th {\n",
       "        vertical-align: top;\n",
       "    }\n",
       "\n",
       "    .dataframe thead th {\n",
       "        text-align: right;\n",
       "    }\n",
       "</style>\n",
       "<table border=\"1\" class=\"dataframe\">\n",
       "  <thead>\n",
       "    <tr style=\"text-align: right;\">\n",
       "      <th></th>\n",
       "      <th>category_id</th>\n",
       "      <th>confidence_level</th>\n",
       "      <th>document_id</th>\n",
       "    </tr>\n",
       "  </thead>\n",
       "  <tbody>\n",
       "    <tr>\n",
       "      <th>0</th>\n",
       "      <td>1706</td>\n",
       "      <td>0.471220</td>\n",
       "      <td>1</td>\n",
       "    </tr>\n",
       "    <tr>\n",
       "      <th>1</th>\n",
       "      <td>1705</td>\n",
       "      <td>0.600000</td>\n",
       "      <td>2</td>\n",
       "    </tr>\n",
       "    <tr>\n",
       "      <th>2</th>\n",
       "      <td>2003</td>\n",
       "      <td>0.522837</td>\n",
       "      <td>3</td>\n",
       "    </tr>\n",
       "  </tbody>\n",
       "</table>\n",
       "</div>"
      ],
      "text/plain": [
       "   category_id  confidence_level  document_id\n",
       "0         1706          0.471220            1\n",
       "1         1705          0.600000            2\n",
       "2         2003          0.522837            3"
      ]
     },
     "execution_count": 8,
     "metadata": {
      "tags": []
     },
     "output_type": "execute_result"
    }
   ],
   "source": [
    "documents_categories.head(3)"
   ]
  },
  {
   "cell_type": "code",
   "execution_count": null,
   "metadata": {
    "id": "sBb4G8udOK3h"
   },
   "outputs": [],
   "source": [
    "documents_categories = documents_categories[['document_id','category_id']]"
   ]
  },
  {
   "cell_type": "markdown",
   "metadata": {
    "id": "jk1hVaYJMe7c"
   },
   "source": [
    "#### Step 2: 將documents_categories join到 event, 準備做為test data特徵"
   ]
  },
  {
   "cell_type": "code",
   "execution_count": null,
   "metadata": {
    "id": "cUJfdCdwIzAx"
   },
   "outputs": [],
   "source": [
    "events = pd.read_csv('.../events.csv',usecols=['display_id','document_id'])"
   ]
  },
  {
   "cell_type": "code",
   "execution_count": null,
   "metadata": {
    "colab": {
     "base_uri": "https://localhost:8080/",
     "height": 141
    },
    "id": "tYCBXu4WMnUs",
    "outputId": "63f8458c-b3a0-4cbe-d2dc-d6a6651dd8b8"
   },
   "outputs": [
    {
     "data": {
      "text/html": [
       "<div>\n",
       "<style scoped>\n",
       "    .dataframe tbody tr th:only-of-type {\n",
       "        vertical-align: middle;\n",
       "    }\n",
       "\n",
       "    .dataframe tbody tr th {\n",
       "        vertical-align: top;\n",
       "    }\n",
       "\n",
       "    .dataframe thead th {\n",
       "        text-align: right;\n",
       "    }\n",
       "</style>\n",
       "<table border=\"1\" class=\"dataframe\">\n",
       "  <thead>\n",
       "    <tr style=\"text-align: right;\">\n",
       "      <th></th>\n",
       "      <th>display_id</th>\n",
       "      <th>document_id</th>\n",
       "    </tr>\n",
       "  </thead>\n",
       "  <tbody>\n",
       "    <tr>\n",
       "      <th>0</th>\n",
       "      <td>1</td>\n",
       "      <td>379743</td>\n",
       "    </tr>\n",
       "    <tr>\n",
       "      <th>1</th>\n",
       "      <td>2</td>\n",
       "      <td>1794259</td>\n",
       "    </tr>\n",
       "    <tr>\n",
       "      <th>2</th>\n",
       "      <td>3</td>\n",
       "      <td>1179111</td>\n",
       "    </tr>\n",
       "  </tbody>\n",
       "</table>\n",
       "</div>"
      ],
      "text/plain": [
       "   display_id  document_id\n",
       "0           1       379743\n",
       "1           2      1794259\n",
       "2           3      1179111"
      ]
     },
     "execution_count": 11,
     "metadata": {
      "tags": []
     },
     "output_type": "execute_result"
    }
   ],
   "source": [
    "events.head(3)"
   ]
  },
  {
   "cell_type": "code",
   "execution_count": null,
   "metadata": {
    "id": "juroynLRMl7c"
   },
   "outputs": [],
   "source": [
    "events = events.merge(documents_categories,on = 'document_id',how='left')"
   ]
  },
  {
   "cell_type": "code",
   "execution_count": null,
   "metadata": {
    "id": "wBUaLaS7NUKu"
   },
   "outputs": [],
   "source": [
    "events = events[['display_id',\t'document_id',\t'category_id']]"
   ]
  },
  {
   "cell_type": "code",
   "execution_count": null,
   "metadata": {
    "colab": {
     "base_uri": "https://localhost:8080/",
     "height": 141
    },
    "id": "rip2bgROJn9-",
    "outputId": "464adab1-569f-46ba-dfe3-1ab3096d1358"
   },
   "outputs": [
    {
     "data": {
      "text/html": [
       "<div>\n",
       "<style scoped>\n",
       "    .dataframe tbody tr th:only-of-type {\n",
       "        vertical-align: middle;\n",
       "    }\n",
       "\n",
       "    .dataframe tbody tr th {\n",
       "        vertical-align: top;\n",
       "    }\n",
       "\n",
       "    .dataframe thead th {\n",
       "        text-align: right;\n",
       "    }\n",
       "</style>\n",
       "<table border=\"1\" class=\"dataframe\">\n",
       "  <thead>\n",
       "    <tr style=\"text-align: right;\">\n",
       "      <th></th>\n",
       "      <th>display_id</th>\n",
       "      <th>document_id</th>\n",
       "      <th>category_id</th>\n",
       "    </tr>\n",
       "  </thead>\n",
       "  <tbody>\n",
       "    <tr>\n",
       "      <th>0</th>\n",
       "      <td>1</td>\n",
       "      <td>379743</td>\n",
       "      <td>1203.0</td>\n",
       "    </tr>\n",
       "    <tr>\n",
       "      <th>1</th>\n",
       "      <td>2</td>\n",
       "      <td>1794259</td>\n",
       "      <td>1403.0</td>\n",
       "    </tr>\n",
       "    <tr>\n",
       "      <th>2</th>\n",
       "      <td>3</td>\n",
       "      <td>1179111</td>\n",
       "      <td>NaN</td>\n",
       "    </tr>\n",
       "  </tbody>\n",
       "</table>\n",
       "</div>"
      ],
      "text/plain": [
       "   display_id  document_id  category_id\n",
       "0           1       379743       1203.0\n",
       "1           2      1794259       1403.0\n",
       "2           3      1179111          NaN"
      ]
     },
     "execution_count": 14,
     "metadata": {
      "tags": []
     },
     "output_type": "execute_result"
    }
   ],
   "source": [
    "events.head(3)"
   ]
  },
  {
   "cell_type": "markdown",
   "metadata": {
    "id": "4Eb3A4S-JoNM"
   },
   "source": [
    "#### Step 3 : Merge到test data"
   ]
  },
  {
   "cell_type": "code",
   "execution_count": null,
   "metadata": {
    "colab": {
     "base_uri": "https://localhost:8080/",
     "height": 141
    },
    "id": "DaofYHB_Jn6f",
    "outputId": "4ea85481-0e8d-4e57-ad0c-cbe20f339a4a"
   },
   "outputs": [
    {
     "data": {
      "text/html": [
       "<div>\n",
       "<style scoped>\n",
       "    .dataframe tbody tr th:only-of-type {\n",
       "        vertical-align: middle;\n",
       "    }\n",
       "\n",
       "    .dataframe tbody tr th {\n",
       "        vertical-align: top;\n",
       "    }\n",
       "\n",
       "    .dataframe thead th {\n",
       "        text-align: right;\n",
       "    }\n",
       "</style>\n",
       "<table border=\"1\" class=\"dataframe\">\n",
       "  <thead>\n",
       "    <tr style=\"text-align: right;\">\n",
       "      <th></th>\n",
       "      <th>display_id</th>\n",
       "      <th>ad_id</th>\n",
       "    </tr>\n",
       "  </thead>\n",
       "  <tbody>\n",
       "    <tr>\n",
       "      <th>0</th>\n",
       "      <td>16874594</td>\n",
       "      <td>66758</td>\n",
       "    </tr>\n",
       "    <tr>\n",
       "      <th>1</th>\n",
       "      <td>16874594</td>\n",
       "      <td>150083</td>\n",
       "    </tr>\n",
       "    <tr>\n",
       "      <th>2</th>\n",
       "      <td>16874594</td>\n",
       "      <td>162754</td>\n",
       "    </tr>\n",
       "  </tbody>\n",
       "</table>\n",
       "</div>"
      ],
      "text/plain": [
       "   display_id   ad_id\n",
       "0    16874594   66758\n",
       "1    16874594  150083\n",
       "2    16874594  162754"
      ]
     },
     "execution_count": 15,
     "metadata": {
      "tags": []
     },
     "output_type": "execute_result"
    }
   ],
   "source": [
    "test = pd.read_csv(\".../clicks_test.csv\")\n",
    "test.head(3)"
   ]
  },
  {
   "cell_type": "code",
   "execution_count": null,
   "metadata": {
    "id": "bPwIkqPVJnxR"
   },
   "outputs": [],
   "source": [
    "test = test.merge(events,on='display_id',how='left')"
   ]
  },
  {
   "cell_type": "markdown",
   "metadata": {
    "id": "WybupoVqKJaP"
   },
   "source": [
    "得到display id 的category_id"
   ]
  },
  {
   "cell_type": "code",
   "execution_count": null,
   "metadata": {
    "colab": {
     "base_uri": "https://localhost:8080/",
     "height": 263
    },
    "id": "EyF9e-nzJ9cW",
    "outputId": "68a0df8d-8215-4c33-a8e5-038a137c47da"
   },
   "outputs": [
    {
     "data": {
      "text/html": [
       "<div>\n",
       "<style scoped>\n",
       "    .dataframe tbody tr th:only-of-type {\n",
       "        vertical-align: middle;\n",
       "    }\n",
       "\n",
       "    .dataframe tbody tr th {\n",
       "        vertical-align: top;\n",
       "    }\n",
       "\n",
       "    .dataframe thead th {\n",
       "        text-align: right;\n",
       "    }\n",
       "</style>\n",
       "<table border=\"1\" class=\"dataframe\">\n",
       "  <thead>\n",
       "    <tr style=\"text-align: right;\">\n",
       "      <th></th>\n",
       "      <th>display_id</th>\n",
       "      <th>ad_id</th>\n",
       "      <th>document_id</th>\n",
       "      <th>category_id</th>\n",
       "    </tr>\n",
       "  </thead>\n",
       "  <tbody>\n",
       "    <tr>\n",
       "      <th>0</th>\n",
       "      <td>16874594</td>\n",
       "      <td>66758</td>\n",
       "      <td>1792425</td>\n",
       "      <td>1702.0</td>\n",
       "    </tr>\n",
       "    <tr>\n",
       "      <th>1</th>\n",
       "      <td>16874594</td>\n",
       "      <td>150083</td>\n",
       "      <td>1792425</td>\n",
       "      <td>1702.0</td>\n",
       "    </tr>\n",
       "    <tr>\n",
       "      <th>2</th>\n",
       "      <td>16874594</td>\n",
       "      <td>162754</td>\n",
       "      <td>1792425</td>\n",
       "      <td>1702.0</td>\n",
       "    </tr>\n",
       "    <tr>\n",
       "      <th>3</th>\n",
       "      <td>16874594</td>\n",
       "      <td>170392</td>\n",
       "      <td>1792425</td>\n",
       "      <td>1702.0</td>\n",
       "    </tr>\n",
       "    <tr>\n",
       "      <th>4</th>\n",
       "      <td>16874594</td>\n",
       "      <td>172888</td>\n",
       "      <td>1792425</td>\n",
       "      <td>1702.0</td>\n",
       "    </tr>\n",
       "    <tr>\n",
       "      <th>5</th>\n",
       "      <td>16874594</td>\n",
       "      <td>180797</td>\n",
       "      <td>1792425</td>\n",
       "      <td>1702.0</td>\n",
       "    </tr>\n",
       "    <tr>\n",
       "      <th>6</th>\n",
       "      <td>16874595</td>\n",
       "      <td>8846</td>\n",
       "      <td>1773803</td>\n",
       "      <td>1702.0</td>\n",
       "    </tr>\n",
       "  </tbody>\n",
       "</table>\n",
       "</div>"
      ],
      "text/plain": [
       "   display_id   ad_id  document_id  category_id\n",
       "0    16874594   66758      1792425       1702.0\n",
       "1    16874594  150083      1792425       1702.0\n",
       "2    16874594  162754      1792425       1702.0\n",
       "3    16874594  170392      1792425       1702.0\n",
       "4    16874594  172888      1792425       1702.0\n",
       "5    16874594  180797      1792425       1702.0\n",
       "6    16874595    8846      1773803       1702.0"
      ]
     },
     "execution_count": 17,
     "metadata": {
      "tags": []
     },
     "output_type": "execute_result"
    }
   ],
   "source": [
    "test.head(7)"
   ]
  },
  {
   "cell_type": "code",
   "execution_count": null,
   "metadata": {
    "id": "cl41k5WdNrR1"
   },
   "outputs": [],
   "source": [
    "del events #Be nice to your notebook"
   ]
  },
  {
   "cell_type": "markdown",
   "metadata": {
    "id": "fp_jh_V0KXO5"
   },
   "source": [
    "#### Step 4 : 運用promoted_content資訊，串出ad_id之category_id，將欄位名稱取為ad_category_id"
   ]
  },
  {
   "cell_type": "code",
   "execution_count": null,
   "metadata": {
    "id": "RsVIZXN1LM4A"
   },
   "outputs": [],
   "source": [
    "promoted_content = pd.read_csv('.../promoted_content.csv')"
   ]
  },
  {
   "cell_type": "code",
   "execution_count": null,
   "metadata": {
    "id": "BMtCJgzXLQQU"
   },
   "outputs": [],
   "source": [
    "promoted_content = promoted_content[['ad_id','document_id']]"
   ]
  },
  {
   "cell_type": "code",
   "execution_count": null,
   "metadata": {
    "id": "kHaXqxMCJ9UI"
   },
   "outputs": [],
   "source": [
    "promoted_content =promoted_content.merge(documents_categories,on = 'document_id',how='left')"
   ]
  },
  {
   "cell_type": "code",
   "execution_count": null,
   "metadata": {
    "id": "ybtku8txOWgx"
   },
   "outputs": [],
   "source": [
    "promoted_content.columns=['ad_id','ad_document_id',\t'ad_category_id']"
   ]
  },
  {
   "cell_type": "code",
   "execution_count": null,
   "metadata": {
    "colab": {
     "base_uri": "https://localhost:8080/",
     "height": 141
    },
    "id": "3u4x55xqOE1Z",
    "outputId": "67b3900c-0733-408f-a230-528e20c17a1d"
   },
   "outputs": [
    {
     "data": {
      "text/html": [
       "<div>\n",
       "<style scoped>\n",
       "    .dataframe tbody tr th:only-of-type {\n",
       "        vertical-align: middle;\n",
       "    }\n",
       "\n",
       "    .dataframe tbody tr th {\n",
       "        vertical-align: top;\n",
       "    }\n",
       "\n",
       "    .dataframe thead th {\n",
       "        text-align: right;\n",
       "    }\n",
       "</style>\n",
       "<table border=\"1\" class=\"dataframe\">\n",
       "  <thead>\n",
       "    <tr style=\"text-align: right;\">\n",
       "      <th></th>\n",
       "      <th>ad_id</th>\n",
       "      <th>ad_document_id</th>\n",
       "      <th>ad_category_id</th>\n",
       "    </tr>\n",
       "  </thead>\n",
       "  <tbody>\n",
       "    <tr>\n",
       "      <th>0</th>\n",
       "      <td>1</td>\n",
       "      <td>6614</td>\n",
       "      <td>1209.0</td>\n",
       "    </tr>\n",
       "    <tr>\n",
       "      <th>1</th>\n",
       "      <td>2</td>\n",
       "      <td>471467</td>\n",
       "      <td>1505.0</td>\n",
       "    </tr>\n",
       "    <tr>\n",
       "      <th>2</th>\n",
       "      <td>3</td>\n",
       "      <td>7692</td>\n",
       "      <td>1209.0</td>\n",
       "    </tr>\n",
       "  </tbody>\n",
       "</table>\n",
       "</div>"
      ],
      "text/plain": [
       "   ad_id  ad_document_id  ad_category_id\n",
       "0      1            6614          1209.0\n",
       "1      2          471467          1505.0\n",
       "2      3            7692          1209.0"
      ]
     },
     "execution_count": 23,
     "metadata": {
      "tags": []
     },
     "output_type": "execute_result"
    }
   ],
   "source": [
    "promoted_content.head(3)"
   ]
  },
  {
   "cell_type": "markdown",
   "metadata": {
    "id": "E7sYovNuKnBx"
   },
   "source": [
    "#### Step 5: 將ad_category_id呈現於test data，檢視該廣告是否與廣告群屬性相同？"
   ]
  },
  {
   "cell_type": "code",
   "execution_count": null,
   "metadata": {
    "id": "6KB84p06J9Rv"
   },
   "outputs": [],
   "source": [
    "test = test.merge(promoted_content,on='ad_id',how='left')"
   ]
  },
  {
   "cell_type": "code",
   "execution_count": null,
   "metadata": {
    "id": "CgwWnVpMOssI"
   },
   "outputs": [],
   "source": [
    "test['bool']=list(test['category_id']==test['ad_category_id'])\n",
    "test['bool']=test['bool'].astype(int)"
   ]
  },
  {
   "cell_type": "code",
   "execution_count": null,
   "metadata": {
    "colab": {
     "base_uri": "https://localhost:8080/",
     "height": 263
    },
    "id": "H_JSNh7LRmsX",
    "outputId": "1550752a-e3a9-4329-9a0a-d0e658ae6575"
   },
   "outputs": [
    {
     "data": {
      "text/html": [
       "<div>\n",
       "<style scoped>\n",
       "    .dataframe tbody tr th:only-of-type {\n",
       "        vertical-align: middle;\n",
       "    }\n",
       "\n",
       "    .dataframe tbody tr th {\n",
       "        vertical-align: top;\n",
       "    }\n",
       "\n",
       "    .dataframe thead th {\n",
       "        text-align: right;\n",
       "    }\n",
       "</style>\n",
       "<table border=\"1\" class=\"dataframe\">\n",
       "  <thead>\n",
       "    <tr style=\"text-align: right;\">\n",
       "      <th></th>\n",
       "      <th>display_id</th>\n",
       "      <th>ad_id</th>\n",
       "      <th>document_id</th>\n",
       "      <th>category_id</th>\n",
       "      <th>ad_document_id</th>\n",
       "      <th>ad_category_id</th>\n",
       "      <th>bool</th>\n",
       "    </tr>\n",
       "  </thead>\n",
       "  <tbody>\n",
       "    <tr>\n",
       "      <th>0</th>\n",
       "      <td>16874594</td>\n",
       "      <td>66758</td>\n",
       "      <td>1792425</td>\n",
       "      <td>1702.0</td>\n",
       "      <td>1051283</td>\n",
       "      <td>1206.0</td>\n",
       "      <td>0</td>\n",
       "    </tr>\n",
       "    <tr>\n",
       "      <th>1</th>\n",
       "      <td>16874594</td>\n",
       "      <td>150083</td>\n",
       "      <td>1792425</td>\n",
       "      <td>1702.0</td>\n",
       "      <td>1358132</td>\n",
       "      <td>1805.0</td>\n",
       "      <td>0</td>\n",
       "    </tr>\n",
       "    <tr>\n",
       "      <th>2</th>\n",
       "      <td>16874594</td>\n",
       "      <td>162754</td>\n",
       "      <td>1792425</td>\n",
       "      <td>1702.0</td>\n",
       "      <td>1292723</td>\n",
       "      <td>1100.0</td>\n",
       "      <td>0</td>\n",
       "    </tr>\n",
       "    <tr>\n",
       "      <th>3</th>\n",
       "      <td>16874594</td>\n",
       "      <td>170392</td>\n",
       "      <td>1792425</td>\n",
       "      <td>1702.0</td>\n",
       "      <td>1083829</td>\n",
       "      <td>1805.0</td>\n",
       "      <td>0</td>\n",
       "    </tr>\n",
       "    <tr>\n",
       "      <th>4</th>\n",
       "      <td>16874594</td>\n",
       "      <td>172888</td>\n",
       "      <td>1792425</td>\n",
       "      <td>1702.0</td>\n",
       "      <td>1433954</td>\n",
       "      <td>1702.0</td>\n",
       "      <td>1</td>\n",
       "    </tr>\n",
       "    <tr>\n",
       "      <th>5</th>\n",
       "      <td>16874594</td>\n",
       "      <td>180797</td>\n",
       "      <td>1792425</td>\n",
       "      <td>1702.0</td>\n",
       "      <td>1151028</td>\n",
       "      <td>1702.0</td>\n",
       "      <td>1</td>\n",
       "    </tr>\n",
       "    <tr>\n",
       "      <th>6</th>\n",
       "      <td>16874595</td>\n",
       "      <td>8846</td>\n",
       "      <td>1773803</td>\n",
       "      <td>1702.0</td>\n",
       "      <td>21135</td>\n",
       "      <td>1405.0</td>\n",
       "      <td>0</td>\n",
       "    </tr>\n",
       "  </tbody>\n",
       "</table>\n",
       "</div>"
      ],
      "text/plain": [
       "   display_id   ad_id  document_id  ...  ad_document_id  ad_category_id  bool\n",
       "0    16874594   66758      1792425  ...         1051283          1206.0     0\n",
       "1    16874594  150083      1792425  ...         1358132          1805.0     0\n",
       "2    16874594  162754      1792425  ...         1292723          1100.0     0\n",
       "3    16874594  170392      1792425  ...         1083829          1805.0     0\n",
       "4    16874594  172888      1792425  ...         1433954          1702.0     1\n",
       "5    16874594  180797      1792425  ...         1151028          1702.0     1\n",
       "6    16874595    8846      1773803  ...           21135          1405.0     0\n",
       "\n",
       "[7 rows x 7 columns]"
      ]
     },
     "execution_count": 26,
     "metadata": {
      "tags": []
     },
     "output_type": "execute_result"
    }
   ],
   "source": [
    "test.head(7)"
   ]
  },
  {
   "cell_type": "markdown",
   "metadata": {
    "id": "nPTTl7jY0y79"
   },
   "source": [
    "# Submit\n"
   ]
  },
  {
   "cell_type": "markdown",
   "metadata": {
    "id": "h8x2rHzjd-X2"
   },
   "source": [
    "#### Step 1: 透過train data製作優化CTR變數，命名為likelihood"
   ]
  },
  {
   "cell_type": "code",
   "execution_count": 4,
   "metadata": {
    "id": "yD06GWkK009h"
   },
   "outputs": [],
   "source": [
    "dtypes = {'ad_id': np.float32, 'clicked': np.int8}"
   ]
  },
  {
   "cell_type": "code",
   "execution_count": 5,
   "metadata": {
    "id": "zI-UlLFn5gpH"
   },
   "outputs": [],
   "source": [
    "train = pd.read_csv(\".../clicks_train.csv\", usecols=['ad_id','clicked'], dtype=dtypes)"
   ]
  },
  {
   "cell_type": "code",
   "execution_count": 6,
   "metadata": {
    "id": "N0NV0Dii02u7"
   },
   "outputs": [],
   "source": [
    "ad_likelihood = train.groupby('ad_id').clicked.agg(['count','sum','mean']).reset_index()\n",
    "M = train.clicked.mean()\n",
    "del train\n",
    "\n",
    "ad_likelihood['likelihood'] = (ad_likelihood['sum'] + 12*M) / (12 + ad_likelihood['count'])"
   ]
  },
  {
   "cell_type": "code",
   "execution_count": 7,
   "metadata": {
    "colab": {
     "base_uri": "https://localhost:8080/",
     "height": 141
    },
    "id": "L1JgDHsT2uES",
    "outputId": "5a367656-ddd5-4dcf-960a-7378876a5f63"
   },
   "outputs": [
    {
     "data": {
      "text/html": [
       "<div>\n",
       "<style scoped>\n",
       "    .dataframe tbody tr th:only-of-type {\n",
       "        vertical-align: middle;\n",
       "    }\n",
       "\n",
       "    .dataframe tbody tr th {\n",
       "        vertical-align: top;\n",
       "    }\n",
       "\n",
       "    .dataframe thead th {\n",
       "        text-align: right;\n",
       "    }\n",
       "</style>\n",
       "<table border=\"1\" class=\"dataframe\">\n",
       "  <thead>\n",
       "    <tr style=\"text-align: right;\">\n",
       "      <th></th>\n",
       "      <th>ad_id</th>\n",
       "      <th>count</th>\n",
       "      <th>sum</th>\n",
       "      <th>mean</th>\n",
       "      <th>likelihood</th>\n",
       "    </tr>\n",
       "  </thead>\n",
       "  <tbody>\n",
       "    <tr>\n",
       "      <th>0</th>\n",
       "      <td>1.0</td>\n",
       "      <td>2</td>\n",
       "      <td>0.0</td>\n",
       "      <td>0.000000</td>\n",
       "      <td>0.165982</td>\n",
       "    </tr>\n",
       "    <tr>\n",
       "      <th>1</th>\n",
       "      <td>2.0</td>\n",
       "      <td>22</td>\n",
       "      <td>1.0</td>\n",
       "      <td>0.045455</td>\n",
       "      <td>0.097757</td>\n",
       "    </tr>\n",
       "    <tr>\n",
       "      <th>2</th>\n",
       "      <td>3.0</td>\n",
       "      <td>161</td>\n",
       "      <td>11.0</td>\n",
       "      <td>0.068323</td>\n",
       "      <td>0.077016</td>\n",
       "    </tr>\n",
       "  </tbody>\n",
       "</table>\n",
       "</div>"
      ],
      "text/plain": [
       "   ad_id  count   sum      mean  likelihood\n",
       "0    1.0      2   0.0  0.000000    0.165982\n",
       "1    2.0     22   1.0  0.045455    0.097757\n",
       "2    3.0    161  11.0  0.068323    0.077016"
      ]
     },
     "execution_count": 7,
     "metadata": {
      "tags": []
     },
     "output_type": "execute_result"
    }
   ],
   "source": [
    "ad_likelihood.head(3)"
   ]
  },
  {
   "cell_type": "code",
   "execution_count": 11,
   "metadata": {
    "id": "9jFlz3tc04j0"
   },
   "outputs": [],
   "source": [
    "ad_likelihood['likelihood'] = (ad_likelihood['sum'] + 12*M) / (12 + ad_likelihood['count'])"
   ]
  },
  {
   "cell_type": "markdown",
   "metadata": {
    "id": "i7i6lpx3LjDh"
   },
   "source": [
    "#### Step 2 :將優化CTR貼到test data"
   ]
  },
  {
   "cell_type": "code",
   "execution_count": 12,
   "metadata": {
    "id": "dP10ujPe_155"
   },
   "outputs": [],
   "source": [
    "test = test.merge(ad_likelihood, how='left')\n",
    "test.likelihood.fillna(M, inplace=True)"
   ]
  },
  {
   "cell_type": "code",
   "execution_count": 13,
   "metadata": {
    "colab": {
     "base_uri": "https://localhost:8080/",
     "height": 141
    },
    "id": "tS24eNbfSLH5",
    "outputId": "70e74298-010a-4f5d-fff3-14605d6ad751"
   },
   "outputs": [
    {
     "data": {
      "text/html": [
       "<div>\n",
       "<style scoped>\n",
       "    .dataframe tbody tr th:only-of-type {\n",
       "        vertical-align: middle;\n",
       "    }\n",
       "\n",
       "    .dataframe tbody tr th {\n",
       "        vertical-align: top;\n",
       "    }\n",
       "\n",
       "    .dataframe thead th {\n",
       "        text-align: right;\n",
       "    }\n",
       "</style>\n",
       "<table border=\"1\" class=\"dataframe\">\n",
       "  <thead>\n",
       "    <tr style=\"text-align: right;\">\n",
       "      <th></th>\n",
       "      <th>display_id</th>\n",
       "      <th>ad_id</th>\n",
       "      <th>document_id</th>\n",
       "      <th>category_id</th>\n",
       "      <th>ad_document_id</th>\n",
       "      <th>ad_category_id</th>\n",
       "      <th>bool</th>\n",
       "      <th>count</th>\n",
       "      <th>sum</th>\n",
       "      <th>mean</th>\n",
       "      <th>likelihood</th>\n",
       "    </tr>\n",
       "  </thead>\n",
       "  <tbody>\n",
       "    <tr>\n",
       "      <th>0</th>\n",
       "      <td>16874594</td>\n",
       "      <td>66758</td>\n",
       "      <td>1792425</td>\n",
       "      <td>1702.0</td>\n",
       "      <td>1051283</td>\n",
       "      <td>1206.0</td>\n",
       "      <td>0</td>\n",
       "      <td>5642.0</td>\n",
       "      <td>373.0</td>\n",
       "      <td>0.066111</td>\n",
       "      <td>0.066382</td>\n",
       "    </tr>\n",
       "    <tr>\n",
       "      <th>1</th>\n",
       "      <td>16874594</td>\n",
       "      <td>150083</td>\n",
       "      <td>1792425</td>\n",
       "      <td>1702.0</td>\n",
       "      <td>1358132</td>\n",
       "      <td>1805.0</td>\n",
       "      <td>0</td>\n",
       "      <td>77514.0</td>\n",
       "      <td>5261.0</td>\n",
       "      <td>0.067872</td>\n",
       "      <td>0.067891</td>\n",
       "    </tr>\n",
       "    <tr>\n",
       "      <th>2</th>\n",
       "      <td>16874594</td>\n",
       "      <td>162754</td>\n",
       "      <td>1792425</td>\n",
       "      <td>1702.0</td>\n",
       "      <td>1292723</td>\n",
       "      <td>1100.0</td>\n",
       "      <td>0</td>\n",
       "      <td>66599.0</td>\n",
       "      <td>15919.0</td>\n",
       "      <td>0.239028</td>\n",
       "      <td>0.239019</td>\n",
       "    </tr>\n",
       "  </tbody>\n",
       "</table>\n",
       "</div>"
      ],
      "text/plain": [
       "   display_id   ad_id  document_id  ...      sum      mean  likelihood\n",
       "0    16874594   66758      1792425  ...    373.0  0.066111    0.066382\n",
       "1    16874594  150083      1792425  ...   5261.0  0.067872    0.067891\n",
       "2    16874594  162754      1792425  ...  15919.0  0.239028    0.239019\n",
       "\n",
       "[3 rows x 11 columns]"
      ]
     },
     "execution_count": 13,
     "metadata": {
      "tags": []
     },
     "output_type": "execute_result"
    }
   ],
   "source": [
    "test.head(3)"
   ]
  },
  {
   "cell_type": "markdown",
   "metadata": {
    "id": "Rg0V699nLxCV"
   },
   "source": [
    "#### Step 3: 按照每個display_id下，各個ad_id的likelihood、ad_id與display_id是否同類別進行排序"
   ]
  },
  {
   "cell_type": "code",
   "execution_count": 14,
   "metadata": {
    "id": "MVFQeyTBjhqe"
   },
   "outputs": [],
   "source": [
    "test.sort_values(['display_id','likelihood','bool'], inplace=True, ascending=False)"
   ]
  },
  {
   "cell_type": "markdown",
   "metadata": {
    "id": "nZpmUeJuMDcM"
   },
   "source": [
    "#### Step 4: 提交成submit格式"
   ]
  },
  {
   "cell_type": "code",
   "execution_count": 15,
   "metadata": {
    "id": "Qz0PS9MW06f6"
   },
   "outputs": [],
   "source": [
    "subm = test.groupby('display_id').ad_id.apply(lambda x: \" \".join(map(str,x))).reset_index()"
   ]
  },
  {
   "cell_type": "code",
   "execution_count": 16,
   "metadata": {
    "colab": {
     "base_uri": "https://localhost:8080/",
     "height": 202
    },
    "id": "dwk6mvnDk_bl",
    "outputId": "f66802a9-d8ed-45c0-b747-491a7ffb21b1"
   },
   "outputs": [
    {
     "data": {
      "text/html": [
       "<div>\n",
       "<style scoped>\n",
       "    .dataframe tbody tr th:only-of-type {\n",
       "        vertical-align: middle;\n",
       "    }\n",
       "\n",
       "    .dataframe tbody tr th {\n",
       "        vertical-align: top;\n",
       "    }\n",
       "\n",
       "    .dataframe thead th {\n",
       "        text-align: right;\n",
       "    }\n",
       "</style>\n",
       "<table border=\"1\" class=\"dataframe\">\n",
       "  <thead>\n",
       "    <tr style=\"text-align: right;\">\n",
       "      <th></th>\n",
       "      <th>display_id</th>\n",
       "      <th>ad_id</th>\n",
       "    </tr>\n",
       "  </thead>\n",
       "  <tbody>\n",
       "    <tr>\n",
       "      <th>0</th>\n",
       "      <td>16874594</td>\n",
       "      <td>170392 172888 162754 150083 66758 180797</td>\n",
       "    </tr>\n",
       "    <tr>\n",
       "      <th>1</th>\n",
       "      <td>16874595</td>\n",
       "      <td>8846 143982 30609</td>\n",
       "    </tr>\n",
       "    <tr>\n",
       "      <th>2</th>\n",
       "      <td>16874596</td>\n",
       "      <td>289915 11430 289122 132820 57197 153260 173005...</td>\n",
       "    </tr>\n",
       "    <tr>\n",
       "      <th>3</th>\n",
       "      <td>16874597</td>\n",
       "      <td>305790 285834 143981 182039 155945 180965 3088...</td>\n",
       "    </tr>\n",
       "    <tr>\n",
       "      <th>4</th>\n",
       "      <td>16874598</td>\n",
       "      <td>145937 335632 67292 250082</td>\n",
       "    </tr>\n",
       "  </tbody>\n",
       "</table>\n",
       "</div>"
      ],
      "text/plain": [
       "   display_id                                              ad_id\n",
       "0    16874594           170392 172888 162754 150083 66758 180797\n",
       "1    16874595                                  8846 143982 30609\n",
       "2    16874596  289915 11430 289122 132820 57197 153260 173005...\n",
       "3    16874597  305790 285834 143981 182039 155945 180965 3088...\n",
       "4    16874598                         145937 335632 67292 250082"
      ]
     },
     "execution_count": 16,
     "metadata": {
      "tags": []
     },
     "output_type": "execute_result"
    }
   ],
   "source": [
    "subm.head(5)"
   ]
  },
  {
   "cell_type": "code",
   "execution_count": null,
   "metadata": {
    "id": "ej6o3W62lBUb"
   },
   "outputs": [],
   "source": [
    "subm.to_csv(\"subm.csv\", index=False)"
   ]
  },
  {
   "cell_type": "markdown",
   "metadata": {
    "id": "eO9-BXEKrxbv"
   },
   "source": [
    "#### 視覺化：廣告曝光數具長尾特性"
   ]
  },
  {
   "cell_type": "code",
   "execution_count": 8,
   "metadata": {
    "id": "dNsreRrIfOk9"
   },
   "outputs": [],
   "source": [
    "import matplotlib.pyplot as plt\n",
    "import seaborn as sns"
   ]
  },
  {
   "cell_type": "code",
   "execution_count": 9,
   "metadata": {
    "colab": {
     "base_uri": "https://localhost:8080/",
     "height": 391
    },
    "id": "77_GgpKJLXao",
    "outputId": "475534e7-5946-4db7-ee49-cb7405d023dd"
   },
   "outputs": [
    {
     "data": {
      "image/png": "[encoded data removed]",
      "text/plain": [
       "<Figure size 720x432 with 1 Axes>"
      ]
     },
     "metadata": {
      "needs_background": "light",
      "tags": []
     },
     "output_type": "display_data"
    }
   ],
   "source": [
    "plt.figure(figsize=(10, 6))\n",
    "plt.hist(ad_likelihood['count'],  log=True)\n",
    "plt.xlabel('Number of times ad appeared', fontsize=12)\n",
    "plt.ylabel('log(Count of displays with ad)', fontsize=12)\n",
    "plt.show()"
   ]
  },
  {
   "cell_type": "code",
   "execution_count": 10,
   "metadata": {
    "colab": {
     "base_uri": "https://localhost:8080/",
     "height": 391
    },
    "id": "tZgJUNAPgDDQ",
    "outputId": "7bd6ced9-7b07-4136-ec59-bd19ef83acd4"
   },
   "outputs": [
    {
     "data": {
      "image/png": "[encoded data removed]",
      "text/plain": [
       "<Figure size 720x432 with 1 Axes>"
      ]
     },
     "metadata": {
      "needs_background": "light",
      "tags": []
     },
     "output_type": "display_data"
    }
   ],
   "source": [
    "plt.figure(figsize=(10, 6))\n",
    "plt.hist(ad_likelihood[ad_likelihood['count']<100]['count'],  log=True)\n",
    "plt.xlabel('Number of times ad appeared', fontsize=12)\n",
    "plt.ylabel('log(Count of displays with ad)', fontsize=12)\n",
    "plt.show()"
   ]
  }
 ],
 "metadata": {
  "colab": {
   "collapsed_sections": [
    "eO9-BXEKrxbv"
   ],
   "name": "CTBC_CTR_submit.ipynb",
   "provenance": []
  },
  "kernelspec": {
   "display_name": "Python 3",
   "language": "python",
   "name": "python3"
  },
  "language_info": {
   "codemirror_mode": {
    "name": "ipython",
    "version": 3
   },
   "file_extension": ".py",
   "mimetype": "text/x-python",
   "name": "python",
   "nbconvert_exporter": "python",
   "pygments_lexer": "ipython3",
   "version": "3.8.5"
  }
 },
 "nbformat": 4,
 "nbformat_minor": 1
}
