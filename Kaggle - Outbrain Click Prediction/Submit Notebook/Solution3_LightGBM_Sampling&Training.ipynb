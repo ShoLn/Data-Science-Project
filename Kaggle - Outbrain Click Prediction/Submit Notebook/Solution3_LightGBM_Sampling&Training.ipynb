{
 "cells": [
  {
   "cell_type": "code",
   "execution_count": 1,
   "metadata": {
    "id": "X_PFIJ8IE52r"
   },
   "outputs": [],
   "source": [
    "import pandas as pd\n",
    "path = '...'"
   ]
  },
  {
   "cell_type": "markdown",
   "metadata": {
    "id": "ZzowiA7ZinsD"
   },
   "source": [
    "## Part 1: 抽樣\n",
    "* clicked==1之樣本全保留\n",
    "* clicked==0之樣本，保留likelihood_M12<0.1"
   ]
  },
  {
   "cell_type": "code",
   "execution_count": 2,
   "metadata": {
    "id": "hSvwNQE5Tzxn"
   },
   "outputs": [],
   "source": [
    "import numpy as np\n",
    "from collections import deque\n",
    "from pandas.core.frame import DataFrame\n",
    "from sklearn import metrics\n",
    "import matplotlib.pyplot as plt\n",
    "import seaborn as sns\n",
    "import scipy.stats as st"
   ]
  },
  {
   "cell_type": "code",
   "execution_count": 3,
   "metadata": {
    "colab": {
     "base_uri": "https://localhost:8080/",
     "height": 141
    },
    "id": "FTskMLOBGacK",
    "outputId": "0968ff89-786f-4fea-de43-059d38f9394c"
   },
   "outputs": [
    {
     "data": {
      "text/html": [
       "<div>\n",
       "<style scoped>\n",
       "    .dataframe tbody tr th:only-of-type {\n",
       "        vertical-align: middle;\n",
       "    }\n",
       "\n",
       "    .dataframe tbody tr th {\n",
       "        vertical-align: top;\n",
       "    }\n",
       "\n",
       "    .dataframe thead th {\n",
       "        text-align: right;\n",
       "    }\n",
       "</style>\n",
       "<table border=\"1\" class=\"dataframe\">\n",
       "  <thead>\n",
       "    <tr style=\"text-align: right;\">\n",
       "      <th></th>\n",
       "      <th>display_id</th>\n",
       "      <th>ad_id</th>\n",
       "      <th>clicked</th>\n",
       "      <th>FTRL_Prob</th>\n",
       "      <th>likelihood_M12</th>\n",
       "    </tr>\n",
       "  </thead>\n",
       "  <tbody>\n",
       "    <tr>\n",
       "      <th>0</th>\n",
       "      <td>1</td>\n",
       "      <td>42337</td>\n",
       "      <td>0</td>\n",
       "      <td>0.107210</td>\n",
       "      <td>0.167302</td>\n",
       "    </tr>\n",
       "    <tr>\n",
       "      <th>1</th>\n",
       "      <td>1</td>\n",
       "      <td>139684</td>\n",
       "      <td>0</td>\n",
       "      <td>0.117813</td>\n",
       "      <td>0.165972</td>\n",
       "    </tr>\n",
       "    <tr>\n",
       "      <th>2</th>\n",
       "      <td>1</td>\n",
       "      <td>144739</td>\n",
       "      <td>1</td>\n",
       "      <td>0.246410</td>\n",
       "      <td>0.324283</td>\n",
       "    </tr>\n",
       "  </tbody>\n",
       "</table>\n",
       "</div>"
      ],
      "text/plain": [
       "   display_id   ad_id  clicked  FTRL_Prob  likelihood_M12\n",
       "0           1   42337        0   0.107210        0.167302\n",
       "1           1  139684        0   0.117813        0.165972\n",
       "2           1  144739        1   0.246410        0.324283"
      ]
     },
     "execution_count": 3,
     "metadata": {
      "tags": []
     },
     "output_type": "execute_result"
    }
   ],
   "source": [
    "train = pd.read_csv(path+'/XGB Data/train_FTRL_likM12.csv')\n",
    "train.head(3)\n",
    "\n",
    "#display_id:廣告群id\n",
    "#ad_id:廣告id\n",
    "#clicked:被點擊與否(Y)\n",
    "#FTRL_Prob:線上學習演算法，估計該ad_id被點擊之機率值\n",
    "#likelihood_M12:優化CTR，估計該ad_id被點擊之機率值"
   ]
  },
  {
   "cell_type": "code",
   "execution_count": 34,
   "metadata": {
    "colab": {
     "base_uri": "https://localhost:8080/",
     "height": 141
    },
    "id": "uFVCX3gwTUzY",
    "outputId": "74c6c694-8d1c-402f-8438-2e50437089e4"
   },
   "outputs": [
    {
     "data": {
      "text/html": [
       "<div>\n",
       "<style scoped>\n",
       "    .dataframe tbody tr th:only-of-type {\n",
       "        vertical-align: middle;\n",
       "    }\n",
       "\n",
       "    .dataframe tbody tr th {\n",
       "        vertical-align: top;\n",
       "    }\n",
       "\n",
       "    .dataframe thead th {\n",
       "        text-align: right;\n",
       "    }\n",
       "</style>\n",
       "<table border=\"1\" class=\"dataframe\">\n",
       "  <thead>\n",
       "    <tr style=\"text-align: right;\">\n",
       "      <th></th>\n",
       "      <th>display_id</th>\n",
       "      <th>ad_id</th>\n",
       "      <th>clicked</th>\n",
       "      <th>FTRL_Prob</th>\n",
       "      <th>likelihood_M12</th>\n",
       "    </tr>\n",
       "  </thead>\n",
       "  <tbody>\n",
       "    <tr>\n",
       "      <th>0</th>\n",
       "      <td>1</td>\n",
       "      <td>42337</td>\n",
       "      <td>0</td>\n",
       "      <td>0.107210</td>\n",
       "      <td>0.167302</td>\n",
       "    </tr>\n",
       "    <tr>\n",
       "      <th>1</th>\n",
       "      <td>1</td>\n",
       "      <td>139684</td>\n",
       "      <td>0</td>\n",
       "      <td>0.117813</td>\n",
       "      <td>0.165972</td>\n",
       "    </tr>\n",
       "    <tr>\n",
       "      <th>2</th>\n",
       "      <td>1</td>\n",
       "      <td>144739</td>\n",
       "      <td>1</td>\n",
       "      <td>0.246410</td>\n",
       "      <td>0.324283</td>\n",
       "    </tr>\n",
       "  </tbody>\n",
       "</table>\n",
       "</div>"
      ],
      "text/plain": [
       "   display_id   ad_id  clicked  FTRL_Prob  likelihood_M12\n",
       "0           1   42337        0   0.107210        0.167302\n",
       "1           1  139684        0   0.117813        0.165972\n",
       "2           1  144739        1   0.246410        0.324283"
      ]
     },
     "execution_count": 34,
     "metadata": {
      "tags": []
     },
     "output_type": "execute_result"
    }
   ],
   "source": [
    "train.head(3)"
   ]
  },
  {
   "cell_type": "markdown",
   "metadata": {
    "id": "VCcDFrDI1F4-"
   },
   "source": [
    "EDA: 看CTR分佈"
   ]
  },
  {
   "cell_type": "code",
   "execution_count": 35,
   "metadata": {
    "id": "FWwkkBy8aPuQ"
   },
   "outputs": [],
   "source": [
    "bins=[x/100 for x in range(0,100,1)]"
   ]
  },
  {
   "cell_type": "code",
   "execution_count": 36,
   "metadata": {
    "colab": {
     "base_uri": "https://localhost:8080/",
     "height": 620
    },
    "id": "3ZV7jCSOWODX",
    "outputId": "099a715d-c842-40d1-b08e-e03e6fce120c"
   },
   "outputs": [
    {
     "data": {
      "image/png": "[encoded data removed]",
      "text/plain": [
       "<Figure size 1080x720 with 1 Axes>"
      ]
     },
     "metadata": {
      "needs_background": "light",
      "tags": []
     },
     "output_type": "display_data"
    }
   ],
   "source": [
    "fig, ax = plt.subplots(1,1,figsize=(15,10))\n",
    "plt.hist(train[train['clicked']==0]['likelihood_M12'], bins=bins,alpha=0.5,label = 'clicked:0')\n",
    "plt.hist(train[train['clicked']==1]['likelihood_M12'], bins=bins,alpha=0.5,label = 'clicked:1')\n",
    "plt.show();"
   ]
  },
  {
   "cell_type": "markdown",
   "metadata": {
    "id": "SFLg_waPdXwb"
   },
   "source": [
    "### 進行抽樣\n"
   ]
  },
  {
   "cell_type": "markdown",
   "metadata": {
    "id": "yaJKsG-21uGp"
   },
   "source": [
    "沒被點擊過的樣本＆優化CTR<0.1：train_p1"
   ]
  },
  {
   "cell_type": "code",
   "execution_count": 4,
   "metadata": {
    "colab": {
     "base_uri": "https://localhost:8080/",
     "height": 141
    },
    "id": "JK1sVDGHT923",
    "outputId": "0c5d29e8-3577-4c88-d349-fb39a5598335"
   },
   "outputs": [
    {
     "data": {
      "text/html": [
       "<div>\n",
       "<style scoped>\n",
       "    .dataframe tbody tr th:only-of-type {\n",
       "        vertical-align: middle;\n",
       "    }\n",
       "\n",
       "    .dataframe tbody tr th {\n",
       "        vertical-align: top;\n",
       "    }\n",
       "\n",
       "    .dataframe thead th {\n",
       "        text-align: right;\n",
       "    }\n",
       "</style>\n",
       "<table border=\"1\" class=\"dataframe\">\n",
       "  <thead>\n",
       "    <tr style=\"text-align: right;\">\n",
       "      <th></th>\n",
       "      <th>display_id</th>\n",
       "      <th>ad_id</th>\n",
       "      <th>clicked</th>\n",
       "      <th>FTRL_Prob</th>\n",
       "      <th>likelihood_M12</th>\n",
       "    </tr>\n",
       "  </thead>\n",
       "  <tbody>\n",
       "    <tr>\n",
       "      <th>0</th>\n",
       "      <td>1</td>\n",
       "      <td>156824</td>\n",
       "      <td>0</td>\n",
       "      <td>0.024446</td>\n",
       "      <td>0.032496</td>\n",
       "    </tr>\n",
       "    <tr>\n",
       "      <th>1</th>\n",
       "      <td>2</td>\n",
       "      <td>169564</td>\n",
       "      <td>0</td>\n",
       "      <td>0.061095</td>\n",
       "      <td>0.089138</td>\n",
       "    </tr>\n",
       "    <tr>\n",
       "      <th>2</th>\n",
       "      <td>3</td>\n",
       "      <td>71547</td>\n",
       "      <td>0</td>\n",
       "      <td>0.061667</td>\n",
       "      <td>0.080358</td>\n",
       "    </tr>\n",
       "  </tbody>\n",
       "</table>\n",
       "</div>"
      ],
      "text/plain": [
       "   display_id   ad_id  clicked  FTRL_Prob  likelihood_M12\n",
       "0           1  156824        0   0.024446        0.032496\n",
       "1           2  169564        0   0.061095        0.089138\n",
       "2           3   71547        0   0.061667        0.080358"
      ]
     },
     "execution_count": 4,
     "metadata": {
      "tags": []
     },
     "output_type": "execute_result"
    }
   ],
   "source": [
    "train_p1 = train[train['likelihood_M12']<0.1].reset_index(drop=True)\n",
    "len(train_p1)\n",
    "train_p1.head(3)"
   ]
  },
  {
   "cell_type": "code",
   "execution_count": 5,
   "metadata": {
    "colab": {
     "base_uri": "https://localhost:8080/"
    },
    "id": "jrBuRbcEghI4",
    "outputId": "bcea53ce-6b56-416c-ed12-aa085242c2ab"
   },
   "outputs": [
    {
     "data": {
      "text/plain": [
       "22231091"
      ]
     },
     "execution_count": 5,
     "metadata": {
      "tags": []
     },
     "output_type": "execute_result"
    }
   ],
   "source": [
    "len(train_p1)"
   ]
  },
  {
   "cell_type": "code",
   "execution_count": 6,
   "metadata": {
    "id": "k3BjhA87gavM"
   },
   "outputs": [],
   "source": [
    "train_p1 = train_p1[train_p1['clicked']==0].reset_index(drop=True)"
   ]
  },
  {
   "cell_type": "code",
   "execution_count": 7,
   "metadata": {
    "colab": {
     "base_uri": "https://localhost:8080/"
    },
    "id": "eRMJciwMgop8",
    "outputId": "733d40e5-5121-4644-dcaa-13e559ecf440"
   },
   "outputs": [
    {
     "data": {
      "text/plain": [
       "20899011"
      ]
     },
     "execution_count": 7,
     "metadata": {
      "tags": []
     },
     "output_type": "execute_result"
    }
   ],
   "source": [
    "len(train_p1)"
   ]
  },
  {
   "cell_type": "markdown",
   "metadata": {
    "id": "CudNGAeg1kbh"
   },
   "source": [
    "所有被點擊過的樣本：train_1"
   ]
  },
  {
   "cell_type": "code",
   "execution_count": 8,
   "metadata": {
    "colab": {
     "base_uri": "https://localhost:8080/",
     "height": 141
    },
    "id": "GqXQn3KSdg3m",
    "outputId": "3cc86630-5e0e-49e7-d6a9-8ca550809d10"
   },
   "outputs": [
    {
     "data": {
      "text/html": [
       "<div>\n",
       "<style scoped>\n",
       "    .dataframe tbody tr th:only-of-type {\n",
       "        vertical-align: middle;\n",
       "    }\n",
       "\n",
       "    .dataframe tbody tr th {\n",
       "        vertical-align: top;\n",
       "    }\n",
       "\n",
       "    .dataframe thead th {\n",
       "        text-align: right;\n",
       "    }\n",
       "</style>\n",
       "<table border=\"1\" class=\"dataframe\">\n",
       "  <thead>\n",
       "    <tr style=\"text-align: right;\">\n",
       "      <th></th>\n",
       "      <th>display_id</th>\n",
       "      <th>ad_id</th>\n",
       "      <th>clicked</th>\n",
       "      <th>FTRL_Prob</th>\n",
       "      <th>likelihood_M12</th>\n",
       "    </tr>\n",
       "  </thead>\n",
       "  <tbody>\n",
       "    <tr>\n",
       "      <th>0</th>\n",
       "      <td>1</td>\n",
       "      <td>144739</td>\n",
       "      <td>1</td>\n",
       "      <td>0.246410</td>\n",
       "      <td>0.324283</td>\n",
       "    </tr>\n",
       "    <tr>\n",
       "      <th>1</th>\n",
       "      <td>2</td>\n",
       "      <td>308455</td>\n",
       "      <td>1</td>\n",
       "      <td>0.362957</td>\n",
       "      <td>0.356865</td>\n",
       "    </tr>\n",
       "    <tr>\n",
       "      <th>2</th>\n",
       "      <td>3</td>\n",
       "      <td>228657</td>\n",
       "      <td>1</td>\n",
       "      <td>0.100126</td>\n",
       "      <td>0.127628</td>\n",
       "    </tr>\n",
       "  </tbody>\n",
       "</table>\n",
       "</div>"
      ],
      "text/plain": [
       "   display_id   ad_id  clicked  FTRL_Prob  likelihood_M12\n",
       "0           1  144739        1   0.246410        0.324283\n",
       "1           2  308455        1   0.362957        0.356865\n",
       "2           3  228657        1   0.100126        0.127628"
      ]
     },
     "execution_count": 8,
     "metadata": {
      "tags": []
     },
     "output_type": "execute_result"
    }
   ],
   "source": [
    "train_1 = train[train['clicked']==1].reset_index(drop=True)\n",
    "len(train_1)\n",
    "train_1.head(3)"
   ]
  },
  {
   "cell_type": "code",
   "execution_count": 9,
   "metadata": {
    "colab": {
     "base_uri": "https://localhost:8080/"
    },
    "id": "SqDXHx4uiF6g",
    "outputId": "d6db6ca9-1527-4bbb-ce3d-12c3a6708c1e"
   },
   "outputs": [
    {
     "data": {
      "text/plain": [
       "16874593"
      ]
     },
     "execution_count": 9,
     "metadata": {
      "tags": []
     },
     "output_type": "execute_result"
    }
   ],
   "source": [
    "len(train_1)"
   ]
  },
  {
   "cell_type": "code",
   "execution_count": 15,
   "metadata": {
    "id": "EscDQpajeAp-"
   },
   "outputs": [],
   "source": [
    "train_xgb = pd.concat([train_p1,train_1],axis=0)"
   ]
  },
  {
   "cell_type": "code",
   "execution_count": 16,
   "metadata": {
    "colab": {
     "base_uri": "https://localhost:8080/",
     "height": 141
    },
    "id": "-l4sQAXDh9nv",
    "outputId": "4fc38c24-a892-4908-f713-f841fe9eae48"
   },
   "outputs": [
    {
     "data": {
      "text/html": [
       "<div>\n",
       "<style scoped>\n",
       "    .dataframe tbody tr th:only-of-type {\n",
       "        vertical-align: middle;\n",
       "    }\n",
       "\n",
       "    .dataframe tbody tr th {\n",
       "        vertical-align: top;\n",
       "    }\n",
       "\n",
       "    .dataframe thead th {\n",
       "        text-align: right;\n",
       "    }\n",
       "</style>\n",
       "<table border=\"1\" class=\"dataframe\">\n",
       "  <thead>\n",
       "    <tr style=\"text-align: right;\">\n",
       "      <th></th>\n",
       "      <th>display_id</th>\n",
       "      <th>ad_id</th>\n",
       "      <th>clicked</th>\n",
       "      <th>FTRL_Prob</th>\n",
       "      <th>likelihood_M12</th>\n",
       "    </tr>\n",
       "  </thead>\n",
       "  <tbody>\n",
       "    <tr>\n",
       "      <th>0</th>\n",
       "      <td>1</td>\n",
       "      <td>156824</td>\n",
       "      <td>0</td>\n",
       "      <td>0.024446</td>\n",
       "      <td>0.032496</td>\n",
       "    </tr>\n",
       "    <tr>\n",
       "      <th>1</th>\n",
       "      <td>2</td>\n",
       "      <td>169564</td>\n",
       "      <td>0</td>\n",
       "      <td>0.061095</td>\n",
       "      <td>0.089138</td>\n",
       "    </tr>\n",
       "    <tr>\n",
       "      <th>2</th>\n",
       "      <td>3</td>\n",
       "      <td>71547</td>\n",
       "      <td>0</td>\n",
       "      <td>0.061667</td>\n",
       "      <td>0.080358</td>\n",
       "    </tr>\n",
       "  </tbody>\n",
       "</table>\n",
       "</div>"
      ],
      "text/plain": [
       "   display_id   ad_id  clicked  FTRL_Prob  likelihood_M12\n",
       "0           1  156824        0   0.024446        0.032496\n",
       "1           2  169564        0   0.061095        0.089138\n",
       "2           3   71547        0   0.061667        0.080358"
      ]
     },
     "execution_count": 16,
     "metadata": {
      "tags": []
     },
     "output_type": "execute_result"
    }
   ],
   "source": [
    "train_xgb.head(3)"
   ]
  },
  {
   "cell_type": "markdown",
   "metadata": {
    "id": "IM8ArEt-8mE8"
   },
   "source": [
    "抽樣完樣本分佈"
   ]
  },
  {
   "cell_type": "code",
   "execution_count": 17,
   "metadata": {
    "colab": {
     "base_uri": "https://localhost:8080/",
     "height": 602
    },
    "id": "TmeKq_nziPVH",
    "outputId": "059367e8-dead-4aaf-aac5-3e0e891eefb3"
   },
   "outputs": [
    {
     "data": {
      "image/png": "[encoded data removed]",
      "text/plain": [
       "<Figure size 1080x720 with 1 Axes>"
      ]
     },
     "metadata": {
      "needs_background": "light",
      "tags": []
     },
     "output_type": "display_data"
    }
   ],
   "source": [
    "bins=[x/100 for x in range(0,100,1)]\n",
    "fig, ax = plt.subplots(1,1,figsize=(15,10))\n",
    "plt.hist(train_xgb[train_xgb['clicked']==0]['likelihood_M12'], bins=bins,alpha=0.5,label = 'clicked:0')\n",
    "plt.hist(train_xgb[train_xgb['clicked']==1]['likelihood_M12'], bins=bins,alpha=0.5,label = 'clicked:1')\n",
    "plt.show();"
   ]
  },
  {
   "cell_type": "markdown",
   "metadata": {
    "id": "PntJjKFAkHwA"
   },
   "source": [
    "## Part 2:抽樣完Join document information "
   ]
  },
  {
   "cell_type": "code",
   "execution_count": 1,
   "metadata": {
    "id": "rbpJnzS0iVJi"
   },
   "outputs": [],
   "source": [
    "import pandas as pd\n",
    "XGB_path = '...'\n",
    "train = pd.read_csv(XGB_path+'train_sampling.csv')"
   ]
  },
  {
   "cell_type": "code",
   "execution_count": 2,
   "metadata": {
    "colab": {
     "base_uri": "https://localhost:8080/",
     "height": 141
    },
    "id": "SRJoiL9UlHtR",
    "outputId": "2d21be91-59d3-44ca-a9d2-8fb51add5738"
   },
   "outputs": [
    {
     "data": {
      "text/html": [
       "<div>\n",
       "<style scoped>\n",
       "    .dataframe tbody tr th:only-of-type {\n",
       "        vertical-align: middle;\n",
       "    }\n",
       "\n",
       "    .dataframe tbody tr th {\n",
       "        vertical-align: top;\n",
       "    }\n",
       "\n",
       "    .dataframe thead th {\n",
       "        text-align: right;\n",
       "    }\n",
       "</style>\n",
       "<table border=\"1\" class=\"dataframe\">\n",
       "  <thead>\n",
       "    <tr style=\"text-align: right;\">\n",
       "      <th></th>\n",
       "      <th>display_id</th>\n",
       "      <th>ad_id</th>\n",
       "      <th>clicked</th>\n",
       "      <th>FTRL_Prob</th>\n",
       "    </tr>\n",
       "  </thead>\n",
       "  <tbody>\n",
       "    <tr>\n",
       "      <th>0</th>\n",
       "      <td>1</td>\n",
       "      <td>156824</td>\n",
       "      <td>0</td>\n",
       "      <td>0.024446</td>\n",
       "    </tr>\n",
       "    <tr>\n",
       "      <th>1</th>\n",
       "      <td>2</td>\n",
       "      <td>169564</td>\n",
       "      <td>0</td>\n",
       "      <td>0.061095</td>\n",
       "    </tr>\n",
       "    <tr>\n",
       "      <th>2</th>\n",
       "      <td>3</td>\n",
       "      <td>71547</td>\n",
       "      <td>0</td>\n",
       "      <td>0.061667</td>\n",
       "    </tr>\n",
       "  </tbody>\n",
       "</table>\n",
       "</div>"
      ],
      "text/plain": [
       "   display_id   ad_id  clicked  FTRL_Prob\n",
       "0           1  156824        0   0.024446\n",
       "1           2  169564        0   0.061095\n",
       "2           3   71547        0   0.061667"
      ]
     },
     "execution_count": 2,
     "metadata": {
      "tags": []
     },
     "output_type": "execute_result"
    }
   ],
   "source": [
    "train.head(3)"
   ]
  },
  {
   "cell_type": "markdown",
   "metadata": {
    "id": "JzZ5Q4t0ofbQ"
   },
   "source": [
    "#### Groupby document_id 做mean,var,scale,cnt,max等變數"
   ]
  },
  {
   "cell_type": "markdown",
   "metadata": {
    "id": "FYYJYcyqoq1y"
   },
   "source": [
    "1. documents_entities"
   ]
  },
  {
   "cell_type": "code",
   "execution_count": 3,
   "metadata": {
    "id": "tfLwpveamj2E"
   },
   "outputs": [],
   "source": [
    "documents_entities =pd.read_csv('.../documents_entities.csv')"
   ]
  },
  {
   "cell_type": "code",
   "execution_count": 4,
   "metadata": {
    "colab": {
     "base_uri": "https://localhost:8080/",
     "height": 202
    },
    "id": "Gvu60hHopaJl",
    "outputId": "6dce3f59-696d-4c2a-cfd0-69e9d8dd715e"
   },
   "outputs": [
    {
     "data": {
      "text/html": [
       "<div>\n",
       "<style scoped>\n",
       "    .dataframe tbody tr th:only-of-type {\n",
       "        vertical-align: middle;\n",
       "    }\n",
       "\n",
       "    .dataframe tbody tr th {\n",
       "        vertical-align: top;\n",
       "    }\n",
       "\n",
       "    .dataframe thead th {\n",
       "        text-align: right;\n",
       "    }\n",
       "</style>\n",
       "<table border=\"1\" class=\"dataframe\">\n",
       "  <thead>\n",
       "    <tr style=\"text-align: right;\">\n",
       "      <th></th>\n",
       "      <th>document_id</th>\n",
       "      <th>entity_id</th>\n",
       "      <th>confidence_level</th>\n",
       "    </tr>\n",
       "  </thead>\n",
       "  <tbody>\n",
       "    <tr>\n",
       "      <th>0</th>\n",
       "      <td>1524246</td>\n",
       "      <td>f9eec25663db4cd83183f5c805186f16</td>\n",
       "      <td>0.672865</td>\n",
       "    </tr>\n",
       "    <tr>\n",
       "      <th>1</th>\n",
       "      <td>1524246</td>\n",
       "      <td>55ebcfbdaff1d6f60b3907151f38527a</td>\n",
       "      <td>0.399114</td>\n",
       "    </tr>\n",
       "    <tr>\n",
       "      <th>2</th>\n",
       "      <td>1524246</td>\n",
       "      <td>839907a972930b17b125eb0247898412</td>\n",
       "      <td>0.392096</td>\n",
       "    </tr>\n",
       "    <tr>\n",
       "      <th>3</th>\n",
       "      <td>1524246</td>\n",
       "      <td>04d8f9a1ad48f126d5806a9236872604</td>\n",
       "      <td>0.213996</td>\n",
       "    </tr>\n",
       "    <tr>\n",
       "      <th>4</th>\n",
       "      <td>1617787</td>\n",
       "      <td>612a1d17685a498aff4f036c1ee02c16</td>\n",
       "      <td>0.386193</td>\n",
       "    </tr>\n",
       "  </tbody>\n",
       "</table>\n",
       "</div>"
      ],
      "text/plain": [
       "   document_id                         entity_id  confidence_level\n",
       "0      1524246  f9eec25663db4cd83183f5c805186f16          0.672865\n",
       "1      1524246  55ebcfbdaff1d6f60b3907151f38527a          0.399114\n",
       "2      1524246  839907a972930b17b125eb0247898412          0.392096\n",
       "3      1524246  04d8f9a1ad48f126d5806a9236872604          0.213996\n",
       "4      1617787  612a1d17685a498aff4f036c1ee02c16          0.386193"
      ]
     },
     "execution_count": 4,
     "metadata": {
      "tags": []
     },
     "output_type": "execute_result"
    }
   ],
   "source": [
    "documents_entities.head(5)"
   ]
  },
  {
   "cell_type": "code",
   "execution_count": 5,
   "metadata": {
    "id": "flPgcjzhov8u"
   },
   "outputs": [],
   "source": [
    "documents_entities_gp = documents_entities.groupby('document_id')['confidence_level'].agg(['count','mean','var','max','min']).reset_index()\n",
    "documents_entities_gp.fillna(0, inplace=True)"
   ]
  },
  {
   "cell_type": "code",
   "execution_count": 6,
   "metadata": {
    "id": "VXfYCNm7qSf5"
   },
   "outputs": [],
   "source": [
    "documents_entities_gp['scale']= documents_entities_gp['max']-documents_entities_gp['min']"
   ]
  },
  {
   "cell_type": "code",
   "execution_count": 7,
   "metadata": {
    "id": "g9jgyrcPqAVI"
   },
   "outputs": [],
   "source": [
    "documents_entities_gp.columns = ['document_id','ent_count','ent_mean',\t'ent_var',\t'ent_max',\t'ent_min','ent_scale']"
   ]
  },
  {
   "cell_type": "code",
   "execution_count": 8,
   "metadata": {
    "colab": {
     "base_uri": "https://localhost:8080/",
     "height": 141
    },
    "id": "Yu_Dw8K3qgV_",
    "outputId": "6ed8a4a3-fee4-4606-ad79-5df90fcb5650"
   },
   "outputs": [
    {
     "data": {
      "text/html": [
       "<div>\n",
       "<style scoped>\n",
       "    .dataframe tbody tr th:only-of-type {\n",
       "        vertical-align: middle;\n",
       "    }\n",
       "\n",
       "    .dataframe tbody tr th {\n",
       "        vertical-align: top;\n",
       "    }\n",
       "\n",
       "    .dataframe thead th {\n",
       "        text-align: right;\n",
       "    }\n",
       "</style>\n",
       "<table border=\"1\" class=\"dataframe\">\n",
       "  <thead>\n",
       "    <tr style=\"text-align: right;\">\n",
       "      <th></th>\n",
       "      <th>document_id</th>\n",
       "      <th>ent_count</th>\n",
       "      <th>ent_mean</th>\n",
       "      <th>ent_var</th>\n",
       "      <th>ent_max</th>\n",
       "      <th>ent_min</th>\n",
       "      <th>ent_scale</th>\n",
       "    </tr>\n",
       "  </thead>\n",
       "  <tbody>\n",
       "    <tr>\n",
       "      <th>0</th>\n",
       "      <td>1</td>\n",
       "      <td>1</td>\n",
       "      <td>0.481631</td>\n",
       "      <td>0.000000</td>\n",
       "      <td>0.481631</td>\n",
       "      <td>0.481631</td>\n",
       "      <td>0.000000</td>\n",
       "    </tr>\n",
       "    <tr>\n",
       "      <th>1</th>\n",
       "      <td>2</td>\n",
       "      <td>2</td>\n",
       "      <td>0.596524</td>\n",
       "      <td>0.006587</td>\n",
       "      <td>0.653912</td>\n",
       "      <td>0.539136</td>\n",
       "      <td>0.114776</td>\n",
       "    </tr>\n",
       "    <tr>\n",
       "      <th>2</th>\n",
       "      <td>3</td>\n",
       "      <td>1</td>\n",
       "      <td>0.320940</td>\n",
       "      <td>0.000000</td>\n",
       "      <td>0.320940</td>\n",
       "      <td>0.320940</td>\n",
       "      <td>0.000000</td>\n",
       "    </tr>\n",
       "  </tbody>\n",
       "</table>\n",
       "</div>"
      ],
      "text/plain": [
       "   document_id  ent_count  ent_mean   ent_var   ent_max   ent_min  ent_scale\n",
       "0            1          1  0.481631  0.000000  0.481631  0.481631   0.000000\n",
       "1            2          2  0.596524  0.006587  0.653912  0.539136   0.114776\n",
       "2            3          1  0.320940  0.000000  0.320940  0.320940   0.000000"
      ]
     },
     "execution_count": 8,
     "metadata": {
      "tags": []
     },
     "output_type": "execute_result"
    }
   ],
   "source": [
    "documents_entities_gp.head(3)"
   ]
  },
  {
   "cell_type": "markdown",
   "metadata": {
    "id": "cwvDa3G-quXT"
   },
   "source": [
    "2. documents_topics"
   ]
  },
  {
   "cell_type": "code",
   "execution_count": 10,
   "metadata": {
    "id": "9O0Wp69imoeb"
   },
   "outputs": [],
   "source": [
    "documents_topics = pd.read_csv('.../documents_topics.csv')"
   ]
  },
  {
   "cell_type": "code",
   "execution_count": 11,
   "metadata": {
    "colab": {
     "base_uri": "https://localhost:8080/",
     "height": 202
    },
    "id": "7FRlp3N4qyQl",
    "outputId": "1650075a-8420-48a8-9983-34ff476cb7e4"
   },
   "outputs": [
    {
     "data": {
      "text/html": [
       "<div>\n",
       "<style scoped>\n",
       "    .dataframe tbody tr th:only-of-type {\n",
       "        vertical-align: middle;\n",
       "    }\n",
       "\n",
       "    .dataframe tbody tr th {\n",
       "        vertical-align: top;\n",
       "    }\n",
       "\n",
       "    .dataframe thead th {\n",
       "        text-align: right;\n",
       "    }\n",
       "</style>\n",
       "<table border=\"1\" class=\"dataframe\">\n",
       "  <thead>\n",
       "    <tr style=\"text-align: right;\">\n",
       "      <th></th>\n",
       "      <th>document_id</th>\n",
       "      <th>topic_id</th>\n",
       "      <th>confidence_level</th>\n",
       "    </tr>\n",
       "  </thead>\n",
       "  <tbody>\n",
       "    <tr>\n",
       "      <th>0</th>\n",
       "      <td>1595802</td>\n",
       "      <td>140</td>\n",
       "      <td>0.073113</td>\n",
       "    </tr>\n",
       "    <tr>\n",
       "      <th>1</th>\n",
       "      <td>1595802</td>\n",
       "      <td>16</td>\n",
       "      <td>0.059416</td>\n",
       "    </tr>\n",
       "    <tr>\n",
       "      <th>2</th>\n",
       "      <td>1595802</td>\n",
       "      <td>143</td>\n",
       "      <td>0.045421</td>\n",
       "    </tr>\n",
       "    <tr>\n",
       "      <th>3</th>\n",
       "      <td>1595802</td>\n",
       "      <td>170</td>\n",
       "      <td>0.038867</td>\n",
       "    </tr>\n",
       "    <tr>\n",
       "      <th>4</th>\n",
       "      <td>1524246</td>\n",
       "      <td>113</td>\n",
       "      <td>0.196450</td>\n",
       "    </tr>\n",
       "  </tbody>\n",
       "</table>\n",
       "</div>"
      ],
      "text/plain": [
       "   document_id  topic_id  confidence_level\n",
       "0      1595802       140          0.073113\n",
       "1      1595802        16          0.059416\n",
       "2      1595802       143          0.045421\n",
       "3      1595802       170          0.038867\n",
       "4      1524246       113          0.196450"
      ]
     },
     "execution_count": 11,
     "metadata": {
      "tags": []
     },
     "output_type": "execute_result"
    }
   ],
   "source": [
    "documents_topics.head(5)"
   ]
  },
  {
   "cell_type": "code",
   "execution_count": 12,
   "metadata": {
    "id": "C_BcsEqSqyOi"
   },
   "outputs": [],
   "source": [
    "documents_topics = documents_topics.groupby('document_id')['confidence_level'].agg(['count','mean','var','max','min']).reset_index()\n",
    "documents_topics.fillna(0, inplace=True)"
   ]
  },
  {
   "cell_type": "code",
   "execution_count": 13,
   "metadata": {
    "colab": {
     "base_uri": "https://localhost:8080/",
     "height": 171
    },
    "id": "GgcPpTsNrVR_",
    "outputId": "1cc5fa32-2ed0-452e-d283-ca9cd72f39fe"
   },
   "outputs": [
    {
     "data": {
      "text/html": [
       "<div>\n",
       "<style scoped>\n",
       "    .dataframe tbody tr th:only-of-type {\n",
       "        vertical-align: middle;\n",
       "    }\n",
       "\n",
       "    .dataframe tbody tr th {\n",
       "        vertical-align: top;\n",
       "    }\n",
       "\n",
       "    .dataframe thead th {\n",
       "        text-align: right;\n",
       "    }\n",
       "</style>\n",
       "<table border=\"1\" class=\"dataframe\">\n",
       "  <thead>\n",
       "    <tr style=\"text-align: right;\">\n",
       "      <th></th>\n",
       "      <th>document_id</th>\n",
       "      <th>count</th>\n",
       "      <th>mean</th>\n",
       "      <th>var</th>\n",
       "      <th>max</th>\n",
       "      <th>min</th>\n",
       "    </tr>\n",
       "  </thead>\n",
       "  <tbody>\n",
       "    <tr>\n",
       "      <th>0</th>\n",
       "      <td>1</td>\n",
       "      <td>5</td>\n",
       "      <td>0.012992</td>\n",
       "      <td>0.000021</td>\n",
       "      <td>0.020726</td>\n",
       "      <td>0.009344</td>\n",
       "    </tr>\n",
       "    <tr>\n",
       "      <th>1</th>\n",
       "      <td>2</td>\n",
       "      <td>1</td>\n",
       "      <td>0.013029</td>\n",
       "      <td>0.000000</td>\n",
       "      <td>0.013029</td>\n",
       "      <td>0.013029</td>\n",
       "    </tr>\n",
       "    <tr>\n",
       "      <th>2</th>\n",
       "      <td>3</td>\n",
       "      <td>13</td>\n",
       "      <td>0.014971</td>\n",
       "      <td>0.000055</td>\n",
       "      <td>0.029914</td>\n",
       "      <td>0.008036</td>\n",
       "    </tr>\n",
       "    <tr>\n",
       "      <th>3</th>\n",
       "      <td>4</td>\n",
       "      <td>6</td>\n",
       "      <td>0.057246</td>\n",
       "      <td>0.001026</td>\n",
       "      <td>0.084171</td>\n",
       "      <td>0.009461</td>\n",
       "    </tr>\n",
       "  </tbody>\n",
       "</table>\n",
       "</div>"
      ],
      "text/plain": [
       "   document_id  count      mean       var       max       min\n",
       "0            1      5  0.012992  0.000021  0.020726  0.009344\n",
       "1            2      1  0.013029  0.000000  0.013029  0.013029\n",
       "2            3     13  0.014971  0.000055  0.029914  0.008036\n",
       "3            4      6  0.057246  0.001026  0.084171  0.009461"
      ]
     },
     "execution_count": 13,
     "metadata": {
      "tags": []
     },
     "output_type": "execute_result"
    }
   ],
   "source": [
    "documents_topics.head(4)"
   ]
  },
  {
   "cell_type": "code",
   "execution_count": 14,
   "metadata": {
    "id": "I9Al0k6gqyMS"
   },
   "outputs": [],
   "source": [
    "documents_topics['scale']= documents_topics['max']-documents_topics['min']"
   ]
  },
  {
   "cell_type": "code",
   "execution_count": 15,
   "metadata": {
    "id": "IebR9xKVqyKD"
   },
   "outputs": [],
   "source": [
    "documents_topics.columns = ['document_id','top_count','top_mean',\t'top_var',\t'top_max',\t'top_min','top_scale']"
   ]
  },
  {
   "cell_type": "code",
   "execution_count": 16,
   "metadata": {
    "colab": {
     "base_uri": "https://localhost:8080/",
     "height": 171
    },
    "id": "fojZhoEUqyH2",
    "outputId": "f88e57e8-9896-4162-bace-7bfd64d6fcc8"
   },
   "outputs": [
    {
     "data": {
      "text/html": [
       "<div>\n",
       "<style scoped>\n",
       "    .dataframe tbody tr th:only-of-type {\n",
       "        vertical-align: middle;\n",
       "    }\n",
       "\n",
       "    .dataframe tbody tr th {\n",
       "        vertical-align: top;\n",
       "    }\n",
       "\n",
       "    .dataframe thead th {\n",
       "        text-align: right;\n",
       "    }\n",
       "</style>\n",
       "<table border=\"1\" class=\"dataframe\">\n",
       "  <thead>\n",
       "    <tr style=\"text-align: right;\">\n",
       "      <th></th>\n",
       "      <th>document_id</th>\n",
       "      <th>top_count</th>\n",
       "      <th>top_mean</th>\n",
       "      <th>top_var</th>\n",
       "      <th>top_max</th>\n",
       "      <th>top_min</th>\n",
       "      <th>top_scale</th>\n",
       "    </tr>\n",
       "  </thead>\n",
       "  <tbody>\n",
       "    <tr>\n",
       "      <th>0</th>\n",
       "      <td>1</td>\n",
       "      <td>5</td>\n",
       "      <td>0.012992</td>\n",
       "      <td>0.000021</td>\n",
       "      <td>0.020726</td>\n",
       "      <td>0.009344</td>\n",
       "      <td>0.011383</td>\n",
       "    </tr>\n",
       "    <tr>\n",
       "      <th>1</th>\n",
       "      <td>2</td>\n",
       "      <td>1</td>\n",
       "      <td>0.013029</td>\n",
       "      <td>0.000000</td>\n",
       "      <td>0.013029</td>\n",
       "      <td>0.013029</td>\n",
       "      <td>0.000000</td>\n",
       "    </tr>\n",
       "    <tr>\n",
       "      <th>2</th>\n",
       "      <td>3</td>\n",
       "      <td>13</td>\n",
       "      <td>0.014971</td>\n",
       "      <td>0.000055</td>\n",
       "      <td>0.029914</td>\n",
       "      <td>0.008036</td>\n",
       "      <td>0.021877</td>\n",
       "    </tr>\n",
       "    <tr>\n",
       "      <th>3</th>\n",
       "      <td>4</td>\n",
       "      <td>6</td>\n",
       "      <td>0.057246</td>\n",
       "      <td>0.001026</td>\n",
       "      <td>0.084171</td>\n",
       "      <td>0.009461</td>\n",
       "      <td>0.074710</td>\n",
       "    </tr>\n",
       "  </tbody>\n",
       "</table>\n",
       "</div>"
      ],
      "text/plain": [
       "   document_id  top_count  top_mean   top_var   top_max   top_min  top_scale\n",
       "0            1          5  0.012992  0.000021  0.020726  0.009344   0.011383\n",
       "1            2          1  0.013029  0.000000  0.013029  0.013029   0.000000\n",
       "2            3         13  0.014971  0.000055  0.029914  0.008036   0.021877\n",
       "3            4          6  0.057246  0.001026  0.084171  0.009461   0.074710"
      ]
     },
     "execution_count": 16,
     "metadata": {
      "tags": []
     },
     "output_type": "execute_result"
    }
   ],
   "source": [
    "documents_topics.head(4)"
   ]
  },
  {
   "cell_type": "markdown",
   "metadata": {
    "id": "G7ZY3tb1uIjW"
   },
   "source": [
    "## Training LightGBM model"
   ]
  },
  {
   "cell_type": "code",
   "execution_count": 1,
   "metadata": {
    "id": "PedapuaBsgiP"
   },
   "outputs": [],
   "source": [
    "import pandas as pd\n",
    "import numpy as np\n",
    "import lightgbm as lgb\n",
    "from sklearn.model_selection import train_test_split\n",
    "from sklearn import preprocessing\n",
    "from sklearn import metrics\n",
    "XGB_path = '...'"
   ]
  },
  {
   "cell_type": "code",
   "execution_count": 2,
   "metadata": {
    "id": "Vq8AIsl7F4dw"
   },
   "outputs": [],
   "source": [
    "train=pd.read_csv(XGB_path+'train_XGB_X.csv')"
   ]
  },
  {
   "cell_type": "code",
   "execution_count": 3,
   "metadata": {
    "id": "gVmodLZ0WMZc"
   },
   "outputs": [],
   "source": [
    "train = train.drop(['ad_id',  'display_id'],axis=1)"
   ]
  },
  {
   "cell_type": "code",
   "execution_count": 4,
   "metadata": {
    "colab": {
     "base_uri": "https://localhost:8080/",
     "height": 194
    },
    "id": "O4JIa-PtAcfM",
    "outputId": "e2a4a11d-24f2-4c0c-ee02-c372914e7f52"
   },
   "outputs": [
    {
     "data": {
      "text/html": [
       "<div>\n",
       "<style scoped>\n",
       "    .dataframe tbody tr th:only-of-type {\n",
       "        vertical-align: middle;\n",
       "    }\n",
       "\n",
       "    .dataframe tbody tr th {\n",
       "        vertical-align: top;\n",
       "    }\n",
       "\n",
       "    .dataframe thead th {\n",
       "        text-align: right;\n",
       "    }\n",
       "</style>\n",
       "<table border=\"1\" class=\"dataframe\">\n",
       "  <thead>\n",
       "    <tr style=\"text-align: right;\">\n",
       "      <th></th>\n",
       "      <th>clicked</th>\n",
       "      <th>FTRL_Prob</th>\n",
       "      <th>document_id</th>\n",
       "      <th>ent_count</th>\n",
       "      <th>ent_mean</th>\n",
       "      <th>ent_var</th>\n",
       "      <th>ent_max</th>\n",
       "      <th>ent_min</th>\n",
       "      <th>ent_scale</th>\n",
       "      <th>top_count</th>\n",
       "      <th>top_mean</th>\n",
       "      <th>top_var</th>\n",
       "      <th>top_max</th>\n",
       "      <th>top_min</th>\n",
       "      <th>top_scale</th>\n",
       "    </tr>\n",
       "  </thead>\n",
       "  <tbody>\n",
       "    <tr>\n",
       "      <th>0</th>\n",
       "      <td>0</td>\n",
       "      <td>0.024446</td>\n",
       "      <td>379743</td>\n",
       "      <td>NaN</td>\n",
       "      <td>NaN</td>\n",
       "      <td>NaN</td>\n",
       "      <td>NaN</td>\n",
       "      <td>NaN</td>\n",
       "      <td>NaN</td>\n",
       "      <td>2.0</td>\n",
       "      <td>0.019824</td>\n",
       "      <td>3.689297e-07</td>\n",
       "      <td>0.020254</td>\n",
       "      <td>0.019395</td>\n",
       "      <td>0.000859</td>\n",
       "    </tr>\n",
       "    <tr>\n",
       "      <th>1</th>\n",
       "      <td>0</td>\n",
       "      <td>0.061095</td>\n",
       "      <td>1794259</td>\n",
       "      <td>2.0</td>\n",
       "      <td>0.683899</td>\n",
       "      <td>0.000331</td>\n",
       "      <td>0.69676</td>\n",
       "      <td>0.671037</td>\n",
       "      <td>0.025723</td>\n",
       "      <td>3.0</td>\n",
       "      <td>0.016877</td>\n",
       "      <td>1.622309e-04</td>\n",
       "      <td>0.031585</td>\n",
       "      <td>0.009524</td>\n",
       "      <td>0.022061</td>\n",
       "    </tr>\n",
       "    <tr>\n",
       "      <th>2</th>\n",
       "      <td>0</td>\n",
       "      <td>0.028804</td>\n",
       "      <td>1179111</td>\n",
       "      <td>NaN</td>\n",
       "      <td>NaN</td>\n",
       "      <td>NaN</td>\n",
       "      <td>NaN</td>\n",
       "      <td>NaN</td>\n",
       "      <td>NaN</td>\n",
       "      <td>NaN</td>\n",
       "      <td>NaN</td>\n",
       "      <td>NaN</td>\n",
       "      <td>NaN</td>\n",
       "      <td>NaN</td>\n",
       "      <td>NaN</td>\n",
       "    </tr>\n",
       "  </tbody>\n",
       "</table>\n",
       "</div>"
      ],
      "text/plain": [
       "   clicked  FTRL_Prob  document_id  ...   top_max   top_min  top_scale\n",
       "0        0   0.024446       379743  ...  0.020254  0.019395   0.000859\n",
       "1        0   0.061095      1794259  ...  0.031585  0.009524   0.022061\n",
       "2        0   0.028804      1179111  ...       NaN       NaN        NaN\n",
       "\n",
       "[3 rows x 15 columns]"
      ]
     },
     "execution_count": 4,
     "metadata": {
      "tags": []
     },
     "output_type": "execute_result"
    }
   ],
   "source": [
    "train.head(3)"
   ]
  },
  {
   "cell_type": "code",
   "execution_count": 5,
   "metadata": {
    "id": "DqfR_OFb04ld"
   },
   "outputs": [],
   "source": [
    "X_train, X_val= train_test_split(\n",
    "    train,\n",
    "    test_size = 0.15,\n",
    "    stratify = train['clicked']\n",
    ")"
   ]
  },
  {
   "cell_type": "code",
   "execution_count": 6,
   "metadata": {
    "colab": {
     "base_uri": "https://localhost:8080/"
    },
    "id": "DK3doXUO6EaG",
    "outputId": "e5949bf7-c82c-4fd6-b8ac-cf307b264c71"
   },
   "outputs": [
    {
     "data": {
      "text/plain": [
       "Index(['clicked', 'FTRL_Prob', 'document_id', 'ent_count', 'ent_mean',\n",
       "       'ent_var', 'ent_max', 'ent_min', 'ent_scale', 'top_count', 'top_mean',\n",
       "       'top_var', 'top_max', 'top_min', 'top_scale'],\n",
       "      dtype='object')"
      ]
     },
     "execution_count": 6,
     "metadata": {
      "tags": []
     },
     "output_type": "execute_result"
    }
   ],
   "source": [
    "X_train.columns"
   ]
  },
  {
   "cell_type": "code",
   "execution_count": 7,
   "metadata": {
    "id": "ARu7oYIQ6EXo"
   },
   "outputs": [],
   "source": [
    "d_train=lgb.Dataset(X_train.drop(['clicked'], axis=1), label=X_train['clicked'])\n",
    "d_val=lgb.Dataset(X_val.drop(['clicked'], axis=1), label=X_val['clicked'])\n",
    "#setting up the parameters\n",
    "params={}\n",
    "params['learning_rate']=0.3\n",
    "params['boosting_type']='gbdt' #GradientBoostingDecisionTree\n",
    "params['objective']='binary' #Multi-class target feature\n",
    "params['metric']='binary' #metric for multi-class\n",
    "params['max_depth']=15\n",
    "params['feature_fraction'] = 0.9 # sub_row\n",
    "params['bagging_fraction'] = 0.9 \n",
    "params['bagging_freq'] = 15\n",
    "params['num_leaves'] = 50        # num_leaf\n",
    "params['min_data'] = 100         # min_data_in_leaf\n",
    "#params['device'] = 'gpu'         # min_data_in_leaf\n",
    "watchlist = [d_val]"
   ]
  },
  {
   "cell_type": "code",
   "execution_count": 8,
   "metadata": {
    "id": "bp6GjuNd6wTE"
   },
   "outputs": [],
   "source": [
    "del train,X_train"
   ]
  },
  {
   "cell_type": "code",
   "execution_count": 9,
   "metadata": {
    "colab": {
     "base_uri": "https://localhost:8080/"
    },
    "id": "z9YWHUJN6EVX",
    "outputId": "eea319ee-ba37-4f7f-c0e0-65c9f5f988ba"
   },
   "outputs": [
    {
     "name": "stderr",
     "output_type": "stream",
     "text": [
      "/usr/local/lib/python3.7/dist-packages/lightgbm/basic.py:1209: UserWarning: categorical_feature in Dataset is overridden.\n",
      "New categorical_feature is ['document_id']\n",
      "  'New categorical_feature is {}'.format(sorted(list(categorical_feature))))\n",
      "/usr/local/lib/python3.7/dist-packages/lightgbm/basic.py:762: UserWarning: categorical_feature in param dict is overridden.\n",
      "  warnings.warn('categorical_feature in param dict is overridden.')\n"
     ]
    },
    {
     "name": "stdout",
     "output_type": "stream",
     "text": [
      "[1]\tvalid_0's binary_logloss: 0.475209\n",
      "Training until validation scores don't improve for 10 rounds.\n",
      "[2]\tvalid_0's binary_logloss: 0.469437\n",
      "[3]\tvalid_0's binary_logloss: 0.465692\n",
      "[4]\tvalid_0's binary_logloss: 0.381445\n",
      "[5]\tvalid_0's binary_logloss: 0.331491\n",
      "[6]\tvalid_0's binary_logloss: 0.300083\n",
      "[7]\tvalid_0's binary_logloss: 0.279603\n",
      "[8]\tvalid_0's binary_logloss: 0.266094\n",
      "[9]\tvalid_0's binary_logloss: 0.257034\n",
      "[10]\tvalid_0's binary_logloss: 0.251286\n",
      "[11]\tvalid_0's binary_logloss: 0.24686\n",
      "[12]\tvalid_0's binary_logloss: 0.243838\n",
      "[13]\tvalid_0's binary_logloss: 0.241743\n",
      "[14]\tvalid_0's binary_logloss: 0.240192\n",
      "[15]\tvalid_0's binary_logloss: 0.239057\n",
      "[16]\tvalid_0's binary_logloss: 0.238161\n",
      "[17]\tvalid_0's binary_logloss: 0.237449\n",
      "[18]\tvalid_0's binary_logloss: 0.236924\n",
      "[19]\tvalid_0's binary_logloss: 0.236728\n",
      "[20]\tvalid_0's binary_logloss: 0.236299\n",
      "[21]\tvalid_0's binary_logloss: 0.236192\n",
      "[22]\tvalid_0's binary_logloss: 0.236087\n",
      "[23]\tvalid_0's binary_logloss: 0.235744\n",
      "[24]\tvalid_0's binary_logloss: 0.23554\n",
      "[25]\tvalid_0's binary_logloss: 0.235323\n",
      "[26]\tvalid_0's binary_logloss: 0.235242\n",
      "[27]\tvalid_0's binary_logloss: 0.235096\n",
      "[28]\tvalid_0's binary_logloss: 0.23499\n",
      "[29]\tvalid_0's binary_logloss: 0.234902\n",
      "[30]\tvalid_0's binary_logloss: 0.234812\n",
      "[31]\tvalid_0's binary_logloss: 0.23473\n",
      "[32]\tvalid_0's binary_logloss: 0.234677\n",
      "[33]\tvalid_0's binary_logloss: 0.234601\n",
      "[34]\tvalid_0's binary_logloss: 0.234524\n",
      "[35]\tvalid_0's binary_logloss: 0.234459\n",
      "[36]\tvalid_0's binary_logloss: 0.234402\n",
      "[37]\tvalid_0's binary_logloss: 0.23429\n",
      "[38]\tvalid_0's binary_logloss: 0.234217\n",
      "[39]\tvalid_0's binary_logloss: 0.234162\n",
      "[40]\tvalid_0's binary_logloss: 0.234109\n",
      "[41]\tvalid_0's binary_logloss: 0.234025\n",
      "[42]\tvalid_0's binary_logloss: 0.233974\n",
      "[43]\tvalid_0's binary_logloss: 0.233931\n",
      "[44]\tvalid_0's binary_logloss: 0.233884\n",
      "[45]\tvalid_0's binary_logloss: 0.233841\n",
      "[46]\tvalid_0's binary_logloss: 0.233784\n",
      "[47]\tvalid_0's binary_logloss: 0.23376\n",
      "[48]\tvalid_0's binary_logloss: 0.233726\n",
      "[49]\tvalid_0's binary_logloss: 0.233688\n",
      "[50]\tvalid_0's binary_logloss: 0.23366\n",
      "[51]\tvalid_0's binary_logloss: 0.233636\n",
      "[52]\tvalid_0's binary_logloss: 0.233597\n",
      "[53]\tvalid_0's binary_logloss: 0.233574\n",
      "[54]\tvalid_0's binary_logloss: 0.233544\n",
      "[55]\tvalid_0's binary_logloss: 0.233513\n",
      "[56]\tvalid_0's binary_logloss: 0.233491\n",
      "[57]\tvalid_0's binary_logloss: 0.233468\n",
      "[58]\tvalid_0's binary_logloss: 0.233423\n",
      "[59]\tvalid_0's binary_logloss: 0.233395\n",
      "[60]\tvalid_0's binary_logloss: 0.233368\n",
      "[61]\tvalid_0's binary_logloss: 0.233345\n",
      "[62]\tvalid_0's binary_logloss: 0.233321\n",
      "[63]\tvalid_0's binary_logloss: 0.233301\n",
      "[64]\tvalid_0's binary_logloss: 0.233281\n",
      "[65]\tvalid_0's binary_logloss: 0.233251\n",
      "[66]\tvalid_0's binary_logloss: 0.233225\n",
      "[67]\tvalid_0's binary_logloss: 0.233167\n",
      "[68]\tvalid_0's binary_logloss: 0.233135\n",
      "[69]\tvalid_0's binary_logloss: 0.233095\n",
      "[70]\tvalid_0's binary_logloss: 0.233075\n",
      "[71]\tvalid_0's binary_logloss: 0.233055\n",
      "[72]\tvalid_0's binary_logloss: 0.233021\n",
      "[73]\tvalid_0's binary_logloss: 0.233\n",
      "[74]\tvalid_0's binary_logloss: 0.232981\n",
      "[75]\tvalid_0's binary_logloss: 0.232969\n",
      "[76]\tvalid_0's binary_logloss: 0.23295\n",
      "[77]\tvalid_0's binary_logloss: 0.232934\n",
      "[78]\tvalid_0's binary_logloss: 0.232922\n",
      "[79]\tvalid_0's binary_logloss: 0.232909\n",
      "[80]\tvalid_0's binary_logloss: 0.232891\n",
      "[81]\tvalid_0's binary_logloss: 0.232882\n",
      "[82]\tvalid_0's binary_logloss: 0.232866\n",
      "[83]\tvalid_0's binary_logloss: 0.232858\n",
      "[84]\tvalid_0's binary_logloss: 0.232851\n",
      "[85]\tvalid_0's binary_logloss: 0.232837\n",
      "[86]\tvalid_0's binary_logloss: 0.232831\n",
      "[87]\tvalid_0's binary_logloss: 0.232818\n",
      "[88]\tvalid_0's binary_logloss: 0.232804\n",
      "[89]\tvalid_0's binary_logloss: 0.232783\n",
      "[90]\tvalid_0's binary_logloss: 0.232777\n",
      "[91]\tvalid_0's binary_logloss: 0.232765\n",
      "[92]\tvalid_0's binary_logloss: 0.232757\n",
      "[93]\tvalid_0's binary_logloss: 0.232746\n",
      "[94]\tvalid_0's binary_logloss: 0.232738\n",
      "[95]\tvalid_0's binary_logloss: 0.232719\n",
      "[96]\tvalid_0's binary_logloss: 0.232708\n",
      "[97]\tvalid_0's binary_logloss: 0.232697\n",
      "[98]\tvalid_0's binary_logloss: 0.232691\n",
      "[99]\tvalid_0's binary_logloss: 0.232685\n",
      "[100]\tvalid_0's binary_logloss: 0.23267\n",
      "[101]\tvalid_0's binary_logloss: 0.232653\n",
      "[102]\tvalid_0's binary_logloss: 0.232641\n",
      "[103]\tvalid_0's binary_logloss: 0.232809\n",
      "[104]\tvalid_0's binary_logloss: 0.23268\n",
      "[105]\tvalid_0's binary_logloss: 0.23267\n",
      "[106]\tvalid_0's binary_logloss: 0.232663\n",
      "[107]\tvalid_0's binary_logloss: 0.232656\n",
      "[108]\tvalid_0's binary_logloss: 0.232646\n",
      "[109]\tvalid_0's binary_logloss: 0.232641\n",
      "[110]\tvalid_0's binary_logloss: 0.232634\n",
      "[111]\tvalid_0's binary_logloss: 0.23294\n",
      "[112]\tvalid_0's binary_logloss: 0.233\n",
      "[113]\tvalid_0's binary_logloss: 0.232735\n",
      "[114]\tvalid_0's binary_logloss: 0.233083\n",
      "[115]\tvalid_0's binary_logloss: 0.232764\n",
      "[116]\tvalid_0's binary_logloss: 0.232706\n",
      "[117]\tvalid_0's binary_logloss: 0.232688\n",
      "[118]\tvalid_0's binary_logloss: 0.233186\n",
      "[119]\tvalid_0's binary_logloss: 0.233683\n",
      "[120]\tvalid_0's binary_logloss: 0.233574\n",
      "Early stopping, best iteration is:\n",
      "[110]\tvalid_0's binary_logloss: 0.232634\n"
     ]
    }
   ],
   "source": [
    "clfer = lgb.train(params, d_train, 20000\n",
    "                  ,watchlist\n",
    "                  ,categorical_feature = ['document_id']\n",
    "                  ,early_stopping_rounds=10)"
   ]
  },
  {
   "cell_type": "code",
   "execution_count": 10,
   "metadata": {
    "id": "HzTGAnd06ES_"
   },
   "outputs": [],
   "source": [
    "val_pred_prob = clfer.predict(X_val.drop(['clicked'], axis=1))"
   ]
  },
  {
   "cell_type": "code",
   "execution_count": 11,
   "metadata": {
    "id": "lFjfS_td6EQH"
   },
   "outputs": [],
   "source": [
    "val_pred = np.where(val_pred_prob>0.296 ,1, 0)"
   ]
  },
  {
   "cell_type": "code",
   "execution_count": 12,
   "metadata": {
    "colab": {
     "base_uri": "https://localhost:8080/"
    },
    "id": "a6N3crUK8Q55",
    "outputId": "1eb91391-d430-48c6-d0ff-9dd26cef787c"
   },
   "outputs": [
    {
     "name": "stdout",
     "output_type": "stream",
     "text": [
      "pre: 0.8787338822362103 \n",
      "re: 0.8613922236338266 \n",
      "f1: 0.8699766416335424\n"
     ]
    }
   ],
   "source": [
    "pre = metrics.precision_score(X_val['clicked'], val_pred)\n",
    "re = metrics.recall_score(X_val['clicked'], val_pred)\n",
    "f1 = metrics.f1_score(X_val['clicked'], val_pred)\n",
    "print('pre:',pre,'\\n' \n",
    "      're:',re,'\\n' \n",
    "      'f1:', f1)"
   ]
  },
  {
   "cell_type": "code",
   "execution_count": 13,
   "metadata": {
    "colab": {
     "base_uri": "https://localhost:8080/",
     "height": 575
    },
    "id": "FatyAmAw8YDz",
    "outputId": "1399fea9-8973-4c2c-fe21-c2ebd2b6561c"
   },
   "outputs": [
    {
     "data": {
      "text/plain": [
       "<matplotlib.axes._subplots.AxesSubplot at 0x7f19c5b2a490>"
      ]
     },
     "execution_count": 13,
     "metadata": {
      "tags": []
     },
     "output_type": "execute_result"
    },
    {
     "data": {
      "image/png": "[encoded data removed]",
      "text/plain": [
       "<Figure size 1800x864 with 1 Axes>"
      ]
     },
     "metadata": {
      "needs_background": "light",
      "tags": []
     },
     "output_type": "display_data"
    }
   ],
   "source": [
    "import matplotlib.pyplot as plt\n",
    "\n",
    "plt.rcParams[\"figure.figsize\"]=(25,12)\n",
    "plt.rcParams.update({\"font.size\":22})\n",
    "lgb.plot_importance(clfer)"
   ]
  }
 ],
 "metadata": {
  "colab": {
   "collapsed_sections": [],
   "name": "Ethan_OutBrain_LightGBM_Sampling&Training.ipynb",
   "provenance": []
  },
  "kernelspec": {
   "display_name": "Python 3",
   "language": "python",
   "name": "python3"
  },
  "language_info": {
   "codemirror_mode": {
    "name": "ipython",
    "version": 3
   },
   "file_extension": ".py",
   "mimetype": "text/x-python",
   "name": "python",
   "nbconvert_exporter": "python",
   "pygments_lexer": "ipython3",
   "version": "3.8.5"
  }
 },
 "nbformat": 4,
 "nbformat_minor": 1
}
